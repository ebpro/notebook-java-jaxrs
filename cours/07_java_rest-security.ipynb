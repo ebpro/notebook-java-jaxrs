{
 "cells": [
  {
   "cell_type": "markdown",
   "id": "ffb281d3-0856-4232-a65a-f1ca238c1501",
   "metadata": {},
   "source": [
    "---\n",
    "  title: \"RestFull 07: Sécurité\"\n",
    "  description: \"SSL and JSON Web Token.\"\n",
    "  categories: \n",
    "    - Java\n",
    "    - Lecture\n",
    "    - RestFull\n",
    "---\n"
   ]
  },
  {
   "cell_type": "code",
   "execution_count": 1,
   "id": "a28cffc4",
   "metadata": {
    "vscode": {
     "languageId": "java"
    }
   },
   "outputs": [
    {
     "name": "stdout",
     "output_type": "stream",
     "text": [
      "$ git fetch\n"
     ]
    },
    {
     "name": "stdout",
     "output_type": "stream",
     "text": [
      "\n"
     ]
    },
    {
     "name": "stdout",
     "output_type": "stream",
     "text": [
      "$ git reset --mixed\n"
     ]
    },
    {
     "name": "stdout",
     "output_type": "stream",
     "text": [
      "\n"
     ]
    },
    {
     "name": "stdout",
     "output_type": "stream",
     "text": [
      "$ git -c user.email=nbgitpuller@nbgitpuller.link -c user.name=nbgitpuller merge -Xours origin/develop\n"
     ]
    },
    {
     "name": "stdout",
     "output_type": "stream",
     "text": [
      "\n"
     ]
    },
    {
     "name": "stdout",
     "output_type": "stream",
     "text": [
      "Already up to date.\n"
     ]
    },
    {
     "name": "stdout",
     "output_type": "stream",
     "text": [
      "\n"
     ]
    },
    {
     "name": "stdout",
     "output_type": "stream",
     "text": [
      "[ERROR] Failed to execute goal org.apache.maven.plugins:maven-compiler-plugin:3.8.1:compile (default-compile) on project sample-jaxrs: Fatal error compiling: java.lang.NoSuchFieldError: Class com.sun.tools.javac.tree.JCTree$JCImport does not have member field 'com.sun.tools.javac.tree.JCTree qualid' -> [Help 1]\n"
     ]
    },
    {
     "name": "stdout",
     "output_type": "stream",
     "text": [
      "[ERROR] \n"
     ]
    },
    {
     "name": "stdout",
     "output_type": "stream",
     "text": [
      "[ERROR] To see the full stack trace of the errors, re-run Maven with the -e switch.\n"
     ]
    },
    {
     "name": "stdout",
     "output_type": "stream",
     "text": [
      "[ERROR] Re-run Maven using the -X switch to enable full debug logging.\n"
     ]
    },
    {
     "name": "stdout",
     "output_type": "stream",
     "text": [
      "[ERROR] \n"
     ]
    },
    {
     "name": "stdout",
     "output_type": "stream",
     "text": [
      "[ERROR] For more information about the errors and possible solutions, please read the following articles:\n"
     ]
    },
    {
     "name": "stdout",
     "output_type": "stream",
     "text": [
      "[ERROR] [Help 1] http://cwiki.apache.org/confluence/display/MAVEN/MojoExecutionException\n"
     ]
    },
    {
     "data": {
      "text/plain": [
       "\u001b[36mIJava.getKernelInstance().getMag...\u001b[0m: 1"
      ]
     },
     "execution_count": 1,
     "metadata": {},
     "output_type": "execute_result"
    }
   ],
   "source": [
    "//| output: false\n",
    "//| echo: false\n",
    "\n",
    "%printWithName false\n",
    "    \n",
    "// UPDATE SAMPLE SOURCE CODE\n",
    "\n",
    "String script=\"\"\"\n",
    "GITHUB_REPO=ebpro/sample-jaxrs\n",
    "GITHUB_URL=https://github.com/${GITHUB_REPO}\n",
    "BRANCH=develop\n",
    "SRC_DIR=/home/jovyan/work/src/github/${GITHUB_REPO}\n",
    "gitpuller ${GITHUB_URL} ${BRANCH} ${SRC_DIR}\n",
    "cd ${SRC_DIR}\n",
    "mvn --quiet clean package\n",
    "\"\"\";\n",
    "IJava.getKernelInstance().getMagics().applyCellMagic(\"shell\",List.of(\"\"),script);  "
   ]
  },
  {
   "cell_type": "code",
   "execution_count": 2,
   "id": "dd26e4c4",
   "metadata": {
    "vscode": {
     "languageId": "java"
    }
   },
   "outputs": [
    {
     "ename": "CompilationException",
     "evalue": "",
     "output_type": "error",
     "traceback": [
      "\u001b[1m\u001b[30m|   \u001b[1m\u001b[30mimport \u001b[0m\u001b[1m\u001b[30m\u001b[41morg.glassfish.grizzly.http.server.HttpServer\u001b[0m\u001b[1m\u001b[30m;\u001b[0m",
      "\u001b[1m\u001b[31mpackage org.glassfish.grizzly.http.server does not exist\u001b[0m",
      ""
     ]
    }
   ],
   "source": [
    "//| output: false\n",
    "//| echo: false\n",
    "%jars \"/home/jovyan/work/src/github/ebpro/sample-jaxrs/target/sample-jaxrs-*-withdependencies.jar\"; \n",
    "import org.glassfish.grizzly.http.server.HttpServer;\n",
    "import fr.univtln.bruno.samples.jaxrs.server.BiblioServer;"
   ]
  },
  {
   "cell_type": "markdown",
   "id": "18d535f8",
   "metadata": {},
   "source": [
    "\n",
    "Pour assurer la sécurité d'une API REST, la première chose à faire est d'assurer la confidentialité. Pour cela, il faut utiliser HTTPS qui utilise TLS pour permettre de valider l'identité du serveur et pour garantir la confidentialité et l'intégrité des données échangées en utilisant des certificats. \n",
    "\n",
    "Pour mettre cela en place, il est possible d'utiliser un \"reverse proxy\" (par exemple [nginx](https://docs.nginx.com/nginx/admin-guide/web-server/reverse-proxy/]) qui lui sera sécurisé et servira de facade, le serveur REST n'étant jamais accessible autrement.\n",
    "\n",
    "L'autre solution est de sécuriser les serveurs web (dans notre exemple Java, Grizzly). Pour cela, il faut idéalement se procurer des certificats pour le serveurs signés par une autorité reconnue. Nous utiliserons ici des certificats auto-signés dans un but de démonstration uniquement.\n",
    "\n",
    "Le certificat du serveur est habituellement généré avec openssl, ici nous utilisons maven (`keytool-maven-plugin`) pour le générer automatiquement s'il n'existe pas déjà dans le répertoire `/src/jaxrs/sample-jaxrs/src/main/resources/ssl/`. Le certificat est automatiquement ajouté à un keystore Java dans le même répertoire (cert.jks).  \n",
    "\n",
    "Le serveur Grizzly est en écoute avec HTTP sur le port 9998 et en HTTPS sur le port 4443.\n",
    "\n",
    "Cette méthode ajoute aussi le support de HTTP2 qui améliore grandement les performances."
   ]
  },
  {
   "cell_type": "markdown",
   "id": "90026849-8edd-4449-87a1-710cebc61f71",
   "metadata": {},
   "source": [
    "### TLS avec Grizzly"
   ]
  },
  {
   "cell_type": "code",
   "execution_count": 3,
   "id": "f31afdfc-7ab1-4333-bb1f-029a549bb75b",
   "metadata": {
    "vscode": {
     "languageId": "java"
    }
   },
   "outputs": [
    {
     "data": {
      "text/markdown": [
       "```Java\n",
       "/**\n",
       " * Adds a https (TLS) listener to secure connexion and adds http2 on this protocol.\n",
       " * @param httpServer\n",
       " * @return\n",
       " * @throws IOException\n",
       " */\n",
       "public static HttpServer addTLSandHTTP2(HttpServer httpServer) throws IOException {\n",
       "    // <<\n",
       "    NetworkListener listener = new // <<\n",
       "    NetworkListener(// <<\n",
       "    \"TLS\", // <<\n",
       "    NetworkListener.DEFAULT_NETWORK_HOST, // <<\n",
       "    TLS_PORT);\n",
       "    // <<\n",
       "    listener.setSecure(true);\n",
       "    // We add the certificate stored in a java keystore in src/main/resources/ssl\n",
       "    // By default a self signed certificate is generated by maven (see pom.xml)\n",
       "    // <2>\n",
       "    SSLContextConfigurator sslContextConfigurator = new SSLContextConfigurator();\n",
       "    // <2>\n",
       "    sslContextConfigurator.setKeyStoreBytes(// <2>\n",
       "    BiblioServer.class.getResourceAsStream(\"/ssl/cert.jks\").readAllBytes());\n",
       "    // <2>\n",
       "    sslContextConfigurator.setKeyStorePass(\"storepass\");\n",
       "    // <3>\n",
       "    listener.setSSLEngineConfig(// <3>\n",
       "    new SSLEngineConfigurator(sslContextConfigurator, false, false, false));\n",
       "    // Create default HTTP/2 configuration and provide it to the AddOn\n",
       "    Http2Configuration configuration = Http2Configuration.builder().build();\n",
       "    Http2AddOn http2Addon = new Http2AddOn(configuration);\n",
       "    // Register the Addon.\n",
       "    listener.registerAddOn(http2Addon);\n",
       "    httpServer.addListener(listener);\n",
       "    return httpServer;\n",
       "}\n",
       "```"
      ],
      "text/plain": [
       "```Java\n",
       "/**\n",
       " * Adds a https (TLS) listener to secure connexion and adds http2 on this protocol.\n",
       " * @param httpServer\n",
       " * @return\n",
       " * @throws IOException\n",
       " */\n",
       "public static HttpServer addTLSandHTTP2(HttpServer httpServer) throws IOException {\n",
       "    // <<\n",
       "    NetworkListener listener = new // <<\n",
       "    NetworkListener(// <<\n",
       "    \"TLS\", // <<\n",
       "    NetworkListener.DEFAULT_NETWORK_HOST, // <<\n",
       "    TLS_PORT);\n",
       "    // <<\n",
       "    listener.setSecure(true);\n",
       "    // We add the certificate stored in a java keystore in src/main/resources/ssl\n",
       "    // By default a self signed certificate is generated by maven (see pom.xml)\n",
       "    // <2>\n",
       "    SSLContextConfigurator sslContextConfigurator = new SSLContextConfigurator();\n",
       "    // <2>\n",
       "    sslContextConfigurator.setKeyStoreBytes(// <2>\n",
       "    BiblioServer.class.getResourceAsStream(\"/ssl/cert.jks\").readAllBytes());\n",
       "    // <2>\n",
       "    sslContextConfigurator.setKeyStorePass(\"storepass\");\n",
       "    // <3>\n",
       "    listener.setSSLEngineConfig(// <3>\n",
       "    new SSLEngineConfigurator(sslContextConfigurator, false, false, false));\n",
       "    // Create default HTTP/2 configuration and provide it to the AddOn\n",
       "    Http2Configuration configuration = Http2Configuration.builder().build();\n",
       "    Http2AddOn http2Addon = new Http2AddOn(configuration);\n",
       "    // Register the Addon.\n",
       "    listener.registerAddOn(http2Addon);\n",
       "    httpServer.addListener(listener);\n",
       "    return httpServer;\n",
       "}\n",
       "```"
      ]
     },
     "metadata": {},
     "output_type": "display_data"
    }
   ],
   "source": [
    "//| output: true\n",
    "//| echo: false\n",
    "// PRINT CLASS\n",
    "String script=\"/home/jovyan/work/src/samples/sample-jaxrs/src/main/java/fr/univtln/bruno/samples/jaxrs/server/BiblioServer.java\";\n",
    "IJava.getKernelInstance().getMagics().applyCellMagic(\"javasrcMethodByName\",List.of(\"BiblioServer\",\"addTLSandHTTP2\"),script);\n",
    "return null;"
   ]
  },
  {
   "cell_type": "markdown",
   "id": "845377e3-c5b3-4b9e-bf82-c23e52e2b37d",
   "metadata": {},
   "source": [
    "On commence donc par activer TLS. On en profite pour activer aussi le support de HTTP2."
   ]
  },
  {
   "cell_type": "code",
   "execution_count": 4,
   "id": "52374dd5-ec43-49bd-b3d8-780fa8744668",
   "metadata": {
    "vscode": {
     "languageId": "java"
    }
   },
   "outputs": [
    {
     "ename": "CompilationException",
     "evalue": "",
     "output_type": "error",
     "traceback": [
      "\u001b[1m\u001b[30m|   \u001b[1m\u001b[30mimport \u001b[0m\u001b[1m\u001b[30m\u001b[41morg.glassfish.grizzly.http.server.HttpServer\u001b[0m\u001b[1m\u001b[30m;\u001b[0m",
      "\u001b[1m\u001b[31mpackage org.glassfish.grizzly.http.server does not exist\u001b[0m",
      ""
     ]
    }
   ],
   "source": [
    "//| output: false\n",
    "//| echo: false\n",
    "%jars \"/home/jovyan/work/src/github/ebpro/sample-jaxrs/target/sample-jaxrs-*-withdependencies.jar\"; \n",
    "import org.glassfish.grizzly.http.server.HttpServer;\n",
    "import fr.univtln.bruno.samples.jaxrs.server.BiblioServer;"
   ]
  },
  {
   "cell_type": "code",
   "execution_count": 5,
   "id": "3e717843",
   "metadata": {
    "vscode": {
     "languageId": "java"
    }
   },
   "outputs": [
    {
     "ename": "CompilationException",
     "evalue": "",
     "output_type": "error",
     "traceback": [
      "\u001b[1m\u001b[30m|   \u001b[1m\u001b[30m\u001b[0m\u001b[1m\u001b[30m\u001b[41mHttpServer\u001b[0m\u001b[1m\u001b[30m httpServer = BiblioServer.startServer();\u001b[0m",
      "\u001b[1m\u001b[31mcannot find symbol\u001b[0m",
      "\u001b[1m\u001b[31m  symbol:   class HttpServer\u001b[0m",
      "",
      "\u001b[1m\u001b[30m|   \u001b[1m\u001b[30mHttpServer httpServer = \u001b[0m\u001b[1m\u001b[30m\u001b[41mBiblioServer\u001b[0m\u001b[1m\u001b[30m.startServer();\u001b[0m",
      "\u001b[1m\u001b[31mcannot find symbol\u001b[0m",
      "\u001b[1m\u001b[31m  symbol:   variable BiblioServer\u001b[0m",
      ""
     ]
    }
   ],
   "source": [
    "HttpServer httpServer = BiblioServer.startServer();\n",
    "BiblioServer.addTLSandHTTP2(httpServer);"
   ]
  },
  {
   "cell_type": "markdown",
   "id": "0dfef6bd-805b-4f4f-a9a5-de0785b48e32",
   "metadata": {},
   "source": [
    "Pour tester les requêtes sécurisée avec un certificat autosigné il faut d'abord le télécharger (ici avec la commande curl). "
   ]
  },
  {
   "cell_type": "code",
   "execution_count": 6,
   "id": "f62e21be-219b-489a-aa4a-6f5470240719",
   "metadata": {
    "vscode": {
     "languageId": "java"
    }
   },
   "outputs": [
    {
     "name": "stderr",
     "output_type": "stream",
     "text": [
      "A0B9F79FFFFF0000:error:8000006F:system library:BIO_connect:Connection refused:crypto/bio/bio_sock2.c:114:calling connect()\n"
     ]
    },
    {
     "name": "stderr",
     "output_type": "stream",
     "text": [
      "A0B9F79FFFFF0000:error:10000067:BIO routines:BIO_connect:connect error:crypto/bio/bio_sock2.c:116:\n"
     ]
    },
    {
     "name": "stderr",
     "output_type": "stream",
     "text": [
      "A0B9F79FFFFF0000:error:8000006F:system library:BIO_connect:Connection refused:crypto/bio/bio_sock2.c:114:calling connect()\n"
     ]
    },
    {
     "name": "stderr",
     "output_type": "stream",
     "text": [
      "A0B9F79FFFFF0000:error:10000067:BIO routines:BIO_connect:connect error:crypto/bio/bio_sock2.c:116:\n"
     ]
    },
    {
     "name": "stderr",
     "output_type": "stream",
     "text": [
      "connect:errno=111\n"
     ]
    }
   ],
   "source": [
    "%%shell\n",
    "echo quit | \\\n",
    "    openssl s_client -showcerts \\\n",
    "        -servername localhost \\\n",
    "        -connect localhost:4443 >! /tmp/cacert.pem  "
   ]
  },
  {
   "cell_type": "markdown",
   "id": "fe8fadf2",
   "metadata": {},
   "source": [
    "\n",
    "Il sera ensuite utilisé pour valider l'indentité du serveur web."
   ]
  },
  {
   "cell_type": "code",
   "execution_count": 7,
   "id": "07f93968",
   "metadata": {
    "vscode": {
     "languageId": "java"
    }
   },
   "outputs": [],
   "source": [
    "%%shell\n",
    "curl --silent \\\n",
    "    --trace-ascii /tmp/trace-secure.txt \\\n",
    "    --http2 \\\n",
    "    --cacert /tmp/cacert.pem \\\n",
    "    https://localhost:4443/mylibrary/library"
   ]
  },
  {
   "cell_type": "markdown",
   "id": "71c669b1-3bfb-4345-ac19-55ce293d7479",
   "metadata": {},
   "source": [
    "### Authentification"
   ]
  },
  {
   "cell_type": "markdown",
   "id": "961d3618-f484-4389-a220-8eea52895275",
   "metadata": {},
   "source": [
    "Il faut mettre en place une gestion correcte des utilisateurs (login+mots de passe hashés correctement). Cela pourra être complété/remplacé par des certificats ou une délégation d'authentification.\n",
    "\n",
    "Dans cet example, nous utilisons une base de données d'utilisateurs en mémoire."
   ]
  },
  {
   "cell_type": "code",
   "execution_count": 8,
   "id": "0603e6f0-20f8-45e8-8e2e-af634a5640a7",
   "metadata": {
    "vscode": {
     "languageId": "java"
    }
   },
   "outputs": [
    {
     "ename": "CompilationException",
     "evalue": "",
     "output_type": "error",
     "traceback": [
      "\u001b[1m\u001b[30m|   \u001b[1m\u001b[30m\u001b[0m\u001b[1m\u001b[30m\u001b[41mfr.univtln.bruno.samples.jaxrs.security.InMemoryLoginModule.USER_DATABASE\u001b[0m\u001b[1m\u001b[30m.getUsers()\u001b[0m",
      "\u001b[1m\u001b[31mpackage fr.univtln.bruno.samples.jaxrs.security.InMemoryLoginModule does not exist\u001b[0m",
      ""
     ]
    }
   ],
   "source": [
    "fr.univtln.bruno.samples.jaxrs.security.InMemoryLoginModule.USER_DATABASE.getUsers()"
   ]
  },
  {
   "cell_type": "markdown",
   "id": "3e60dc2d-92e1-4d71-ae50-535c0fced59c",
   "metadata": {},
   "source": [
    "### Autorisation"
   ]
  },
  {
   "cell_type": "markdown",
   "id": "b1f1e3e1-aa13-4d09-a66f-c86f9120c26b",
   "metadata": {},
   "source": [
    "L'Autorisation est cruciale, elle peut s'appuyer un token qui est fourni par le système lors d'un login et a une durée de vie limitée.\n",
    "Ce token est envoyé avec chaque requête et le système lui attribue un ensemble de permission. \n",
    "\n",
    "Un autre approche est d'utiliser un token cryptographique qui contient ces informations et qui est signée par le serveur. \n",
    "\n",
    "Par exemple avec les [JSON Web Token - JWT](https://jwt.io/) qui présente en détail le processus type. \n",
    "\n",
    "Dans ces exemples, nous utiliserons la librairies Java  [JJWT](https://github.com/jwtk/jjwt).\n",
    "\n",
    "Voilà des exemples d'utilisations simples.\n",
    "\n",
    "**Accès refusé à une ressource sécurisée.**"
   ]
  },
  {
   "cell_type": "code",
   "execution_count": 9,
   "id": "156307be-34de-4233-81f3-4624908769a3",
   "metadata": {
    "vscode": {
     "languageId": "java"
    }
   },
   "outputs": [],
   "source": [
    "%%shell\n",
    "curl -s -i --http2 \\\n",
    "    --cacert /tmp/cacert.pem \\\n",
    "    -H \"Accept: application/json\" \\\n",
    "    https://localhost:4443/mylibrary/setup/secured"
   ]
  },
  {
   "cell_type": "markdown",
   "id": "157bde04-9829-40d7-8cfc-c6eeda5488fb",
   "metadata": {},
   "source": [
    "**Utilisation de la \"Basic Authentication\" pour obtenir un Java Web Token.**"
   ]
  },
  {
   "cell_type": "code",
   "execution_count": 10,
   "id": "547ff825-b066-4711-a65d-bbc7d32e3839",
   "metadata": {
    "vscode": {
     "languageId": "java"
    }
   },
   "outputs": [],
   "source": [
    "%%shell\n",
    "curl -s -s --http2 \\\n",
    "    --cacert /tmp/cacert.pem \\\n",
    "    --user \"john.doe@nowhere.com:admin\" \\\n",
    "    https://localhost:4443/mylibrary/setup/login"
   ]
  },
  {
   "cell_type": "markdown",
   "id": "184bf7bd-9113-4874-8cc7-48bce90dd34a",
   "metadata": {},
   "source": [
    "***Décodage d'un JWT***\n",
    "\n",
    "Il suffit de faire une requête rest et d'en obtenir un."
   ]
  },
  {
   "cell_type": "code",
   "execution_count": 11,
   "id": "ad8ef61f-8f64-429a-aec6-d3d8e80394b5",
   "metadata": {
    "vscode": {
     "languageId": "java"
    }
   },
   "outputs": [
    {
     "ename": "CompilationException",
     "evalue": "",
     "output_type": "error",
     "traceback": [
      "\u001b[1m\u001b[30m|   \u001b[1m\u001b[30mimport \u001b[0m\u001b[1m\u001b[30m\u001b[41mjakarta.ws.rs.client.Client\u001b[0m\u001b[1m\u001b[30m;\u001b[0m",
      "\u001b[1m\u001b[31mpackage jakarta.ws.rs.client does not exist\u001b[0m",
      ""
     ]
    }
   ],
   "source": [
    "//| output: false\n",
    "//| echo: false\n",
    "import jakarta.ws.rs.client.Client;\n",
    "import jakarta.ws.rs.client.WebTarget;\n",
    "import jakarta.ws.rs.client.ClientBuilder;"
   ]
  },
  {
   "cell_type": "code",
   "execution_count": 12,
   "id": "be3d7ed6",
   "metadata": {
    "vscode": {
     "languageId": "java"
    }
   },
   "outputs": [
    {
     "ename": "CompilationException",
     "evalue": "",
     "output_type": "error",
     "traceback": [
      "\u001b[1m\u001b[30m|   \u001b[1m\u001b[30m\u001b[0m\u001b[1m\u001b[30m\u001b[41mClient\u001b[0m\u001b[1m\u001b[30m client = ClientBuilder.newClient();\u001b[0m",
      "\u001b[1m\u001b[31mcannot find symbol\u001b[0m",
      "\u001b[1m\u001b[31m  symbol:   class Client\u001b[0m",
      "",
      "\u001b[1m\u001b[30m|   \u001b[1m\u001b[30mClient client = \u001b[0m\u001b[1m\u001b[30m\u001b[41mClientBuilder\u001b[0m\u001b[1m\u001b[30m.newClient();\u001b[0m",
      "\u001b[1m\u001b[31mcannot find symbol\u001b[0m",
      "\u001b[1m\u001b[31m  symbol:   variable ClientBuilder\u001b[0m",
      ""
     ]
    }
   ],
   "source": [
    "Client client = ClientBuilder.newClient();\n",
    "WebTarget webResource = client.target(\"http://localhost:9998/mylibrary\");\n",
    "String email = \"john.doe@nowhere.com\";\n",
    "String passwd = \"admin\";\n",
    "String token = webResource.path(\"setup/login\")\n",
    "                .request()\n",
    "//                .accept(MediaType.TEXT_PLAIN)\n",
    "                .header(\"Authorization\", \"Basic \" + java.util.Base64.getEncoder().encodeToString((email + \":\" + passwd).getBytes()))\n",
    "                .get(String.class);\n",
    "token;"
   ]
  },
  {
   "cell_type": "markdown",
   "id": "33b3e7be-fea9-4fce-9fa2-e5785af57712",
   "metadata": {},
   "source": [
    "puis en utilisant la clé publique (dans cette exemple simple ont y accède directement côté serveur), il est possible de vérifier les informations. Ici le choix a été fait d'utiliser une approche RBAC (Role Based Access Control) embarquée dans le token qui cumule donc authentification et autorisation. Cela rend le système très simple mais à comme conséquence de faire qu'un change de droit n'est appliqué qu'à la fin de la durée de vie du token."
   ]
  },
  {
   "cell_type": "code",
   "execution_count": 13,
   "id": "ff1b84bd-6cd3-473b-9e31-c766245b9061",
   "metadata": {
    "vscode": {
     "languageId": "java"
    }
   },
   "outputs": [
    {
     "ename": "CompilationException",
     "evalue": "",
     "output_type": "error",
     "traceback": [
      "\u001b[1m\u001b[30m|   \u001b[1m\u001b[30mimport \u001b[0m\u001b[1m\u001b[30m\u001b[41mio.jsonwebtoken.Claims\u001b[0m\u001b[1m\u001b[30m;\u001b[0m",
      "\u001b[1m\u001b[31mpackage io.jsonwebtoken does not exist\u001b[0m",
      ""
     ]
    }
   ],
   "source": [
    "//| output: false\n",
    "//| echo: false\n",
    "import io.jsonwebtoken.Claims;\n",
    "import io.jsonwebtoken.Jws;\n",
    "import io.jsonwebtoken.Jwts;\n",
    "\n",
    "import fr.univtln.bruno.samples.jaxrs.security.InMemoryLoginModule;\n"
   ]
  },
  {
   "cell_type": "code",
   "execution_count": 14,
   "id": "fb38a089",
   "metadata": {
    "vscode": {
     "languageId": "java"
    }
   },
   "outputs": [
    {
     "ename": "CompilationException",
     "evalue": "",
     "output_type": "error",
     "traceback": [
      "\u001b[1m\u001b[30m|   \u001b[1m\u001b[30m\u001b[0m\u001b[1m\u001b[30m\u001b[41mJws\u001b[0m\u001b[1m\u001b[30m<Claims> jws = Jwts.parserBuilder()\u001b[0m",
      "\u001b[1m\u001b[31mcannot find symbol\u001b[0m",
      "\u001b[1m\u001b[31m  symbol:   class Jws\u001b[0m",
      "",
      "\u001b[1m\u001b[30m|   \u001b[1m\u001b[30mJws<\u001b[0m\u001b[1m\u001b[30m\u001b[41mClaims\u001b[0m\u001b[1m\u001b[30m> jws = Jwts.parserBuilder()\u001b[0m",
      "\u001b[1m\u001b[31mcannot find symbol\u001b[0m",
      "\u001b[1m\u001b[31m  symbol:   class Claims\u001b[0m",
      "",
      "\u001b[1m\u001b[30m|   \u001b[1m\u001b[30m    .parseClaimsJws(\u001b[0m\u001b[1m\u001b[30m\u001b[41mtoken\u001b[0m\u001b[1m\u001b[30m);\u001b[0m",
      "\u001b[1m\u001b[31mcannot find symbol\u001b[0m",
      "\u001b[1m\u001b[31m  symbol:   variable token\u001b[0m",
      "",
      "\u001b[1m\u001b[30m|   \u001b[1m\u001b[30m    .setSigningKey(\u001b[0m\u001b[1m\u001b[30m\u001b[41mInMemoryLoginModule\u001b[0m\u001b[1m\u001b[30m.KEY)\u001b[0m",
      "\u001b[1m\u001b[31mcannot find symbol\u001b[0m",
      "\u001b[1m\u001b[31m  symbol:   variable InMemoryLoginModule\u001b[0m",
      "",
      "\u001b[1m\u001b[30m|   \u001b[1m\u001b[30mJws<Claims> jws = \u001b[0m\u001b[1m\u001b[30m\u001b[41mJwts\u001b[0m\u001b[1m\u001b[30m.parserBuilder()\u001b[0m",
      "\u001b[1m\u001b[31mcannot find symbol\u001b[0m",
      "\u001b[1m\u001b[31m  symbol:   variable Jwts\u001b[0m",
      ""
     ]
    }
   ],
   "source": [
    "Jws<Claims> jws = Jwts.parserBuilder()\n",
    "    .setSigningKey(InMemoryLoginModule.KEY)\n",
    "    .build()\n",
    "    .parseClaimsJws(token);\n",
    "    \n",
    "jws;"
   ]
  },
  {
   "cell_type": "markdown",
   "id": "e04d25b0-bbfd-482a-9b3b-0e2377aa64a1",
   "metadata": {},
   "source": [
    "**Utilisation d'un Java Web Token.**\n",
    "Le token peut donc être transmis au serveur qui le vérifie et l'utilise pour l'authentification voir l'autorisation.\n",
    "Ici l'accès à une ressource qui demande d'être user ou admin est autorisé à un admin."
   ]
  },
  {
   "cell_type": "code",
   "execution_count": 15,
   "id": "2a4588d9-41d8-49ca-9793-70c2cea33b8c",
   "metadata": {
    "vscode": {
     "languageId": "java"
    }
   },
   "outputs": [],
   "source": [
    "%%shell\n",
    "TOKEN=$(curl -s --http2 \\\n",
    "    --cacert /tmp/cacert.pem \\\n",
    "    --user \"john.doe@nowhere.com:admin\" \\\n",
    "    https://localhost:4443/mylibrary/setup/login)\n",
    "\n",
    "curl -s -i --http2 \\\n",
    "    --cacert /tmp/cacert.pem \\\n",
    "    -H \"Authorization: Bearer ${TOKEN}\" \\\n",
    "    https://localhost:4443/mylibrary/setup/secured"
   ]
  },
  {
   "cell_type": "markdown",
   "id": "7e0178c8-ea0f-4b45-87e5-4f218680beb2",
   "metadata": {},
   "source": [
    "tout comme l'accès à une ressource qui demande d'être admin est autorisé à un admin."
   ]
  },
  {
   "cell_type": "code",
   "execution_count": 16,
   "id": "7703cd69-8a8e-40fb-a2be-d19b573c1acb",
   "metadata": {
    "vscode": {
     "languageId": "java"
    }
   },
   "outputs": [],
   "source": [
    "%%shell\n",
    "TOKEN=$(curl -s --http2 \\\n",
    "    --cacert /tmp/cacert.pem \\\n",
    "    --user \"john.doe@nowhere.com:admin\" \\\n",
    "    https://localhost:4443/mylibrary/setup/login)\n",
    "\n",
    "curl -s -i --http2 \\\n",
    "    --cacert /tmp/cacert.pem \\\n",
    "    -H \"Authorization: Bearer ${TOKEN}\" \\\n",
    "    https://localhost:4443/mylibrary/setup/secured/admin       "
   ]
  },
  {
   "cell_type": "markdown",
   "id": "85484ae7-0290-4c36-ad99-898f3f1cac4d",
   "metadata": {},
   "source": [
    "L'accès à une ressource qui demande d'être user ou admin est autorisé à un user."
   ]
  },
  {
   "cell_type": "code",
   "execution_count": 17,
   "id": "517e8a6a-f1f5-48a0-a1e4-10c4feb14a31",
   "metadata": {
    "vscode": {
     "languageId": "java"
    }
   },
   "outputs": [],
   "source": [
    "%%shell\n",
    "TOKEN=$(curl -s --http2 \\\n",
    "    --cacert /tmp/cacert.pem \\\n",
    "    --user \"william.smith@here.net:user\" \\\n",
    "    https://localhost:4443/mylibrary/setup/login)\n",
    "\n",
    "curl -i -s --http2 \\\n",
    "    --cacert /tmp/cacert.pem \\\n",
    "    -H \"Authorization: Bearer ${TOKEN}\" \\\n",
    "    https://localhost:4443/mylibrary/setup/secured"
   ]
  },
  {
   "cell_type": "markdown",
   "id": "65cab865-7147-4ee9-8abb-7e9bd2055927",
   "metadata": {},
   "source": [
    "mais l'accès à une ressource qui demande d'être admin est refusée à un user."
   ]
  },
  {
   "cell_type": "code",
   "execution_count": 18,
   "id": "b21cda3b-fd6a-4062-b2d4-634168742a11",
   "metadata": {
    "vscode": {
     "languageId": "java"
    }
   },
   "outputs": [],
   "source": [
    "%%shell\n",
    "TOKEN=$(curl -s \\\n",
    "    --user \"william.smith@here.net:user\" \\\n",
    "    https://localhost:4443/mylibrary/setup/login)\n",
    "curl -s -i --http2 \\\n",
    "    --cacert /tmp/cacert.pem \\\n",
    "    -H \"Authorization: Bearer ${TOKEN}\" \\\n",
    "    https://localhost:4443/mylibrary/setup/secured/admin"
   ]
  },
  {
   "cell_type": "markdown",
   "id": "dada3166-b0cd-4ffc-a9f9-de3e22f33dd7",
   "metadata": {},
   "source": [
    "L'application exemple présente en détail comment un filtre JAX-RS et des annotations peuvent être utilisé pour appliquer une politique de contrôle d'accès."
   ]
  },
  {
   "cell_type": "code",
   "execution_count": 19,
   "id": "39ba3677",
   "metadata": {
    "vscode": {
     "languageId": "java"
    }
   },
   "outputs": [
    {
     "ename": "CompilationException",
     "evalue": "",
     "output_type": "error",
     "traceback": [
      "\u001b[1m\u001b[30m|   \u001b[1m\u001b[30m\u001b[0m\u001b[1m\u001b[30m\u001b[41mhttpServer\u001b[0m\u001b[1m\u001b[30m.stop();\u001b[0m",
      "\u001b[1m\u001b[31mcannot find symbol\u001b[0m",
      "\u001b[1m\u001b[31m  symbol:   variable httpServer\u001b[0m",
      ""
     ]
    }
   ],
   "source": [
    "//| output: false\n",
    "//| echo: false\n",
    "httpServer.stop();"
   ]
  }
 ],
 "metadata": {
  "kernelspec": {
   "display_name": "Java [conda env:root] *",
   "language": "java",
   "name": "conda-root-java"
  },
  "language_info": {
   "codemirror_mode": "java",
   "file_extension": ".jshell",
   "mimetype": "text/x-java-source",
   "name": "Java",
   "pygments_lexer": "java",
   "version": "21.0.2+13-LTS"
  }
 },
 "nbformat": 4,
 "nbformat_minor": 5
}
