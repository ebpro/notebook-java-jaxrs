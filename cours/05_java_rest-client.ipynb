{
 "cells": [
  {
   "cell_type": "markdown",
   "id": "5c8ad0e0-d239-42d1-80c1-a109e0da0afd",
   "metadata": {},
   "source": [
    "---\n",
    "  title: \"RestFull 05: API Client\"\n",
    "  description: \"REST Clients with Jakarta RESTful Web Services.\"\n",
    "  categories: \n",
    "    - Java\n",
    "    - Lecture\n",
    "    - RestFull\n",
    "---\n",
    "\n",
    "La classe `fr.univtln.bruno.samples.jaxrs.client.BiblioClient` présente un client qui utilise l'API fluent cliente pour construire des requêtes REST en Java."
   ]
  },
  {
   "cell_type": "code",
   "execution_count": 1,
   "id": "5370026b",
   "metadata": {
    "vscode": {
     "languageId": "java"
    }
   },
   "outputs": [
    {
     "name": "stdout",
     "output_type": "stream",
     "text": [
      "$ git fetch\n"
     ]
    },
    {
     "name": "stdout",
     "output_type": "stream",
     "text": [
      "\n"
     ]
    },
    {
     "name": "stdout",
     "output_type": "stream",
     "text": [
      "$ git reset --mixed\n"
     ]
    },
    {
     "name": "stdout",
     "output_type": "stream",
     "text": [
      "\n"
     ]
    },
    {
     "name": "stdout",
     "output_type": "stream",
     "text": [
      "$ git -c user.email=nbgitpuller@nbgitpuller.link -c user.name=nbgitpuller merge -Xours origin/develop\n"
     ]
    },
    {
     "name": "stdout",
     "output_type": "stream",
     "text": [
      "\n"
     ]
    },
    {
     "name": "stdout",
     "output_type": "stream",
     "text": [
      "Already up to date.\n"
     ]
    },
    {
     "name": "stdout",
     "output_type": "stream",
     "text": [
      "\n"
     ]
    },
    {
     "name": "stdout",
     "output_type": "stream",
     "text": [
      "[ERROR] Failed to execute goal org.apache.maven.plugins:maven-compiler-plugin:3.8.1:compile (default-compile) on project sample-jaxrs: Fatal error compiling: java.lang.NoSuchFieldError: Class com.sun.tools.javac.tree.JCTree$JCImport does not have member field 'com.sun.tools.javac.tree.JCTree qualid' -> [Help 1]\n"
     ]
    },
    {
     "name": "stdout",
     "output_type": "stream",
     "text": [
      "[ERROR] \n"
     ]
    },
    {
     "name": "stdout",
     "output_type": "stream",
     "text": [
      "[ERROR] To see the full stack trace of the errors, re-run Maven with the -e switch.\n"
     ]
    },
    {
     "name": "stdout",
     "output_type": "stream",
     "text": [
      "[ERROR] Re-run Maven using the -X switch to enable full debug logging.\n"
     ]
    },
    {
     "name": "stdout",
     "output_type": "stream",
     "text": [
      "[ERROR] \n"
     ]
    },
    {
     "name": "stdout",
     "output_type": "stream",
     "text": [
      "[ERROR] For more information about the errors and possible solutions, please read the following articles:\n"
     ]
    },
    {
     "name": "stdout",
     "output_type": "stream",
     "text": [
      "[ERROR] [Help 1] http://cwiki.apache.org/confluence/display/MAVEN/MojoExecutionException\n"
     ]
    },
    {
     "data": {
      "text/plain": [
       "\u001b[36mIJava.getKernelInstance().getMag...\u001b[0m: 1"
      ]
     },
     "execution_count": 1,
     "metadata": {},
     "output_type": "execute_result"
    }
   ],
   "source": [
    "//| output: false\n",
    "//| echo: false\n",
    "\n",
    "%printWithName false\n",
    "    \n",
    "// UPDATE SAMPLE SOURCE CODE\n",
    "\n",
    "String script=\"\"\"\n",
    "GITHUB_REPO=ebpro/sample-jaxrs\n",
    "GITHUB_URL=https://github.com/${GITHUB_REPO}\n",
    "BRANCH=develop\n",
    "SRC_DIR=/home/jovyan/work/src/github/${GITHUB_REPO}\n",
    "gitpuller ${GITHUB_URL} ${BRANCH} ${SRC_DIR}\n",
    "cd ${SRC_DIR}\n",
    "mvn --quiet clean package\n",
    "\"\"\";\n",
    "IJava.getKernelInstance().getMagics().applyCellMagic(\"shell\",List.of(\"\"),script);  "
   ]
  },
  {
   "cell_type": "code",
   "execution_count": 2,
   "id": "fe56ccab",
   "metadata": {
    "vscode": {
     "languageId": "java"
    }
   },
   "outputs": [
    {
     "ename": "CompilationException",
     "evalue": "",
     "output_type": "error",
     "traceback": [
      "\u001b[1m\u001b[30m|   \u001b[1m\u001b[30mimport \u001b[0m\u001b[1m\u001b[30m\u001b[41morg.glassfish.grizzly.http.server.HttpServer\u001b[0m\u001b[1m\u001b[30m;\u001b[0m",
      "\u001b[1m\u001b[31mpackage org.glassfish.grizzly.http.server does not exist\u001b[0m",
      ""
     ]
    }
   ],
   "source": [
    "//| output: false\n",
    "//| echo: false\n",
    "%jars \"/home/jovyan/work/src/github/ebpro/sample-jaxrs/target/sample-jaxrs-*-withdependencies.jar\"; \n",
    "import org.glassfish.grizzly.http.server.HttpServer;\n",
    "import fr.univtln.bruno.samples.jaxrs.server.BiblioServer;\n",
    "HttpServer httpServer = BiblioServer.startServer();\n",
    "httpServer.toString();"
   ]
  },
  {
   "cell_type": "code",
   "execution_count": 3,
   "id": "e2b2255f-3864-4f7e-97d2-fa8c5860577c",
   "metadata": {
    "vscode": {
     "languageId": "java"
    }
   },
   "outputs": [
    {
     "data": {
      "text/markdown": [
       "```Java\n",
       "@Log\n",
       "public class BiblioClient {\n",
       "    public static void main(String[] args) {\n",
       "        // create the rest client\n",
       "        Client client = ClientBuilder.newClient();\n",
       "        WebTarget webResource = client.target(\"http://localhost:9998/mylibrary\");\n",
       "\n",
       "        //Send a put with a String as response\n",
       "        String responseInitAsString = webResource.path(\"library/init\")\n",
       "                .request().put(Entity.entity(\"\", MediaType.TEXT_PLAIN), String.class);\n",
       "        log.info(responseInitAsString);\n",
       "\n",
       "        //Send a get and parse the response as a String\n",
       "        String responseAuteursAsJsonString = webResource.path(\"authors\")\n",
       "                .request().get(String.class);\n",
       "        log.info(responseAuteursAsJsonString);\n",
       "\n",
       "        //Idem but the result is deserialised to an instance of Auteur\n",
       "        Author author = webResource.path(\"authors/1\")\n",
       "                .request()\n",
       "                .get(Author.class);\n",
       "        log.info(author.toString());\n",
       "\n",
       "        //Log in to get the token with basci authentication\n",
       "        String email = \"john.doe@nowhere.com\";\n",
       "        String passwd = \"admin\";\n",
       "        String token = webResource.path(\"setup/login\")\n",
       "                .request()\n",
       "                .accept(MediaType.TEXT_PLAIN)\n",
       "                .header(\"Authorization\", \"Basic \" + java.util.Base64.getEncoder().encodeToString((email + \":\" + passwd).getBytes()))\n",
       "                .get(String.class);\n",
       "        if (!token.isBlank()) {\n",
       "            log.info(\"token received.\");\n",
       "            //We access a JWT protected URL with the token\n",
       "            String result = webResource.path(\"setup/secured\")\n",
       "                    .request()\n",
       "                    .header(\"Authorization\", \"Bearer \" + token)\n",
       "                    .get(String.class);\n",
       "\n",
       "            log.info(result);\n",
       "        }\n",
       "\n",
       "\n",
       "    }\n",
       "}\n",
       "```"
      ],
      "text/plain": [
       "```Java\n",
       "@Log\n",
       "public class BiblioClient {\n",
       "    public static void main(String[] args) {\n",
       "        // create the rest client\n",
       "        Client client = ClientBuilder.newClient();\n",
       "        WebTarget webResource = client.target(\"http://localhost:9998/mylibrary\");\n",
       "\n",
       "        //Send a put with a String as response\n",
       "        String responseInitAsString = webResource.path(\"library/init\")\n",
       "                .request().put(Entity.entity(\"\", MediaType.TEXT_PLAIN), String.class);\n",
       "        log.info(responseInitAsString);\n",
       "\n",
       "        //Send a get and parse the response as a String\n",
       "        String responseAuteursAsJsonString = webResource.path(\"authors\")\n",
       "                .request().get(String.class);\n",
       "        log.info(responseAuteursAsJsonString);\n",
       "\n",
       "        //Idem but the result is deserialised to an instance of Auteur\n",
       "        Author author = webResource.path(\"authors/1\")\n",
       "                .request()\n",
       "                .get(Author.class);\n",
       "        log.info(author.toString());\n",
       "\n",
       "        //Log in to get the token with basci authentication\n",
       "        String email = \"john.doe@nowhere.com\";\n",
       "        String passwd = \"admin\";\n",
       "        String token = webResource.path(\"setup/login\")\n",
       "                .request()\n",
       "                .accept(MediaType.TEXT_PLAIN)\n",
       "                .header(\"Authorization\", \"Basic \" + java.util.Base64.getEncoder().encodeToString((email + \":\" + passwd).getBytes()))\n",
       "                .get(String.class);\n",
       "        if (!token.isBlank()) {\n",
       "            log.info(\"token received.\");\n",
       "            //We access a JWT protected URL with the token\n",
       "            String result = webResource.path(\"setup/secured\")\n",
       "                    .request()\n",
       "                    .header(\"Authorization\", \"Bearer \" + token)\n",
       "                    .get(String.class);\n",
       "\n",
       "            log.info(result);\n",
       "        }\n",
       "\n",
       "\n",
       "    }\n",
       "}\n",
       "```"
      ]
     },
     "metadata": {},
     "output_type": "display_data"
    }
   ],
   "source": [
    "//| output: true\n",
    "//| echo: false\n",
    "// PRINT CLASS\n",
    "String script=\"/home/jovyan/work/src/github/ebpro/sample-jaxrs/src/main/java/fr/univtln/bruno/samples/jaxrs/client/BiblioClient.java\";\n",
    "IJava.getKernelInstance().getMagics().applyCellMagic(\"javasrcClassByName\",List.of(\"BiblioClient\"),script);\n",
    "return null;"
   ]
  },
  {
   "cell_type": "code",
   "execution_count": 4,
   "id": "25d3ab7e-cf51-4e31-96c6-bcda28d95adf",
   "metadata": {
    "vscode": {
     "languageId": "java"
    }
   },
   "outputs": [
    {
     "name": "stdout",
     "output_type": "stream",
     "text": [
      "[ERROR] Failed to execute goal org.codehaus.mojo:exec-maven-plugin:1.6.0:java (default-cli) on project sample-jaxrs: An exception occured while executing the Java class. fr.univtln.bruno.samples.jaxrs.client.BiblioClient -> [Help 1]\n"
     ]
    },
    {
     "name": "stdout",
     "output_type": "stream",
     "text": [
      "[ERROR] \n"
     ]
    },
    {
     "name": "stdout",
     "output_type": "stream",
     "text": [
      "[ERROR] To see the full stack trace of the errors, re-run Maven with the -e switch.\n"
     ]
    },
    {
     "name": "stdout",
     "output_type": "stream",
     "text": [
      "[ERROR] Re-run Maven using the -X switch to enable full debug logging.\n"
     ]
    },
    {
     "name": "stdout",
     "output_type": "stream",
     "text": [
      "[ERROR] \n"
     ]
    },
    {
     "name": "stdout",
     "output_type": "stream",
     "text": [
      "[ERROR] For more information about the errors and possible solutions, please read the following articles:\n"
     ]
    },
    {
     "name": "stdout",
     "output_type": "stream",
     "text": [
      "[ERROR] [Help 1] http://cwiki.apache.org/confluence/display/MAVEN/MojoExecutionException\n"
     ]
    }
   ],
   "source": [
    "%%shell \n",
    "cd /home/jovyan/work/src/github/ebpro/sample-jaxrs\n",
    "mvn  -quiet -Dmain.class=\"fr.univtln.bruno.samples.jaxrs.client.BiblioClient\" exec:java"
   ]
  },
  {
   "cell_type": "code",
   "execution_count": 5,
   "id": "955b7562",
   "metadata": {
    "vscode": {
     "languageId": "java"
    }
   },
   "outputs": [
    {
     "ename": "CompilationException",
     "evalue": "",
     "output_type": "error",
     "traceback": [
      "\u001b[1m\u001b[30m|   \u001b[1m\u001b[30m\u001b[0m\u001b[1m\u001b[30m\u001b[41mhttpServer\u001b[0m\u001b[1m\u001b[30m.stop();\u001b[0m",
      "\u001b[1m\u001b[31mcannot find symbol\u001b[0m",
      "\u001b[1m\u001b[31m  symbol:   variable httpServer\u001b[0m",
      ""
     ]
    }
   ],
   "source": [
    "//| output: false\n",
    "//| echo: false\n",
    "httpServer.stop();"
   ]
  }
 ],
 "metadata": {
  "kernelspec": {
   "display_name": "Java [conda env:root] *",
   "language": "java",
   "name": "conda-root-java"
  },
  "language_info": {
   "codemirror_mode": "java",
   "file_extension": ".jshell",
   "mimetype": "text/x-java-source",
   "name": "Java",
   "pygments_lexer": "java",
   "version": "21.0.2+13-LTS"
  }
 },
 "nbformat": 4,
 "nbformat_minor": 5
}
