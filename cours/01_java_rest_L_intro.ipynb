{
 "cells": [
  {
   "cell_type": "markdown",
   "id": "8d3c5cdf",
   "metadata": {},
   "source": [
    "---\n",
    "  title: \"Rest 01: L'approche RESTFul\"\n",
    "  description: \"Introduction to REpresentational State Transfer APIs (RestFull Web Services).\"\n",
    "  categories: \n",
    "    - Java\n",
    "    - Lecture\n",
    "    - RestFull\n",
    "---"
   ]
  },
  {
   "cell_type": "code",
   "execution_count": 1,
   "id": "51300dd2-1aa6-4091-b985-65a444e90f01",
   "metadata": {},
   "outputs": [
    {
     "name": "stdout",
     "output_type": "stream",
     "text": [
      "$ git fetch\n"
     ]
    },
    {
     "name": "stdout",
     "output_type": "stream",
     "text": [
      "\n"
     ]
    },
    {
     "name": "stdout",
     "output_type": "stream",
     "text": [
      "$ git reset --mixed\n"
     ]
    },
    {
     "name": "stdout",
     "output_type": "stream",
     "text": [
      "\n"
     ]
    },
    {
     "name": "stdout",
     "output_type": "stream",
     "text": [
      "$ git -c user.email=nbgitpuller@nbgitpuller.link -c user.name=nbgitpuller merge -Xours origin/develop\n"
     ]
    },
    {
     "name": "stdout",
     "output_type": "stream",
     "text": [
      "\n"
     ]
    },
    {
     "name": "stdout",
     "output_type": "stream",
     "text": [
      "Already up to date.\n"
     ]
    },
    {
     "name": "stdout",
     "output_type": "stream",
     "text": [
      "\n"
     ]
    },
    {
     "name": "stdout",
     "output_type": "stream",
     "text": [
      "[ERROR] Failed to execute goal org.apache.maven.plugins:maven-compiler-plugin:3.8.1:compile (default-compile) on project sample-jaxrs: Fatal error compiling: java.lang.NoSuchFieldError: Class com.sun.tools.javac.tree.JCTree$JCImport does not have member field 'com.sun.tools.javac.tree.JCTree qualid' -> [Help 1]\n"
     ]
    },
    {
     "name": "stdout",
     "output_type": "stream",
     "text": [
      "[ERROR] \n"
     ]
    },
    {
     "name": "stdout",
     "output_type": "stream",
     "text": [
      "[ERROR] To see the full stack trace of the errors, re-run Maven with the -e switch.\n"
     ]
    },
    {
     "name": "stdout",
     "output_type": "stream",
     "text": [
      "[ERROR] Re-run Maven using the -X switch to enable full debug logging.\n"
     ]
    },
    {
     "name": "stdout",
     "output_type": "stream",
     "text": [
      "[ERROR] \n"
     ]
    },
    {
     "name": "stdout",
     "output_type": "stream",
     "text": [
      "[ERROR] For more information about the errors and possible solutions, please read the following articles:\n"
     ]
    },
    {
     "name": "stdout",
     "output_type": "stream",
     "text": [
      "[ERROR] [Help 1] http://cwiki.apache.org/confluence/display/MAVEN/MojoExecutionException\n"
     ]
    }
   ],
   "source": [
    "//| output: false\n",
    "//| echo: false\n",
    "\n",
    "%printWithName false\n",
    "    \n",
    "// UPDATE SAMPLE SOURCE CODE\n",
    "\n",
    "String script=\"\"\"\n",
    "GITHUB_REPO=ebpro/sample-jaxrs\n",
    "GITHUB_URL=https://github.com/${GITHUB_REPO}\n",
    "BRANCH=develop\n",
    "SRC_DIR=/home/jovyan/work/src/github/${GITHUB_REPO}\n",
    "gitpuller ${GITHUB_URL} ${BRANCH} ${SRC_DIR}\n",
    "cd ${SRC_DIR}\n",
    "mvn --quiet clean package\n",
    "\"\"\";\n",
    "IJava.getKernelInstance().getMagics().applyCellMagic(\"shell\",List.of(\"\"),script);  \n",
    "\n",
    "\n",
    "%jars \"/home/jovyan/work/src/samples/sample-jaxrs/target/sample-jaxrs-*-withdependencies.jar\";"
   ]
  },
  {
   "cell_type": "markdown",
   "id": "72ad0a56",
   "metadata": {},
   "source": [
    "::: {.content-visible when-profile=\"slides\"}\n",
    "## Objectifs\n",
    ":::\n",
    "\n",
    "Ce document présente les service Web REST en général et par la pratique en Java. \n",
    "\n",
    "Il s'appuie sur un exemple simple d'application : [https://github.com/ebpro/sample-jaxrs](https://github.com/ebpro/sample-jaxrs) qui servira à illustrer les notions et sera étudiée en détail dans la partie pratique."
   ]
  },
  {
   "cell_type": "markdown",
   "id": "481f2f86-337f-48b7-817c-90ce67b4a46c",
   "metadata": {},
   "source": [
    "::: {.content-visible when-profile=\"slides\"}\n",
    "## L'Approche REST (REpresentational State Transfer)\n",
    ":::\n",
    "\n",
    "::: {.content-visible when-profile=\"notes\"}\n",
    "L’idée générale de l'approche REST (REpresentational State Transfer) pour construire une interface de programmation (API) est d’offrir un accès distant à des ressources via une interface commune construite ~~au dessus de~~ \"**en**\" http. On parle d'approche RESTful quand l'interface d'une application est conforme à une certaine philosophie (il ne s'agit pas d'une norme).\n",
    "\n",
    "En particulier, le fait que l'API est sans état côté serveur permet de l'utiliser de façon transparente même en cas de serveur proxy/cache.\n",
    ":::\n",
    "\n",
    "::: {.content-visible when-profile=\"slides\"}\n",
    "\n",
    "- Qu'est-ce que REST ?\n",
    "  - **REpresentational State Transfer**\n",
    "  - Un style architectural pour la conception de services web\n",
    "  - Offre un accès distant à des ressources via HTTP\n",
    "- Principes de REST\n",
    "  - **Interface uniforme** en HTTP\n",
    "  - **Stateless** : Chaque requête est indépendante\n",
    "  - **Cacheable** : Possibilité de mettre en cache les réponses\n",
    "  - **Client-Server** : Séparation claire des responsabilités\n",
    ":::\n",
    "\n",
    "::: {.content-visible when-profile=\"slides\"}\n",
    "## RESTful\n",
    "\n",
    "- Une approche conformant à ces principes\n",
    "- Flexibilité dans la conception des API\n",
    "- Pas une norme, mais une recommandation d'architecture\n",
    ":::\n",
    "\n",
    "::: {.callout-important}\n",
    "RESTfull est une approche d'API client/serveur suivant la logique de navigation dans un hypermedia. On parle d'[HATEOS](https://restcookbook.com/Basics/hateoas) (Hypermedia As The Engine Of Application State).\n",
    ":::\n",
    "\n",
    "::: {.content-visible when-profile=\"slides\"}\n",
    "## Protocole de communication\n",
    ":::\n",
    "\n",
    "Pour définir un protocole de communication, il faut généralement définir :\n",
    "\n",
    "- un système d'identification (d'adressage) des ressources manipulées, \n",
    "- un protocole de communication, \n",
    "- un format d'échange de données éventuellement typées,\n",
    "- un système de gestion des erreurs. \n",
    "\n",
    "La logique RESTfull est d'utiliser tout ce que propose HTTP pour écrire une API **en** HTTP."
   ]
  },
  {
   "cell_type": "markdown",
   "id": "c4fa3431-86cd-461b-b1c7-c8f19aff68b7",
   "metadata": {},
   "source": [
    "::: {.content-visible when-profile=\"notes\"}\n",
    "## L'adressage des ressources\n",
    ":::\n",
    "::: {.content-visible when-profile=\"slides\"}\n",
    "## L'adressage des ressources\n",
    ":::\n",
    "\n",
    "::: {.callout-important}\n",
    "Les ressources (ou ensembles de ressources) de l'application sont identifiées par des [URI](https://tools.ietf.org/html/rfc3986). \n",
    "Les URL sont une sorte particulière d'URI qui indique un moyen d'accès en plus de les identifier de façon unique.\n",
    ":::\n",
    "\n",
    "Il n'y a pas de standard pour les API REST. Il vaut généralement mieux rester simple et cohérent. Quelques pratiques sont utilisées classiquement :\n",
    "\n",
    "::: {.fragment .fade-in-then-semi-out}\n",
    "- On utilise des noms (pas des verbes) au pluriel pour les ressources :\n",
    "\n",
    "    ```{python}\n",
    "    # Toutes les personnes\n",
    "    http://MyServer/MyApp/Persons\n",
    "    ```\n",
    ":::\n",
    "\n",
    "::: {.fragment .fade-in-then-semi-out}\n",
    "- <span class=\"content-visible\" when-profile=\"notes\">La ou les informations qui permettent d'identifier une ressource sont inclues dans l'URL et le plus possible dans le chemin plutôt que dans la Query String (par exemple un identifiant) :</span><span class=\"content-visible\" when-profile=\"slides\">Utilisation du chemin pour inclure \"paramètres\"</span>\n",
    "\n",
    "    ```{python}\n",
    "    # La personne d'identifiant 1\n",
    "    http://MyServer/MyApp/Persons/1\n",
    "    ```\n",
    ":::"
   ]
  },
  {
   "cell_type": "markdown",
   "id": "d5d674f3",
   "metadata": {},
   "source": [
    "::: {.content-visible when-profile=\"slides\"}\n",
    "### L'adressage des ressources (\"Jointures\")\n",
    ":::\n",
    "\n",
    "- <span class=\"content-visible\" when-profile=\"notes\">On évite les \"jointures\" dans les chemins. Si on le fait, l'ordre doit être constant et logique (la fin du chemin correspond toujours à la ressource retournée).</span><span class=\"content-visible\" when-profile=\"slides\">Eviter les \"jointures\".</span>\n",
    "  - Les chiens de la personne 1      \n",
    "    - <del>`http://MyServer/MyApp/Persons/1/Dogs`</del>\n",
    "    - `http://MyServer/MyApp/Dogs?master_id=1`\n",
    "\n"
   ]
  },
  {
   "cell_type": "markdown",
   "id": "402e48d4",
   "metadata": {},
   "source": [
    "::: {.content-visible when-profile=\"slides\"}\n",
    "### L'adressage des ressources (Pagination et tri)\n",
    ":::\n",
    "\n",
    "- <span class=\"content-visible\" when-profile=\"notes\">On utilise la pagination, le filtrage et le tri (via les Query Strings) pour les requêtes complexes et pour contrôler le volume des données retournées. A noter la possibilité d'utiliser les [Matrix Params](https://www.w3.org/DesignIssues/MatrixURIs.htmlhttps://www.w3.org/DesignIssues/MatrixURIs.html) même s'ils ne sont pas standards.</span><span class=\"content-visible\" when-profile=\"slides\">Pagination</span>\n",
    "  - La deuxième page de personnes en utilisant des pages de 10 personnes.\n",
    "    - `http://MyServer/MyApp/Persons?page=2&page_size=10`\n",
    "    - `http://MyServer/MyApp/Persons;page=2;page_size=10` (avec des \n",
    "    Matrix Params)\n",
    "  - filtre qui trie par ordre decroissant de date de création, puis par titre\n",
    "    - `http://MyServer/MyApp/Persons?page=&page_size=10&sort=name,firstname,-created,title`\n",
    "- <span class=\"content-visible\" when-profile=\"notes\">Une projection explicite de certains champs des données peut être envisagée dans la ressource.</span><span class=\"content-visible\" when-profile=\"slides\">Projection</span>\n",
    "  - La personne d'identifiant 1 restreinte uniquement à certains champs\n",
    "    - `http://MyServer/MyApp/Persons/1?fields=email,firstname,lastname`\n",
    "- <span class=\"content-visible\" when-profile=\"notes\">Des éléments \"administatifs\" peuvent/doivent être proposés (par exemple pour gérer la version d'une API en ajoutant /api/v1, /api/v2, ... au début du chemin).</span><span class=\"content-visible\" when-profile=\"slides\">Version : préfixes `/api/v1`, `/api/v2`, ... </span>"
   ]
  },
  {
   "cell_type": "markdown",
   "id": "8fe08a9f-5102-49ad-9c22-a8e11904cc2f",
   "metadata": {},
   "source": [
    "## Le protocole d'échange\n",
    "\n",
    "::: {.content-visible when-profile=\"notes\"}\n",
    "\n",
    "::: {.callout-important}\n",
    "Les actions sur les ressources (identifiées par des URIs) sont associées aux verbes (méthodes) standards du protocole HTTP. \n",
    ":::\n",
    "\n",
    "REST s'appuie sur le protocole HTTP (HyperText Transfert Protocol) qui est défini dans les RFC 7230 à 7237. La [RFC 7231](https://tools.ietf.org/html/rfc7231) défini les [méthodes](https://tools.ietf.org/html/rfc7231#page-24) et les [codes de retour](https://tools.ietf.org/html/rfc7231#section-6).\n",
    "\n",
    "Une méthode est \"sure\" (_safe_) si elle ne modifie pas l'état de serveur.\n",
    "\n",
    "Une méthode est idempotente (_idempotent_) si l'effet attendu par des appels multiples est identique à un appel unique de la même requête. Les méthodes sures sont donc idempotentes.\n",
    ":::\n",
    "\n",
    "  | Verbe HTTP | Utilisation | Contraintes |\n",
    "  |:---:| --- | --- | \n",
    "  | **[GET](https://tools.ietf.org/html/rfc7231#section-4.3.1)** | Accès à une ressource identifiée dans l'URL (il peut s'agir d'une collection). | Safe, Idempotent    |\n",
    "  | **[HEAD](https://tools.ietf.org/html/rfc7231#section-4.3.2)** | comme GET mais sans le corps de la requête (seul le header http est retourné). Utile pour savoir si une ressource a changé. | Safe, Idempotent  |\n",
    "  | **[POST](https://tools.ietf.org/html/rfc7231#section-4.3.3)** | création d’une ressource sans donner l'identifiant. | |\n",
    "  | **[PUT](https://tools.ietf.org/html/rfc7231#section-4.3.4)**  | mise à jour complète d'une ressource identifiée (voire création en donnant l'identifiant). | Idempotent |\n",
    "  | **[DELETE](https://tools.ietf.org/html/rfc7231#section-4.3.5)**  | suppression d’une ressource. | Idempotent |\n",
    "  | **[OPTIONS](https://tools.ietf.org/html/rfc7231#section-4.3.7)** | liste les actions possibles sur une ressource. | Safe, Idempotent |\n",
    "  | **[PATCH](https://tools.ietf.org/html/rfc5789)** | [RFC 5789](https://tools.ietf.org/html/rfc5789), mises à jour partielle d'une ressource. | |\n",
    "\n",
    "::: {.content-visible when-profile=\"notes\"}\n",
    "Donc en particulier GET ne modifie rien, plusieurs appels à PUT n'ajoutent ou n'appliquent une modification qu'une fois mais plusieurs appels à POST en ajoutent plusieurs.\n",
    "\n",
    "Attention, certains proxies HTTP peuvent empêcher certaines actions en dehors de GET et POST (cf. X-HTTP-Method-Override). Cela peut donc conduire à devoir enfreindre les règles ci-dessus.\n",
    ":::"
   ]
  },
  {
   "cell_type": "markdown",
   "id": "dac49006-d837-4988-9a0d-87c97f86c1c8",
   "metadata": {},
   "source": [
    "::: {.content-visible when-profile=\"slides\"}\n",
    "## Endpoints\n",
    ":::\n",
    "\n",
    "Un **endpoint** REST est défini par un verbe HTTP et une URL.\n",
    "\n",
    " * **Obtenir toutes les personnes** :\n",
    "   * `GET http://MyServer/MyApp/Persons`      \n",
    " * **Obtenir une personne précise par identifiant** :\n",
    "   * `GET http://MyServer/MyApp/Persons/1`\n",
    " * **Obtenir toutes les personnes entre 7 et 16ans** (avec un filtre) :\n",
    "   * `GET http://MyServer/MyApp/Persons?ageMin=7&ageMax=16`      \n",
    " * **Supprimer toutes personnes**     \n",
    "   * `DELETE http://MyServer/MyApp/Persons`      \n",
    " * **Supprimer une personne**     \n",
    "   * `DELETE http://MyServer/MyApp/Persons/1`      \n",
    "      "
   ]
  },
  {
   "cell_type": "markdown",
   "id": "74858750-25a1-447c-b6f8-01d33fbadfef",
   "metadata": {},
   "source": [
    "## La représentation des ressources\n",
    "\n",
    "::: {.callout-important}\n",
    "Les resources sont généralement représentées et échangées à l'aide de langages autodescriptifs comme XML ou JSON.\n",
    ":::\n",
    "    \n",
    "Par exemple, une personne peut être présentée :\n",
    "\n",
    ":::: {.columns}\n",
    "\n",
    "::: {.column width=\"50%\"}\n",
    "```xml\n",
    "<?xml version='1.0'?>\n",
    "<person id='1'>\n",
    "    <lastname>Doe</lastname>\n",
    "    <firstname>John</firstname>\n",
    "</person>\n",
    "```\n",
    ":::\n",
    "\n",
    "::: {.column width=\"50%\"}\n",
    "```json\n",
    "{\n",
    "  \"person\": {\n",
    "    \"-id\": 1,\n",
    "    \"lastname\": \"Doe\",\n",
    "    \"firstname\": \"John\"\n",
    "  }\n",
    "}\n",
    "```\n",
    ":::\n",
    "::::\n",
    "\n",
    "::: {.content-visible when-profile=\"notes\"}\n",
    "Les types de données envoyées ou attendues sont indiqués dans l'entête de la requête HTTP par `Content-Type:` et `Accept:`. Pour cela, on utilise les Internet Media Types (ex MIME Type - Multipurpose Internet Mail Extensions). Il s'agit d'une liste standard de formats et de sous-formats d'échange de données (text/plain, text/xml, application/json, ...).\n",
    ":::\n",
    "\n",
    "::: {.content-visible when-profile=\"slides\"}\n",
    "- Les types de données envoyées ou attendues sont spécifiés dans l'entête de la requête HTTP par les champs `Content-Type:` et `Accept:`\n",
    "- Cette spécification utilise les Internet Media Types (ex. MIME Type - Multipurpose Internet Mail Extensions)\n",
    "- Il s'agit d'une liste standard de formats et sous-formats d'échange de données, incluant des exemples tels que text/plain, text/xml, application/json, ...\n",
    ":::\n"
   ]
  },
  {
   "cell_type": "markdown",
   "id": "9c1f0b90-2e4e-4fee-9f73-2984d3898ddf",
   "metadata": {},
   "source": [
    "::: {.content-visible when-profile=\"slides\"}\n",
    "\n",
    "### Exemple de graphe\n",
    "\n",
    ":::\n",
    "\n",
    "L'exemple ci-dessous sérialise des objets Java qui représente un auteur et un livre en JSON et en XML. (Le détail est expliqué plus loin)."
   ]
  },
  {
   "cell_type": "code",
   "execution_count": 2,
   "id": "b0076eed-c475-4540-bc7d-b4a2d386b3fa",
   "metadata": {},
   "outputs": [
    {
     "data": {
      "text/markdown": [
       "```json\n",
       "{\n",
       "  \"books\" : [ {\n",
       "    \"id\" : 1,\n",
       "    \"title\" : \"Effective Java (English Edition)\",\n",
       "    \"authors\" : [ 1 ]\n",
       "  } ],\n",
       "  \"authors\" : [ {\n",
       "    \"id\" : 1,\n",
       "    \"name\" : \"Bloch\",\n",
       "    \"firstname\" : \"Joshua\",\n",
       "    \"books\" : [ 1 ]\n",
       "  } ]\n",
       "}\n",
       "```\n",
       "\n",
       "```xml\n",
       "<?xml version=\"1.0\" encoding=\"UTF-8\" standalone=\"yes\"?>\n",
       "<ebjax:library xmlns:ebjax=\"http://bruno.univ-tln.fr/sample-jaxrs\" xmlns:xs=\"http://www.w3.org/2001/XMLSchema\">\n",
       "    <authors>\n",
       "        <author id=\"Author-1\">\n",
       "            <name>Bloch</name>\n",
       "            <firstname>Joshua</firstname>\n",
       "            <books>\n",
       "                <book>Book-1</book>\n",
       "            </books>\n",
       "        </author>\n",
       "    </authors>\n",
       "    <books>\n",
       "        <book id=\"Book-1\">\n",
       "            <title>Effective Java (English Edition)</title>\n",
       "            <authors>\n",
       "                <author>Author-1</author>\n",
       "            </authors>\n",
       "        </book>\n",
       "    </books>\n",
       "</ebjax:library>\n",
       "\n",
       "```"
      ],
      "text/plain": [
       "```json\n",
       "{\n",
       "  \"books\" : [ {\n",
       "    \"id\" : 1,\n",
       "    \"title\" : \"Effective Java (English Edition)\",\n",
       "    \"authors\" : [ 1 ]\n",
       "  } ],\n",
       "  \"authors\" : [ {\n",
       "    \"id\" : 1,\n",
       "    \"name\" : \"Bloch\",\n",
       "    \"firstname\" : \"Joshua\",\n",
       "    \"books\" : [ 1 ]\n",
       "  } ]\n",
       "}\n",
       "```\n",
       "\n",
       "```xml\n",
       "<?xml version=\"1.0\" encoding=\"UTF-8\" standalone=\"yes\"?>\n",
       "<ebjax:library xmlns:ebjax=\"http://bruno.univ-tln.fr/sample-jaxrs\" xmlns:xs=\"http://www.w3.org/2001/XMLSchema\">\n",
       "    <authors>\n",
       "        <author id=\"Author-1\">\n",
       "            <name>Bloch</name>\n",
       "            <firstname>Joshua</firstname>\n",
       "            <books>\n",
       "                <book>Book-1</book>\n",
       "            </books>\n",
       "        </author>\n",
       "    </authors>\n",
       "    <books>\n",
       "        <book id=\"Book-1\">\n",
       "            <title>Effective Java (English Edition)</title>\n",
       "            <authors>\n",
       "                <author>Author-1</author>\n",
       "            </authors>\n",
       "        </book>\n",
       "    </books>\n",
       "</ebjax:library>\n",
       "\n",
       "```"
      ]
     },
     "execution_count": 2,
     "metadata": {},
     "output_type": "execute_result"
    }
   ],
   "source": [
    "//| output: true\n",
    "//| echo: false\n",
    "\n",
    "import fr.univtln.bruno.samples.jaxrs.model.Library;\n",
    "import fr.univtln.bruno.samples.jaxrs.model.Library.Author;\n",
    "import com.fasterxml.jackson.databind.ObjectMapper;\n",
    "import com.fasterxml.jackson.databind.SerializationFeature;\n",
    "import jakarta.xml.bind.JAXBContext;\n",
    "import jakarta.xml.bind.Marshaller;\n",
    "//Création d'un auteur et d'un livre en Java\n",
    "Library.demoLibrary.removesAuthors();\n",
    "Author author1 = Library.Author.builder().firstname(\"Joshua\").name(\"Bloch\").build();\n",
    "Library.demoLibrary.addAuthor(author1);\n",
    "Library.demoLibrary.addBook(Library.Book.builder().title(\"Effective Java (English Edition)\").authors(Set.of(author1)).build());\n",
    "\n",
    "//Transformation en JSON\n",
    "ObjectMapper objectMapper = new ObjectMapper().enable(SerializationFeature.INDENT_OUTPUT);\n",
    "\n",
    "//Transformation en XML\n",
    "Marshaller marshaller = JAXBContext.newInstance(Library.class).createMarshaller();\n",
    "marshaller.setProperty(Marshaller.JAXB_FORMATTED_OUTPUT, true);\n",
    "StringWriter sw = new StringWriter();\n",
    "marshaller.marshal(Library.demoLibrary, sw);\n",
    "\n",
    "//Affichage\n",
    "render(\"```json\\n\"+objectMapper.writeValueAsString(Library.demoLibrary)+\"\\n```\\n\\n\"+\n",
    "       \"```xml\\n\"+sw.toString()+\"\\n```\", \"text/markdown\");"
   ]
  },
  {
   "cell_type": "markdown",
   "id": "eee65d11-b567-4587-8eb0-a4e789cd3436",
   "metadata": {},
   "source": [
    "## Les code de retours\n",
    "\n",
    "::: {.content-visible when-profile=\"notes\"}\n",
    "Le protocole HTTP défini un ensemble de [codes de retours](https://tools.ietf.org/html/rfc7231#section-6). Il est donc possible d'utiliser ces codes standards comme code de retour pour indiquer comment l'opération a réussi ou pourquoi elle a échoué.\n",
    ":::\n",
    "\n",
    "::: {.callout-important}\n",
    "Le code de retour des méthode est un code HTTP. Il est indiqué de façon standard dans l'entête de la réponse et peut être répété dans le contenu si une enveloppe est proposée.\n",
    " \n",
    ":::\n",
    "\n",
    "::: {.content-visible when-profile=\"notes\"}\n",
    "- Le code de retour des méthodes est un code HTTP.\n",
    "- Il est indiqué de façon standard dans l'entête de la réponse.\n",
    "- Il peut être répété dans le contenu si une enveloppe est proposée.\n",
    ":::\n",
    "\n",
    "::: {.content-visible when-profile=\"slides\"}\n",
    "### Succès\n",
    ":::\n",
    "\n",
    "|Code| Signification | Usage |\n",
    "|--- | --- | --- |\n",
    "|200| Ok | Requête traitée avec succès.|\n",
    "|201| Created | Nouvelle ressource créée.|\n",
    "|204| No Content | Pas de contenu, pas exmple lors d'une requête DELETE réussie.|\n",
    "|206| Partial Content | Seulement une partie de résultat est retourné par exemple en cas de pagination (non explicite). |\n",
    "|304| Not Modified | Utilisation du cache possible. |\n",
    "\n",
    "::: {.content-visible when-profile=\"slides\"}\n",
    "### Echec\n",
    ":::\n",
    "\n",
    "|Code| Signification | Usage |\n",
    "|--- | --- | --- |\n",
    "|400| Bad Request | La requête est invalide et ne peut pas être traitée par le serveur. |\n",
    "|401| Unauthorized | La requête nécessite que le client soit authentifié. |\n",
    "|403| Forbidden | Le client est authentifié mais l’utilisateur n’est pas autorisé à accéder à cette ressource. |\n",
    "|404| Not Found | La ressource demandée n’existe pas. |\n",
    "|500| Internal Server Error | C'est une erreur générique de fonctionnement, elle devrait toujours être accompagnée d'une description |\n"
   ]
  },
  {
   "cell_type": "markdown",
   "id": "467dab46-38d9-47d4-880f-4973e9ce0f9a",
   "metadata": {},
   "source": [
    "## Un échange REST = un échange HTTP\n",
    "\n",
    "::: {.callout-important}\n",
    "Un échange d'une API REST correspond donc exactement à un échange http.\n",
    ":::\n",
    "\n",
    "::: {.content-visible when-profile=\"notes\"}\n",
    "- Une requête HTTP \n",
    "  - composée d'un verbe, d'une URL, de la version de HTTP utilisée, d'un en-tête (une liste de couples `nom:valeur` par exemple `Content-Type: text/xml`) et un corps éventuellement vide (les données envoyées).  \n",
    "- Une réponse HTTP \n",
    "  - composée d'un code de retour, de meta données dans l'en-tête et d'un corps qui contient les données. Le corps est éventuellement encapsulé dans une \"enveloppe\" qui reprend les meta données pour faciliter leur traitement.\n",
    ":::  \n",
    "\n",
    "::: {.content-visible when-profile=\"slides\"}\n",
    "- Requête HTTP\n",
    "  - Verbe, URL, version HTTP, en-tête, corps (éventuellement vide).\n",
    "- Réponse HTTP\n",
    "  - Code de retour, métadonnées dans l'en-tête, corps (éventuellement encapsulé).  \n",
    "  \n",
    ":::\n"
   ]
  },
  {
   "cell_type": "markdown",
   "id": "8cc419d1-cbd7-4518-b252-2131080fa5ba",
   "metadata": {},
   "source": [
    "## Quelques exemples complets\n",
    "\n",
    "Requête de création d'une personne :\n",
    "\n",
    "```http\n",
    "POST http://MyServer:8080/MyApp/Persons/\n",
    "Host: MyServer:8080\n",
    "Content-Type: application/json; charset=utf-8\n",
    "Content-Length: 36\n",
    "{\"lastname\": \"Doe\",\n",
    " \"firstname\": \"John\"}\n",
    "```"
   ]
  },
  {
   "cell_type": "markdown",
   "id": "1a776f05-73f0-49b6-8ffe-ca1fe80001bf",
   "metadata": {},
   "source": [
    "Requête de modification d'une personne (`id` dans l'URL):\n",
    "\n",
    "```http\n",
    "PUT http://MyServer:8080/MyApp/Persons/1\n",
    "Host: MyServer:8080\n",
    "Content-Type: application/json; charset=utf-8\n",
    "Content-Length: 12\n",
    "{\"age\":\"18\"}\n",
    "```"
   ]
  },
  {
   "cell_type": "markdown",
   "id": "23e5bbad-3097-4c69-9c07-3f2fb1ef5464",
   "metadata": {},
   "source": [
    "## Utilisation\n",
    "\n",
    "Une requête REST peut être envoyée par programmation ou en utilisant un programme dédié comme [curl](https://curl.se/) en ligne de commande, [`postman`](https://www.postman.com/)  pour chrome ou [`RestClient`](https://addons.mozilla.org/fr/firefox/addon/restclient/) pour firefox. \n",
    "\n",
    "Regardez les options de la commande `curl` pour réaliser des requêtes HTTP. \n",
    "\n",
    "La requête suivante utilise la commande `curl` pour soumettre une requête REST GET à l'API de GitHub pour consulter le profile du compte `ebpro`. Elle affiche le détails des requêtes et réponses HTTP"
   ]
  },
  {
   "cell_type": "code",
   "execution_count": 3,
   "id": "a316bff1-f0f9-4c70-926c-988c57c1d0ac",
   "metadata": {},
   "outputs": [
    {
     "name": "stdout",
     "output_type": "stream",
     "text": [
      "HTTP/2 200 \n"
     ]
    },
    {
     "name": "stdout",
     "output_type": "stream",
     "text": [
      "server: GitHub.com\n"
     ]
    },
    {
     "name": "stdout",
     "output_type": "stream",
     "text": [
      "date: Tue, 05 Mar 2024 13:09:12 GMT\n"
     ]
    },
    {
     "name": "stdout",
     "output_type": "stream",
     "text": [
      "content-type: application/json; charset=utf-8\n"
     ]
    },
    {
     "name": "stdout",
     "output_type": "stream",
     "text": [
      "cache-control: public, max-age=60, s-maxage=60\n"
     ]
    },
    {
     "name": "stdout",
     "output_type": "stream",
     "text": [
      "vary: Accept, Accept-Encoding, Accept, X-Requested-With\n"
     ]
    },
    {
     "name": "stdout",
     "output_type": "stream",
     "text": [
      "etag: W/\"8667ecd02515ff0829934651676aae7650ad7016e921c4853fe80b02ccb17dcd\"\n"
     ]
    },
    {
     "name": "stdout",
     "output_type": "stream",
     "text": [
      "last-modified: Wed, 28 Feb 2024 13:32:51 GMT\n"
     ]
    },
    {
     "name": "stdout",
     "output_type": "stream",
     "text": [
      "x-github-media-type: github.v3; format=json\n"
     ]
    },
    {
     "name": "stdout",
     "output_type": "stream",
     "text": [
      "x-github-api-version-selected: 2022-11-28\n"
     ]
    },
    {
     "name": "stdout",
     "output_type": "stream",
     "text": [
      "access-control-expose-headers: ETag, Link, Location, Retry-After, X-GitHub-OTP, X-RateLimit-Limit, X-RateLimit-Remaining, X-RateLimit-Used, X-RateLimit-Resource, X-RateLimit-Reset, X-OAuth-Scopes, X-Accepted-OAuth-Scopes, X-Poll-Interval, X-GitHub-Media-Type, X-GitHub-SSO, X-GitHub-Request-Id, Deprecation, Sunset\n"
     ]
    },
    {
     "name": "stdout",
     "output_type": "stream",
     "text": [
      "access-control-allow-origin: *\n"
     ]
    },
    {
     "name": "stdout",
     "output_type": "stream",
     "text": [
      "strict-transport-security: max-age=31536000; includeSubdomains; preload\n"
     ]
    },
    {
     "name": "stdout",
     "output_type": "stream",
     "text": [
      "x-frame-options: deny\n"
     ]
    },
    {
     "name": "stdout",
     "output_type": "stream",
     "text": [
      "x-content-type-options: nosniff\n"
     ]
    },
    {
     "name": "stdout",
     "output_type": "stream",
     "text": [
      "x-xss-protection: 0\n"
     ]
    },
    {
     "name": "stdout",
     "output_type": "stream",
     "text": [
      "referrer-policy: origin-when-cross-origin, strict-origin-when-cross-origin\n"
     ]
    },
    {
     "name": "stdout",
     "output_type": "stream",
     "text": [
      "content-security-policy: default-src 'none'\n"
     ]
    },
    {
     "name": "stdout",
     "output_type": "stream",
     "text": [
      "x-ratelimit-limit: 60\n"
     ]
    },
    {
     "name": "stdout",
     "output_type": "stream",
     "text": [
      "x-ratelimit-remaining: 55\n"
     ]
    },
    {
     "name": "stdout",
     "output_type": "stream",
     "text": [
      "x-ratelimit-reset: 1709645477\n"
     ]
    },
    {
     "name": "stdout",
     "output_type": "stream",
     "text": [
      "x-ratelimit-resource: core\n"
     ]
    },
    {
     "name": "stdout",
     "output_type": "stream",
     "text": [
      "x-ratelimit-used: 5\n"
     ]
    },
    {
     "name": "stdout",
     "output_type": "stream",
     "text": [
      "accept-ranges: bytes\n"
     ]
    },
    {
     "name": "stdout",
     "output_type": "stream",
     "text": [
      "content-length: 1329\n"
     ]
    },
    {
     "name": "stdout",
     "output_type": "stream",
     "text": [
      "x-github-request-id: 124F:27AB84:74EC9D:758C60:65E71982\n"
     ]
    },
    {
     "name": "stdout",
     "output_type": "stream",
     "text": [
      "\n"
     ]
    },
    {
     "name": "stdout",
     "output_type": "stream",
     "text": [
      "{\n"
     ]
    },
    {
     "name": "stdout",
     "output_type": "stream",
     "text": [
      "  \"login\": \"ebpro\",\n"
     ]
    },
    {
     "name": "stdout",
     "output_type": "stream",
     "text": [
      "  \"id\": 76050356,\n"
     ]
    },
    {
     "name": "stdout",
     "output_type": "stream",
     "text": [
      "  \"node_id\": \"MDEyOk9yZ2FuaXphdGlvbjc2MDUwMzU2\",\n"
     ]
    },
    {
     "name": "stdout",
     "output_type": "stream",
     "text": [
      "  \"avatar_url\": \"https://avatars.githubusercontent.com/u/76050356?v=4\",\n"
     ]
    },
    {
     "name": "stdout",
     "output_type": "stream",
     "text": [
      "  \"gravatar_id\": \"\",\n"
     ]
    },
    {
     "name": "stdout",
     "output_type": "stream",
     "text": [
      "  \"url\": \"https://api.github.com/users/ebpro\",\n"
     ]
    },
    {
     "name": "stdout",
     "output_type": "stream",
     "text": [
      "  \"html_url\": \"https://github.com/ebpro\",\n"
     ]
    },
    {
     "name": "stdout",
     "output_type": "stream",
     "text": [
      "  \"followers_url\": \"https://api.github.com/users/ebpro/followers\",\n"
     ]
    },
    {
     "name": "stdout",
     "output_type": "stream",
     "text": [
      "  \"following_url\": \"https://api.github.com/users/ebpro/following{/other_user}\",\n"
     ]
    },
    {
     "name": "stdout",
     "output_type": "stream",
     "text": [
      "  \"gists_url\": \"https://api.github.com/users/ebpro/gists{/gist_id}\",\n"
     ]
    },
    {
     "name": "stdout",
     "output_type": "stream",
     "text": [
      "  \"starred_url\": \"https://api.github.com/users/ebpro/starred{/owner}{/repo}\",\n"
     ]
    },
    {
     "name": "stdout",
     "output_type": "stream",
     "text": [
      "  \"subscriptions_url\": \"https://api.github.com/users/ebpro/subscriptions\",\n"
     ]
    },
    {
     "name": "stdout",
     "output_type": "stream",
     "text": [
      "  \"organizations_url\": \"https://api.github.com/users/ebpro/orgs\",\n"
     ]
    },
    {
     "name": "stdout",
     "output_type": "stream",
     "text": [
      "  \"repos_url\": \"https://api.github.com/users/ebpro/repos\",\n"
     ]
    },
    {
     "name": "stdout",
     "output_type": "stream",
     "text": [
      "  \"events_url\": \"https://api.github.com/users/ebpro/events{/privacy}\",\n"
     ]
    },
    {
     "name": "stdout",
     "output_type": "stream",
     "text": [
      "  \"received_events_url\": \"https://api.github.com/users/ebpro/received_events\",\n"
     ]
    },
    {
     "name": "stdout",
     "output_type": "stream",
     "text": [
      "  \"type\": \"Organization\",\n"
     ]
    },
    {
     "name": "stdout",
     "output_type": "stream",
     "text": [
      "  \"site_admin\": false,\n"
     ]
    },
    {
     "name": "stdout",
     "output_type": "stream",
     "text": [
      "  \"name\": \"EBPro\",\n"
     ]
    },
    {
     "name": "stdout",
     "output_type": "stream",
     "text": [
      "  \"company\": null,\n"
     ]
    },
    {
     "name": "stdout",
     "output_type": "stream",
     "text": [
      "  \"blog\": \"https://bruno.univ-tln.fr\",\n"
     ]
    },
    {
     "name": "stdout",
     "output_type": "stream",
     "text": [
      "  \"location\": \"France\",\n"
     ]
    },
    {
     "name": "stdout",
     "output_type": "stream",
     "text": [
      "  \"email\": \"emmanuel.bruno@univ-tln.fr\",\n"
     ]
    },
    {
     "name": "stdout",
     "output_type": "stream",
     "text": [
      "  \"hireable\": null,\n"
     ]
    },
    {
     "name": "stdout",
     "output_type": "stream",
     "text": [
      "  \"bio\": null,\n"
     ]
    },
    {
     "name": "stdout",
     "output_type": "stream",
     "text": [
      "  \"twitter_username\": null,\n"
     ]
    },
    {
     "name": "stdout",
     "output_type": "stream",
     "text": [
      "  \"public_repos\": 64,\n"
     ]
    },
    {
     "name": "stdout",
     "output_type": "stream",
     "text": [
      "  \"public_gists\": 0,\n"
     ]
    },
    {
     "name": "stdout",
     "output_type": "stream",
     "text": [
      "  \"followers\": 1,\n"
     ]
    },
    {
     "name": "stdout",
     "output_type": "stream",
     "text": [
      "  \"following\": 0,\n"
     ]
    },
    {
     "name": "stdout",
     "output_type": "stream",
     "text": [
      "  \"created_at\": \"2020-12-15T12:56:09Z\",\n"
     ]
    },
    {
     "name": "stdout",
     "output_type": "stream",
     "text": [
      "  \"updated_at\": \"2024-02-28T13:32:51Z\"\n"
     ]
    },
    {
     "name": "stdout",
     "output_type": "stream",
     "text": [
      "}\n"
     ]
    }
   ],
   "source": [
    "%%shell \n",
    "curl -s -D - https://api.github.com/users/ebpro"
   ]
  }
 ],
 "metadata": {
  "kernelspec": {
   "display_name": "Java [conda env:root] *",
   "language": "java",
   "name": "conda-root-java"
  },
  "language_info": {
   "codemirror_mode": "java",
   "file_extension": ".jshell",
   "mimetype": "text/x-java-source",
   "name": "Java",
   "pygments_lexer": "java",
   "version": "21.0.2+13-LTS"
  }
 },
 "nbformat": 4,
 "nbformat_minor": 5
}
