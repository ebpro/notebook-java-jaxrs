{
 "cells": [
  {
   "cell_type": "markdown",
   "id": "14ca6559-5f4a-438f-9a7b-8248616d5ef6",
   "metadata": {},
   "source": [
    "---\n",
    "  title: \"RestFull 06: Concepts avancés\"\n",
    "  description: \"Providers, Schemas and Filters with Jakarta RESTful Web Services.\"\n",
    "  categories: \n",
    "    - Java\n",
    "    - Lecture\n",
    "    - RestFull\n",
    "---\n"
   ]
  },
  {
   "cell_type": "code",
   "execution_count": 1,
   "id": "f8535d49",
   "metadata": {
    "vscode": {
     "languageId": "java"
    }
   },
   "outputs": [
    {
     "name": "stdout",
     "output_type": "stream",
     "text": [
      "$ git fetch\n"
     ]
    },
    {
     "name": "stdout",
     "output_type": "stream",
     "text": [
      "\n"
     ]
    },
    {
     "name": "stdout",
     "output_type": "stream",
     "text": [
      "$ git reset --mixed\n"
     ]
    },
    {
     "name": "stdout",
     "output_type": "stream",
     "text": [
      "\n"
     ]
    },
    {
     "name": "stdout",
     "output_type": "stream",
     "text": [
      "$ git -c user.email=nbgitpuller@nbgitpuller.link -c user.name=nbgitpuller merge -Xours origin/develop\n"
     ]
    },
    {
     "name": "stdout",
     "output_type": "stream",
     "text": [
      "\n"
     ]
    },
    {
     "name": "stdout",
     "output_type": "stream",
     "text": [
      "Already up to date.\n"
     ]
    },
    {
     "name": "stdout",
     "output_type": "stream",
     "text": [
      "\n"
     ]
    },
    {
     "name": "stdout",
     "output_type": "stream",
     "text": [
      "[ERROR] Failed to execute goal org.apache.maven.plugins:maven-compiler-plugin:3.8.1:compile (default-compile) on project sample-jaxrs: Fatal error compiling: java.lang.NoSuchFieldError: Class com.sun.tools.javac.tree.JCTree$JCImport does not have member field 'com.sun.tools.javac.tree.JCTree qualid' -> [Help 1]\n"
     ]
    },
    {
     "name": "stdout",
     "output_type": "stream",
     "text": [
      "[ERROR] \n"
     ]
    },
    {
     "name": "stdout",
     "output_type": "stream",
     "text": [
      "[ERROR] To see the full stack trace of the errors, re-run Maven with the -e switch.\n"
     ]
    },
    {
     "name": "stdout",
     "output_type": "stream",
     "text": [
      "[ERROR] Re-run Maven using the -X switch to enable full debug logging.\n"
     ]
    },
    {
     "name": "stdout",
     "output_type": "stream",
     "text": [
      "[ERROR] \n"
     ]
    },
    {
     "name": "stdout",
     "output_type": "stream",
     "text": [
      "[ERROR] For more information about the errors and possible solutions, please read the following articles:\n"
     ]
    },
    {
     "name": "stdout",
     "output_type": "stream",
     "text": [
      "[ERROR] [Help 1] http://cwiki.apache.org/confluence/display/MAVEN/MojoExecutionException\n"
     ]
    },
    {
     "data": {
      "text/plain": [
       "\u001b[36mIJava.getKernelInstance().getMag...\u001b[0m: 1"
      ]
     },
     "execution_count": 1,
     "metadata": {},
     "output_type": "execute_result"
    }
   ],
   "source": [
    "//| output: false\n",
    "//| echo: false\n",
    "\n",
    "%printWithName false\n",
    "    \n",
    "// UPDATE SAMPLE SOURCE CODE\n",
    "\n",
    "String script=\"\"\"\n",
    "GITHUB_REPO=ebpro/sample-jaxrs\n",
    "GITHUB_URL=https://github.com/${GITHUB_REPO}\n",
    "BRANCH=develop\n",
    "SRC_DIR=/home/jovyan/work/src/github/${GITHUB_REPO}\n",
    "gitpuller ${GITHUB_URL} ${BRANCH} ${SRC_DIR}\n",
    "cd ${SRC_DIR}\n",
    "mvn --quiet clean package\n",
    "\"\"\";\n",
    "IJava.getKernelInstance().getMagics().applyCellMagic(\"shell\",List.of(\"\"),script);  "
   ]
  },
  {
   "cell_type": "code",
   "execution_count": 2,
   "id": "3b49d92c",
   "metadata": {
    "vscode": {
     "languageId": "java"
    }
   },
   "outputs": [
    {
     "ename": "CompilationException",
     "evalue": "",
     "output_type": "error",
     "traceback": [
      "\u001b[1m\u001b[30m|   \u001b[1m\u001b[30mimport \u001b[0m\u001b[1m\u001b[30m\u001b[41morg.glassfish.grizzly.http.server.HttpServer\u001b[0m\u001b[1m\u001b[30m;\u001b[0m",
      "\u001b[1m\u001b[31mpackage org.glassfish.grizzly.http.server does not exist\u001b[0m",
      ""
     ]
    }
   ],
   "source": [
    "//| output: false\n",
    "//| echo: false\n",
    "%jars \"/home/jovyan/work/src/github/ebpro/sample-jaxrs/target/sample-jaxrs-*-withdependencies.jar\"; \n",
    "import org.glassfish.grizzly.http.server.HttpServer;\n",
    "import fr.univtln.bruno.samples.jaxrs.server.BiblioServer;\n",
    "HttpServer httpServer = BiblioServer.startServer();\n",
    "httpServer.toString();"
   ]
  },
  {
   "cell_type": "markdown",
   "id": "6c21e9e7",
   "metadata": {},
   "source": [
    "\n",
    "# Les liens sémantiques\n",
    "\n",
    "Les liens sémantiques entre les resources peuvent être réprésentés à l'aide d'URLs de façon standard ((RFC8288)[https://tools.ietf.org/html/rfc8288]). Une liste complète est données sur le site de l'IANA : https://www.iana.org/assignments/link-relations/link-relations.xhtml. Les plus classiquement utilisé avec REST sont self, first, previous, next et last. Pour simplifier l'usage de l'API ces liens peuvent être fournis dans l'entête d'une réponse http et/ou dans le corps de la réponse (par exemple lors de la pagination).\n",
    "\n",
    "```http\n",
    "Link: <http://MyServer:8080/MyApp/Persons/1>; rel=\"first-person\", <http://MyServer:8080/MyApp/Persons/10>; rel=\"next-person\", <http://MyServer:8080/MyApp/Persons/8>; rel=\"previous-person\", <http://MyServer:8080/MyApp/Persons/90>; rel=\"last-person\"\n",
    "```"
   ]
  },
  {
   "cell_type": "markdown",
   "id": "4179ace1-c8b1-49db-8d23-4df944ca550e",
   "metadata": {},
   "source": [
    "## Etendre JAX-RS avec les Providers"
   ]
  },
  {
   "cell_type": "markdown",
   "id": "45be9477-7d84-49ee-b3fe-f811e60207ac",
   "metadata": {
    "tags": []
   },
   "source": [
    "D'une façon générale une classe annotée par `@Provider` ajoute des fonctions à JAXRS (traitement des exceptions, conversion des données, ...)."
   ]
  },
  {
   "cell_type": "markdown",
   "id": "c9524948-4bb3-4d63-827c-5020f0a84396",
   "metadata": {
    "slideshow": {
     "slide_type": "slide"
    },
    "tags": []
   },
   "source": [
    "#### Les mappers : application aux exceptions\n",
    "Le traitement des exceptions peut être simplifié en utilisant des mappers (cf. package exceptions et mapper) qui s'appliquent automatiquement lors qu'une exception est émise. Dans ce cas un objet Response est construit manuellement pour contrôler le détail du corps et de l'entête. "
   ]
  },
  {
   "cell_type": "code",
   "execution_count": 3,
   "id": "3122c540-7d03-40a0-ad18-d72030efbcea",
   "metadata": {
    "vscode": {
     "languageId": "java"
    }
   },
   "outputs": [
    {
     "data": {
      "text/markdown": [
       "```Java\n",
       "@XmlRootElement\n",
       "public class NotFoundException extends BusinessException {\n",
       "    public NotFoundException() {\n",
       "        super(Response.Status.NOT_FOUND);\n",
       "    }\n",
       "}\n",
       "```"
      ],
      "text/plain": [
       "```Java\n",
       "@XmlRootElement\n",
       "public class NotFoundException extends BusinessException {\n",
       "    public NotFoundException() {\n",
       "        super(Response.Status.NOT_FOUND);\n",
       "    }\n",
       "}\n",
       "```"
      ]
     },
     "metadata": {},
     "output_type": "display_data"
    }
   ],
   "source": [
    "//| output: true\n",
    "//| echo: false\n",
    "// PRINT CLASS\n",
    "String script=\"/home/jovyan/work/src/samples/sample-jaxrs/src/main/java/fr/univtln/bruno/samples/jaxrs/exceptions/NotFoundException.java\";\n",
    "IJava.getKernelInstance().getMagics().applyCellMagic(\"javasrcClassByName\",List.of(\"NotFoundException\"),script);\n",
    "return null;\n"
   ]
  },
  {
   "cell_type": "code",
   "execution_count": 4,
   "id": "0580564c-aa3c-4edf-907b-62b26e5a66ca",
   "metadata": {
    "vscode": {
     "languageId": "java"
    }
   },
   "outputs": [
    {
     "data": {
      "text/markdown": [
       "```Java\n",
       "@SuppressWarnings(\"unused\")\n",
       "@Provider\n",
       "@FieldDefaults(level = AccessLevel.PRIVATE)\n",
       "@Log\n",
       "public class BusinessExceptionMapper implements ExceptionMapper<BusinessException> {\n",
       "    public Response toResponse(BusinessException ex) {\n",
       "        return Response.status(ex.getStatus())\n",
       "                .entity(ex)\n",
       "                .build();\n",
       "    }\n",
       "}\n",
       "```"
      ],
      "text/plain": [
       "```Java\n",
       "@SuppressWarnings(\"unused\")\n",
       "@Provider\n",
       "@FieldDefaults(level = AccessLevel.PRIVATE)\n",
       "@Log\n",
       "public class BusinessExceptionMapper implements ExceptionMapper<BusinessException> {\n",
       "    public Response toResponse(BusinessException ex) {\n",
       "        return Response.status(ex.getStatus())\n",
       "                .entity(ex)\n",
       "                .build();\n",
       "    }\n",
       "}\n",
       "```"
      ]
     },
     "metadata": {},
     "output_type": "display_data"
    }
   ],
   "source": [
    "//| output: true\n",
    "//| echo: false\n",
    "// PRINT CLASS\n",
    "String script=\"/home/jovyan/work/src/samples/sample-jaxrs/src/main/java/fr/univtln/bruno/samples/jaxrs/mappers/BusinessExceptionMapper.java\";\n",
    "IJava.getKernelInstance().getMagics().applyCellMagic(\"javasrcClassByName\",List.of(\"BusinessExceptionMapper\"),script);\n",
    "return null;\n"
   ]
  },
  {
   "cell_type": "markdown",
   "id": "c8d43180-4933-435a-b351-d7d6d1874389",
   "metadata": {},
   "source": [
    "If a resource doesn't exist an exception is raised, and the 404 http status code is returned"
   ]
  },
  {
   "cell_type": "code",
   "execution_count": 5,
   "id": "5ec3f520-7cab-4480-a7aa-080a4bd63238",
   "metadata": {
    "slideshow": {
     "slide_type": "fragment"
    },
    "tags": [],
    "vscode": {
     "languageId": "java"
    }
   },
   "outputs": [],
   "source": [
    "%%shell\n",
    "curl -s -i -H \"Accept: application/json\"  \\\n",
    "  http://localhost:9998/mylibrary/authors/1000"
   ]
  },
  {
   "cell_type": "markdown",
   "id": "669ed6e3-503b-4b2c-9b65-18fe9f1e6b5f",
   "metadata": {},
   "source": [
    "## Les filtres : application au statut et à la pagination"
   ]
  },
  {
   "cell_type": "code",
   "execution_count": 6,
   "id": "9a4c1777-b515-478b-89f5-acb77f6eed84",
   "metadata": {
    "vscode": {
     "languageId": "java"
    }
   },
   "outputs": [
    {
     "data": {
      "text/markdown": [
       "```Java\n",
       "@Provider\n",
       "public class StatusFilter implements ContainerResponseFilter {\n",
       "\n",
       "    @Override\n",
       "    public void filter(ContainerRequestContext containerRequestContext, ContainerResponseContext containerResponseContext) {\n",
       "        if (containerResponseContext.getStatus() == Response.Status.OK.getStatusCode()) {\n",
       "            for (Annotation annotation : containerResponseContext.getEntityAnnotations()) {\n",
       "                if (annotation instanceof Status) {\n",
       "                    containerResponseContext.setStatus(((Status) annotation).value());\n",
       "                    break;\n",
       "                }\n",
       "            }\n",
       "        }\n",
       "    }\n",
       "\n",
       "}\n",
       "```"
      ],
      "text/plain": [
       "```Java\n",
       "@Provider\n",
       "public class StatusFilter implements ContainerResponseFilter {\n",
       "\n",
       "    @Override\n",
       "    public void filter(ContainerRequestContext containerRequestContext, ContainerResponseContext containerResponseContext) {\n",
       "        if (containerResponseContext.getStatus() == Response.Status.OK.getStatusCode()) {\n",
       "            for (Annotation annotation : containerResponseContext.getEntityAnnotations()) {\n",
       "                if (annotation instanceof Status) {\n",
       "                    containerResponseContext.setStatus(((Status) annotation).value());\n",
       "                    break;\n",
       "                }\n",
       "            }\n",
       "        }\n",
       "    }\n",
       "\n",
       "}\n",
       "```"
      ]
     },
     "metadata": {},
     "output_type": "display_data"
    }
   ],
   "source": [
    "//| output: true\n",
    "//| echo: false\n",
    "// PRINT CLASS\n",
    "String script=\"/home/jovyan/work/src/samples/sample-jaxrs/src/main/java/fr/univtln/bruno/samples/jaxrs/status/StatusFilter.java\";\n",
    "IJava.getKernelInstance().getMagics().applyCellMagic(\"javasrcClassByName\",List.of(\"StatusFilter\"),script);\n",
    "return null;\n",
    "\n"
   ]
  },
  {
   "cell_type": "code",
   "execution_count": 7,
   "id": "a7a9a382-7547-47a7-af98-bec09986c53c",
   "metadata": {
    "vscode": {
     "languageId": "java"
    }
   },
   "outputs": [
    {
     "name": "stdout",
     "output_type": "stream",
     "text": [
      "package fr.univtln.bruno.samples.jaxrs.status;\n"
     ]
    },
    {
     "name": "stdout",
     "output_type": "stream",
     "text": [
      "\n"
     ]
    },
    {
     "name": "stdout",
     "output_type": "stream",
     "text": [
      "import jakarta.ws.rs.NameBinding;\n"
     ]
    },
    {
     "name": "stdout",
     "output_type": "stream",
     "text": [
      "\n"
     ]
    },
    {
     "name": "stdout",
     "output_type": "stream",
     "text": [
      "import java.lang.annotation.Retention;\n"
     ]
    },
    {
     "name": "stdout",
     "output_type": "stream",
     "text": [
      "import java.lang.annotation.RetentionPolicy;\n"
     ]
    },
    {
     "name": "stdout",
     "output_type": "stream",
     "text": [
      "\n"
     ]
    },
    {
     "name": "stdout",
     "output_type": "stream",
     "text": [
      "\n"
     ]
    },
    {
     "name": "stdout",
     "output_type": "stream",
     "text": [
      "@NameBinding\n"
     ]
    },
    {
     "name": "stdout",
     "output_type": "stream",
     "text": [
      "@Retention(RetentionPolicy.RUNTIME)\n"
     ]
    },
    {
     "name": "stdout",
     "output_type": "stream",
     "text": [
      "public @interface Status {\n"
     ]
    },
    {
     "name": "stdout",
     "output_type": "stream",
     "text": [
      "    int CREATED = 201;\n"
     ]
    },
    {
     "name": "stdout",
     "output_type": "stream",
     "text": [
      "    int ACCEPTED = 202;\n"
     ]
    },
    {
     "name": "stdout",
     "output_type": "stream",
     "text": [
      "    int NO_CONTENT = 204;\n"
     ]
    },
    {
     "name": "stdout",
     "output_type": "stream",
     "text": [
      "    int RESET_CONTENT = 205;\n"
     ]
    },
    {
     "name": "stdout",
     "output_type": "stream",
     "text": [
      "    int PARTIAL_CONTENT = 206;\n"
     ]
    },
    {
     "name": "stdout",
     "output_type": "stream",
     "text": [
      "\n"
     ]
    },
    {
     "name": "stdout",
     "output_type": "stream",
     "text": [
      "    int value();\n"
     ]
    },
    {
     "name": "stdout",
     "output_type": "stream",
     "text": [
      "}\n"
     ]
    }
   ],
   "source": [
    "%%shell\n",
    "cat /home/jovyan/work/src/github/ebpro/sample-jaxrs/src/main/java/fr/univtln/bruno/samples/jaxrs/status/Status.java"
   ]
  },
  {
   "cell_type": "markdown",
   "id": "d3976503-a832-4725-a9ef-f0e85dfa28af",
   "metadata": {},
   "source": [
    "Un exemple de filtre appliqué à la requête sera donné dans la partie sur la sécurité."
   ]
  },
  {
   "cell_type": "markdown",
   "id": "c73712b8-0abb-4466-8540-e28aef8b8354",
   "metadata": {},
   "source": [
    "## Schéma d'une API REST\n",
    "\n",
    "  * [WSDL](https://www.w3.org/TR/wsdl/) un autre langage de service Web permet de décrire un tel [schéma](https://www.ibm.com/developerworks/webservices/library/ws-restwsdl/).\n",
    "  * Le langage [WADL](https://www.w3.org/Submission/wadl/) est spécifique à REST. \n",
    "  * Par défaut Jersey génére une description WADL `/application.wadl`\n",
    "  * Cependant, pour cela l'application nécessite une implantation du standard pour traiter les documents XML appelé [JAXB](https://eclipse-ee4j.github.io/jaxb-ri/) qui n'est plus fournie en standard dans le JDK depuis la version 8 (nous utilisons ici la version 15).\n",
    "\n",
    "Si JAXB est dans le classpath (cf. pom.xml) la génération d'une description WADL est automatique."
   ]
  },
  {
   "cell_type": "code",
   "execution_count": 8,
   "id": "0c3adcd8-9622-4ce6-9587-d90204964807",
   "metadata": {
    "vscode": {
     "languageId": "java"
    }
   },
   "outputs": [],
   "source": [
    "%%shell\n",
    "curl -s -D - --get http://localhost:9998/mylibrary/application.wadl"
   ]
  },
  {
   "cell_type": "markdown",
   "id": "5848d864-1bb6-4109-8db6-5b5d9bc3e9db",
   "metadata": {},
   "source": [
    "https://jakarta.ee/specifications/restful-ws/3.0/jakarta-restful-ws-spec-3.0.html#context\n"
   ]
  },
  {
   "cell_type": "code",
   "execution_count": 9,
   "id": "844d6595",
   "metadata": {
    "vscode": {
     "languageId": "java"
    }
   },
   "outputs": [
    {
     "ename": "CompilationException",
     "evalue": "",
     "output_type": "error",
     "traceback": [
      "\u001b[1m\u001b[30m|   \u001b[1m\u001b[30m\u001b[0m\u001b[1m\u001b[30m\u001b[41mhttpServer\u001b[0m\u001b[1m\u001b[30m.stop();\u001b[0m",
      "\u001b[1m\u001b[31mcannot find symbol\u001b[0m",
      "\u001b[1m\u001b[31m  symbol:   variable httpServer\u001b[0m",
      ""
     ]
    }
   ],
   "source": [
    "//| output: false\n",
    "//| echo: false\n",
    "httpServer.stop();"
   ]
  }
 ],
 "metadata": {
  "kernelspec": {
   "display_name": "Java [conda env:root] *",
   "language": "java",
   "name": "conda-root-java"
  },
  "language_info": {
   "codemirror_mode": "java",
   "file_extension": ".jshell",
   "mimetype": "text/x-java-source",
   "name": "Java",
   "pygments_lexer": "java",
   "version": "21.0.2+13-LTS"
  }
 },
 "nbformat": 4,
 "nbformat_minor": 5
}
