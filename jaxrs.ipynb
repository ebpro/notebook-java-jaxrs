{
 "cells": [
  {
   "cell_type": "markdown",
   "metadata": {
    "slideshow": {
     "slide_type": "slide"
    },
    "tags": []
   },
   "source": [
    "# RestFull avec Java - JAX-RS\n",
    "\n",
    "**Emmanuel BRUNO [✉](mailto:emmanuel.bruno@univ-tln.fr?subject=[Notebook%20JAX-RS]) [☖](http://bruno.univ-tln.fr)**\n",
    "\n",
    "Ce document présente les service Web REST en général et par la pratique en Java. Il s'appuie sur un exemple simple d'application : https://github.com/ebpro/sample-jaxrs qui servira à illustrer les notions et sera étudiée en détail dans la partie pratique."
   ]
  },
  {
   "cell_type": "markdown",
   "metadata": {
    "slideshow": {
     "slide_type": "slide"
    },
    "tags": []
   },
   "source": [
    "La commande suivante clone le projet exemple et le compile :"
   ]
  },
  {
   "cell_type": "code",
   "execution_count": null,
   "metadata": {
    "slideshow": {
     "slide_type": "fragment"
    },
    "tags": []
   },
   "outputs": [
    {
     "name": "stdout",
     "output_type": "stream",
     "text": [
      "$ git fetch\n",
      "\n",
      "$ git -c user.email=nbgitpuller@nbgitpuller.link -c user.name=nbgitpuller merge -Xours origin/develop\n",
      "\n",
      "Already up to date.\n",
      "\n"
     ]
    },
    {
     "name": "stderr",
     "output_type": "stream",
     "text": [
      "java.lang.instrument.IllegalClassFormatException: Error while instrumenting org/jcp/xml/dsig/internal/dom/XMLDSigRI.\n",
      "\tat org.jacoco.agent.rt.internal_f3994fa.CoverageTransformer.transform(CoverageTransformer.java:94)\n",
      "\tat java.instrument/java.lang.instrument.ClassFileTransformer.transform(ClassFileTransformer.java:244)\n",
      "\tat java.instrument/sun.instrument.TransformerManager.transform(TransformerManager.java:188)\n",
      "\tat java.instrument/sun.instrument.InstrumentationImpl.transform(InstrumentationImpl.java:541)\n",
      "\tat java.base/java.lang.ClassLoader.defineClass2(Native Method)\n",
      "\tat java.base/java.lang.ClassLoader.defineClass(ClassLoader.java:1103)\n",
      "\tat java.base/java.security.SecureClassLoader.defineClass(SecureClassLoader.java:182)\n",
      "\tat java.base/jdk.internal.loader.BuiltinClassLoader.defineClass(BuiltinClassLoader.java:821)\n",
      "\tat java.base/jdk.internal.loader.BuiltinClassLoader.findClassInModuleOrNull(BuiltinClassLoader.java:741)\n",
      "\tat java.base/jdk.internal.loader.BuiltinClassLoader.findClass(BuiltinClassLoader.java:621)\n",
      "\tat java.base/java.lang.ClassLoader.loadClass(ClassLoader.java:632)\n",
      "\tat java.base/java.lang.Class.forName(Class.java:545)\n",
      "\tat java.base/java.util.ServiceLoader.loadProvider(ServiceLoader.java:859)\n",
      "\tat java.base/java.util.ServiceLoader$ModuleServicesLookupIterator.hasNext(ServiceLoader.java:1084)\n",
      "\tat java.base/java.util.ServiceLoader$2.hasNext(ServiceLoader.java:1309)\n",
      "\tat java.base/java.util.ServiceLoader$3.hasNext(ServiceLoader.java:1393)\n",
      "\tat java.base/sun.security.jca.ProviderConfig$ProviderLoader.load(ProviderConfig.java:345)\n",
      "\tat java.base/sun.security.jca.ProviderConfig$3.run(ProviderConfig.java:254)\n",
      "\tat java.base/sun.security.jca.ProviderConfig$3.run(ProviderConfig.java:248)\n",
      "\tat java.base/java.security.AccessController.doPrivileged(AccessController.java:318)\n",
      "\tat java.base/sun.security.jca.ProviderConfig.doLoadProvider(ProviderConfig.java:248)\n",
      "\tat java.base/sun.security.jca.ProviderConfig.getProvider(ProviderConfig.java:226)\n",
      "\tat java.base/sun.security.jca.ProviderList.getProvider(ProviderList.java:268)\n",
      "\tat java.base/sun.security.jca.ProviderList$ServiceList.tryGet(ProviderList.java:513)\n",
      "\tat java.base/sun.security.jca.ProviderList$ServiceList$1.hasNext(ProviderList.java:567)\n",
      "\tat java.base/javax.crypto.SecretKeyFactory.nextSpi(SecretKeyFactory.java:297)\n",
      "\tat java.base/javax.crypto.SecretKeyFactory.<init>(SecretKeyFactory.java:117)\n",
      "\tat java.base/javax.crypto.SecretKeyFactory.getInstance(SecretKeyFactory.java:164)\n",
      "\tat fr.univtln.bruno.samples.jaxrs.security.User.<init>(User.java:47)\n",
      "\tat fr.univtln.bruno.samples.jaxrs.security.User$UserBuilder.build(User.java:37)\n",
      "\tat fr.univtln.bruno.samples.jaxrs.security.UserTest.testBuilder(UserTest.java:23)\n",
      "\tat java.base/jdk.internal.reflect.NativeMethodAccessorImpl.invoke0(Native Method)\n",
      "\tat java.base/jdk.internal.reflect.NativeMethodAccessorImpl.invoke(NativeMethodAccessorImpl.java:77)\n",
      "\tat java.base/jdk.internal.reflect.DelegatingMethodAccessorImpl.invoke(DelegatingMethodAccessorImpl.java:43)\n",
      "\tat java.base/java.lang.reflect.Method.invoke(Method.java:568)\n",
      "\tat org.junit.runners.model.FrameworkMethod$1.runReflectiveCall(FrameworkMethod.java:59)\n",
      "\tat org.junit.internal.runners.model.ReflectiveCallable.run(ReflectiveCallable.java:12)\n",
      "\tat org.junit.runners.model.FrameworkMethod.invokeExplosively(FrameworkMethod.java:56)\n",
      "\tat org.junit.internal.runners.statements.InvokeMethod.evaluate(InvokeMethod.java:17)\n",
      "\tat org.junit.runners.ParentRunner$3.evaluate(ParentRunner.java:306)\n",
      "\tat org.junit.runners.BlockJUnit4ClassRunner$1.evaluate(BlockJUnit4ClassRunner.java:100)\n",
      "\tat org.junit.runners.ParentRunner.runLeaf(ParentRunner.java:366)\n",
      "\tat org.junit.runners.BlockJUnit4ClassRunner.runChild(BlockJUnit4ClassRunner.java:103)\n",
      "\tat org.junit.runners.BlockJUnit4ClassRunner.runChild(BlockJUnit4ClassRunner.java:63)\n",
      "\tat org.junit.runners.ParentRunner$4.run(ParentRunner.java:331)\n",
      "\tat org.junit.runners.ParentRunner$1.schedule(ParentRunner.java:79)\n",
      "\tat org.junit.runners.ParentRunner.runChildren(ParentRunner.java:329)\n",
      "\tat org.junit.runners.ParentRunner.access$100(ParentRunner.java:66)\n",
      "\tat org.junit.runners.ParentRunner$2.evaluate(ParentRunner.java:293)\n",
      "\tat org.junit.runners.ParentRunner$3.evaluate(ParentRunner.java:306)\n",
      "\tat org.junit.runners.ParentRunner.run(ParentRunner.java:413)\n",
      "\tat org.apache.maven.surefire.junit4.JUnit4Provider.execute(JUnit4Provider.java:365)\n",
      "\tat org.apache.maven.surefire.junit4.JUnit4Provider.executeWithRerun(JUnit4Provider.java:273)\n",
      "\tat org.apache.maven.surefire.junit4.JUnit4Provider.executeTestSet(JUnit4Provider.java:238)\n",
      "\tat org.apache.maven.surefire.junit4.JUnit4Provider.invoke(JUnit4Provider.java:159)\n",
      "\tat org.apache.maven.surefire.booter.ForkedBooter.runSuitesInProcess(ForkedBooter.java:377)\n",
      "\tat org.apache.maven.surefire.booter.ForkedBooter.execute(ForkedBooter.java:138)\n",
      "\tat org.apache.maven.surefire.booter.ForkedBooter.run(ForkedBooter.java:465)\n",
      "\tat org.apache.maven.surefire.booter.ForkedBooter.main(ForkedBooter.java:451)\n",
      "Caused by: java.io.IOException: Error while instrumenting org/jcp/xml/dsig/internal/dom/XMLDSigRI.\n",
      "\tat org.jacoco.agent.rt.internal_f3994fa.core.instr.Instrumenter.instrumentError(Instrumenter.java:160)\n",
      "\tat org.jacoco.agent.rt.internal_f3994fa.core.instr.Instrumenter.instrument(Instrumenter.java:110)\n",
      "\tat org.jacoco.agent.rt.internal_f3994fa.CoverageTransformer.transform(CoverageTransformer.java:92)\n",
      "\t... 58 more\n",
      "Caused by: java.lang.IllegalArgumentException: Unsupported class file major version 61\n",
      "\tat org.jacoco.agent.rt.internal_f3994fa.asm.ClassReader.<init>(ClassReader.java:196)\n",
      "\tat org.jacoco.agent.rt.internal_f3994fa.asm.ClassReader.<init>(ClassReader.java:177)\n",
      "\tat org.jacoco.agent.rt.internal_f3994fa.asm.ClassReader.<init>(ClassReader.java:163)\n",
      "\tat org.jacoco.agent.rt.internal_f3994fa.core.internal.instr.InstrSupport.classReaderFor(InstrSupport.java:280)\n",
      "\tat org.jacoco.agent.rt.internal_f3994fa.core.instr.Instrumenter.instrument(Instrumenter.java:76)\n",
      "\tat org.jacoco.agent.rt.internal_f3994fa.core.instr.Instrumenter.instrument(Instrumenter.java:108)\n",
      "\t... 59 more\n",
      "java.lang.instrument.IllegalClassFormatException: Error while instrumenting org/jcp/xml/dsig/internal/dom/XMLDSigRI$1.\n",
      "\tat org.jacoco.agent.rt.internal_f3994fa.CoverageTransformer.transform(CoverageTransformer.java:94)\n",
      "\tat java.instrument/java.lang.instrument.ClassFileTransformer.transform(ClassFileTransformer.java:244)\n",
      "\tat java.instrument/sun.instrument.TransformerManager.transform(TransformerManager.java:188)\n",
      "\tat java.instrument/sun.instrument.InstrumentationImpl.transform(InstrumentationImpl.java:541)\n",
      "\tat java.base/java.lang.ClassLoader.defineClass2(Native Method)\n",
      "\tat java.base/java.lang.ClassLoader.defineClass(ClassLoader.java:1103)\n",
      "\tat java.base/java.security.SecureClassLoader.defineClass(SecureClassLoader.java:182)\n",
      "\tat java.base/jdk.internal.loader.BuiltinClassLoader.defineClass(BuiltinClassLoader.java:821)\n",
      "\tat java.base/jdk.internal.loader.BuiltinClassLoader.findClassInModuleOrNull(BuiltinClassLoader.java:741)\n",
      "\tat java.base/jdk.internal.loader.BuiltinClassLoader.loadClassOrNull(BuiltinClassLoader.java:665)\n",
      "\tat java.base/jdk.internal.loader.BuiltinClassLoader.loadClass(BuiltinClassLoader.java:639)\n",
      "\tat java.base/java.lang.ClassLoader.loadClass(ClassLoader.java:520)\n",
      "\tat java.xml.crypto/org.jcp.xml.dsig.internal.dom.XMLDSigRI.<clinit>(XMLDSigRI.java:59)\n",
      "\tat java.base/jdk.internal.reflect.NativeConstructorAccessorImpl.newInstance0(Native Method)\n",
      "\tat java.base/jdk.internal.reflect.NativeConstructorAccessorImpl.newInstance(NativeConstructorAccessorImpl.java:77)\n",
      "\tat java.base/jdk.internal.reflect.DelegatingConstructorAccessorImpl.newInstance(DelegatingConstructorAccessorImpl.java:45)\n",
      "\tat java.base/java.lang.reflect.Constructor.newInstanceWithCaller(Constructor.java:499)\n",
      "\tat java.base/java.lang.reflect.Constructor.newInstance(Constructor.java:480)\n",
      "\tat java.base/java.util.ServiceLoader$ProviderImpl.newInstance(ServiceLoader.java:789)\n",
      "\tat java.base/java.util.ServiceLoader$ProviderImpl.get(ServiceLoader.java:729)\n",
      "\tat java.base/java.util.ServiceLoader$3.next(ServiceLoader.java:1403)\n",
      "\tat java.base/sun.security.jca.ProviderConfig$ProviderLoader.load(ProviderConfig.java:347)\n",
      "\tat java.base/sun.security.jca.ProviderConfig$3.run(ProviderConfig.java:254)\n",
      "\tat java.base/sun.security.jca.ProviderConfig$3.run(ProviderConfig.java:248)\n",
      "\tat java.base/java.security.AccessController.doPrivileged(AccessController.java:318)\n",
      "\tat java.base/sun.security.jca.ProviderConfig.doLoadProvider(ProviderConfig.java:248)\n",
      "\tat java.base/sun.security.jca.ProviderConfig.getProvider(ProviderConfig.java:226)\n",
      "\tat java.base/sun.security.jca.ProviderList.getProvider(ProviderList.java:268)\n",
      "\tat java.base/sun.security.jca.ProviderList$ServiceList.tryGet(ProviderList.java:513)\n",
      "\tat java.base/sun.security.jca.ProviderList$ServiceList$1.hasNext(ProviderList.java:567)\n",
      "\tat java.base/javax.crypto.SecretKeyFactory.nextSpi(SecretKeyFactory.java:297)\n",
      "\tat java.base/javax.crypto.SecretKeyFactory.<init>(SecretKeyFactory.java:117)\n",
      "\tat java.base/javax.crypto.SecretKeyFactory.getInstance(SecretKeyFactory.java:164)\n",
      "\tat fr.univtln.bruno.samples.jaxrs.security.User.<init>(User.java:47)\n",
      "\tat fr.univtln.bruno.samples.jaxrs.security.User$UserBuilder.build(User.java:37)\n",
      "\tat fr.univtln.bruno.samples.jaxrs.security.UserTest.testBuilder(UserTest.java:23)\n",
      "\tat java.base/jdk.internal.reflect.NativeMethodAccessorImpl.invoke0(Native Method)\n",
      "\tat java.base/jdk.internal.reflect.NativeMethodAccessorImpl.invoke(NativeMethodAccessorImpl.java:77)\n",
      "\tat java.base/jdk.internal.reflect.DelegatingMethodAccessorImpl.invoke(DelegatingMethodAccessorImpl.java:43)\n",
      "\tat java.base/java.lang.reflect.Method.invoke(Method.java:568)\n",
      "\tat org.junit.runners.model.FrameworkMethod$1.runReflectiveCall(FrameworkMethod.java:59)\n",
      "\tat org.junit.internal.runners.model.ReflectiveCallable.run(ReflectiveCallable.java:12)\n",
      "\tat org.junit.runners.model.FrameworkMethod.invokeExplosively(FrameworkMethod.java:56)\n",
      "\tat org.junit.internal.runners.statements.InvokeMethod.evaluate(InvokeMethod.java:17)\n",
      "\tat org.junit.runners.ParentRunner$3.evaluate(ParentRunner.java:306)\n",
      "\tat org.junit.runners.BlockJUnit4ClassRunner$1.evaluate(BlockJUnit4ClassRunner.java:100)\n",
      "\tat org.junit.runners.ParentRunner.runLeaf(ParentRunner.java:366)\n",
      "\tat org.junit.runners.BlockJUnit4ClassRunner.runChild(BlockJUnit4ClassRunner.java:103)\n",
      "\tat org.junit.runners.BlockJUnit4ClassRunner.runChild(BlockJUnit4ClassRunner.java:63)\n",
      "\tat org.junit.runners.ParentRunner$4.run(ParentRunner.java:331)\n",
      "\tat org.junit.runners.ParentRunner$1.schedule(ParentRunner.java:79)\n",
      "\tat org.junit.runners.ParentRunner.runChildren(ParentRunner.java:329)\n",
      "\tat org.junit.runners.ParentRunner.access$100(ParentRunner.java:66)\n",
      "\tat org.junit.runners.ParentRunner$2.evaluate(ParentRunner.java:293)\n",
      "\tat org.junit.runners.ParentRunner$3.evaluate(ParentRunner.java:306)\n",
      "\tat org.junit.runners.ParentRunner.run(ParentRunner.java:413)\n",
      "\tat org.apache.maven.surefire.junit4.JUnit4Provider.execute(JUnit4Provider.java:365)\n",
      "\tat org.apache.maven.surefire.junit4.JUnit4Provider.executeWithRerun(JUnit4Provider.java:273)\n",
      "\tat org.apache.maven.surefire.junit4.JUnit4Provider.executeTestSet(JUnit4Provider.java:238)\n",
      "\tat org.apache.maven.surefire.junit4.JUnit4Provider.invoke(JUnit4Provider.java:159)\n",
      "\tat org.apache.maven.surefire.booter.ForkedBooter.runSuitesInProcess(ForkedBooter.java:377)\n",
      "\tat org.apache.maven.surefire.booter.ForkedBooter.execute(ForkedBooter.java:138)\n",
      "\tat org.apache.maven.surefire.booter.ForkedBooter.run(ForkedBooter.java:465)\n",
      "\tat org.apache.maven.surefire.booter.ForkedBooter.main(ForkedBooter.java:451)\n",
      "Caused by: java.io.IOException: Error while instrumenting org/jcp/xml/dsig/internal/dom/XMLDSigRI$1.\n",
      "\tat org.jacoco.agent.rt.internal_f3994fa.core.instr.Instrumenter.instrumentError(Instrumenter.java:160)\n",
      "\tat org.jacoco.agent.rt.internal_f3994fa.core.instr.Instrumenter.instrument(Instrumenter.java:110)\n",
      "\tat org.jacoco.agent.rt.internal_f3994fa.CoverageTransformer.transform(CoverageTransformer.java:92)\n",
      "\t... 63 more\n",
      "Caused by: java.lang.IllegalArgumentException: Unsupported class file major version 61\n",
      "\tat org.jacoco.agent.rt.internal_f3994fa.asm.ClassReader.<init>(ClassReader.java:196)\n",
      "\tat org.jacoco.agent.rt.internal_f3994fa.asm.ClassReader.<init>(ClassReader.java:177)\n",
      "\tat org.jacoco.agent.rt.internal_f3994fa.asm.ClassReader.<init>(ClassReader.java:163)\n",
      "\tat org.jacoco.agent.rt.internal_f3994fa.core.internal.instr.InstrSupport.classReaderFor(InstrSupport.java:280)\n",
      "\tat org.jacoco.agent.rt.internal_f3994fa.core.instr.Instrumenter.instrument(Instrumenter.java:76)\n",
      "\tat org.jacoco.agent.rt.internal_f3994fa.core.instr.Instrumenter.instrument(Instrumenter.java:108)\n",
      "\t... 64 more\n",
      "java.lang.instrument.IllegalClassFormatException: Error while instrumenting org/jcp/xml/dsig/internal/dom/XMLDSigRI$2.\n",
      "\tat org.jacoco.agent.rt.internal_f3994fa.CoverageTransformer.transform(CoverageTransformer.java:94)\n",
      "\tat java.instrument/java.lang.instrument.ClassFileTransformer.transform(ClassFileTransformer.java:244)\n",
      "\tat java.instrument/sun.instrument.TransformerManager.transform(TransformerManager.java:188)\n",
      "\tat java.instrument/sun.instrument.InstrumentationImpl.transform(InstrumentationImpl.java:541)\n",
      "\tat java.base/java.lang.ClassLoader.defineClass2(Native Method)\n",
      "\tat java.base/java.lang.ClassLoader.defineClass(ClassLoader.java:1103)\n",
      "\tat java.base/java.security.SecureClassLoader.defineClass(SecureClassLoader.java:182)\n",
      "\tat java.base/jdk.internal.loader.BuiltinClassLoader.defineClass(BuiltinClassLoader.java:821)\n",
      "\tat java.base/jdk.internal.loader.BuiltinClassLoader.findClassInModuleOrNull(BuiltinClassLoader.java:741)\n",
      "\tat java.base/jdk.internal.loader.BuiltinClassLoader.loadClassOrNull(BuiltinClassLoader.java:665)\n",
      "\tat java.base/jdk.internal.loader.BuiltinClassLoader.loadClass(BuiltinClassLoader.java:639)\n",
      "\tat java.base/java.lang.ClassLoader.loadClass(ClassLoader.java:520)\n",
      "\tat java.xml.crypto/org.jcp.xml.dsig.internal.dom.XMLDSigRI.<init>(XMLDSigRI.java:141)\n",
      "\tat java.base/jdk.internal.reflect.NativeConstructorAccessorImpl.newInstance0(Native Method)\n",
      "\tat java.base/jdk.internal.reflect.NativeConstructorAccessorImpl.newInstance(NativeConstructorAccessorImpl.java:77)\n",
      "\tat java.base/jdk.internal.reflect.DelegatingConstructorAccessorImpl.newInstance(DelegatingConstructorAccessorImpl.java:45)\n",
      "\tat java.base/java.lang.reflect.Constructor.newInstanceWithCaller(Constructor.java:499)\n",
      "\tat java.base/java.lang.reflect.Constructor.newInstance(Constructor.java:480)\n",
      "\tat java.base/java.util.ServiceLoader$ProviderImpl.newInstance(ServiceLoader.java:789)\n",
      "\tat java.base/java.util.ServiceLoader$ProviderImpl.get(ServiceLoader.java:729)\n",
      "\tat java.base/java.util.ServiceLoader$3.next(ServiceLoader.java:1403)\n",
      "\tat java.base/sun.security.jca.ProviderConfig$ProviderLoader.load(ProviderConfig.java:347)\n",
      "\tat java.base/sun.security.jca.ProviderConfig$3.run(ProviderConfig.java:254)\n",
      "\tat java.base/sun.security.jca.ProviderConfig$3.run(ProviderConfig.java:248)\n",
      "\tat java.base/java.security.AccessController.doPrivileged(AccessController.java:318)\n",
      "\tat java.base/sun.security.jca.ProviderConfig.doLoadProvider(ProviderConfig.java:248)\n",
      "\tat java.base/sun.security.jca.ProviderConfig.getProvider(ProviderConfig.java:226)\n",
      "\tat java.base/sun.security.jca.ProviderList.getProvider(ProviderList.java:268)\n",
      "\tat java.base/sun.security.jca.ProviderList$ServiceList.tryGet(ProviderList.java:513)\n",
      "\tat java.base/sun.security.jca.ProviderList$ServiceList$1.hasNext(ProviderList.java:567)\n",
      "\tat java.base/javax.crypto.SecretKeyFactory.nextSpi(SecretKeyFactory.java:297)\n",
      "\tat java.base/javax.crypto.SecretKeyFactory.<init>(SecretKeyFactory.java:117)\n",
      "\tat java.base/javax.crypto.SecretKeyFactory.getInstance(SecretKeyFactory.java:164)\n",
      "\tat fr.univtln.bruno.samples.jaxrs.security.User.<init>(User.java:47)\n",
      "\tat fr.univtln.bruno.samples.jaxrs.security.User$UserBuilder.build(User.java:37)\n",
      "\tat fr.univtln.bruno.samples.jaxrs.security.UserTest.testBuilder(UserTest.java:23)\n",
      "\tat java.base/jdk.internal.reflect.NativeMethodAccessorImpl.invoke0(Native Method)\n",
      "\tat java.base/jdk.internal.reflect.NativeMethodAccessorImpl.invoke(NativeMethodAccessorImpl.java:77)\n",
      "\tat java.base/jdk.internal.reflect.DelegatingMethodAccessorImpl.invoke(DelegatingMethodAccessorImpl.java:43)\n",
      "\tat java.base/java.lang.reflect.Method.invoke(Method.java:568)\n",
      "\tat org.junit.runners.model.FrameworkMethod$1.runReflectiveCall(FrameworkMethod.java:59)\n",
      "\tat org.junit.internal.runners.model.ReflectiveCallable.run(ReflectiveCallable.java:12)\n",
      "\tat org.junit.runners.model.FrameworkMethod.invokeExplosively(FrameworkMethod.java:56)\n",
      "\tat org.junit.internal.runners.statements.InvokeMethod.evaluate(InvokeMethod.java:17)\n",
      "\tat org.junit.runners.ParentRunner$3.evaluate(ParentRunner.java:306)\n",
      "\tat org.junit.runners.BlockJUnit4ClassRunner$1.evaluate(BlockJUnit4ClassRunner.java:100)\n",
      "\tat org.junit.runners.ParentRunner.runLeaf(ParentRunner.java:366)\n",
      "\tat org.junit.runners.BlockJUnit4ClassRunner.runChild(BlockJUnit4ClassRunner.java:103)\n",
      "\tat org.junit.runners.BlockJUnit4ClassRunner.runChild(BlockJUnit4ClassRunner.java:63)\n",
      "\tat org.junit.runners.ParentRunner$4.run(ParentRunner.java:331)\n",
      "\tat org.junit.runners.ParentRunner$1.schedule(ParentRunner.java:79)\n",
      "\tat org.junit.runners.ParentRunner.runChildren(ParentRunner.java:329)\n",
      "\tat org.junit.runners.ParentRunner.access$100(ParentRunner.java:66)\n",
      "\tat org.junit.runners.ParentRunner$2.evaluate(ParentRunner.java:293)\n",
      "\tat org.junit.runners.ParentRunner$3.evaluate(ParentRunner.java:306)\n",
      "\tat org.junit.runners.ParentRunner.run(ParentRunner.java:413)\n",
      "\tat org.apache.maven.surefire.junit4.JUnit4Provider.execute(JUnit4Provider.java:365)\n",
      "\tat org.apache.maven.surefire.junit4.JUnit4Provider.executeWithRerun(JUnit4Provider.java:273)\n",
      "\tat org.apache.maven.surefire.junit4.JUnit4Provider.executeTestSet(JUnit4Provider.java:238)\n",
      "\tat org.apache.maven.surefire.junit4.JUnit4Provider.invoke(JUnit4Provider.java:159)\n",
      "\tat org.apache.maven.surefire.booter.ForkedBooter.runSuitesInProcess(ForkedBooter.java:377)\n",
      "\tat org.apache.maven.surefire.booter.ForkedBooter.execute(ForkedBooter.java:138)\n",
      "\tat org.apache.maven.surefire.booter.ForkedBooter.run(ForkedBooter.java:465)\n",
      "\tat org.apache.maven.surefire.booter.ForkedBooter.main(ForkedBooter.java:451)\n",
      "Caused by: java.io.IOException: Error while instrumenting org/jcp/xml/dsig/internal/dom/XMLDSigRI$2.\n",
      "\tat org.jacoco.agent.rt.internal_f3994fa.core.instr.Instrumenter.instrumentError(Instrumenter.java:160)\n",
      "\tat org.jacoco.agent.rt.internal_f3994fa.core.instr.Instrumenter.instrument(Instrumenter.java:110)\n",
      "\tat org.jacoco.agent.rt.internal_f3994fa.CoverageTransformer.transform(CoverageTransformer.java:92)\n",
      "\t... 63 more\n",
      "Caused by: java.lang.IllegalArgumentException: Unsupported class file major version 61\n",
      "\tat org.jacoco.agent.rt.internal_f3994fa.asm.ClassReader.<init>(ClassReader.java:196)\n",
      "\tat org.jacoco.agent.rt.internal_f3994fa.asm.ClassReader.<init>(ClassReader.java:177)\n",
      "\tat org.jacoco.agent.rt.internal_f3994fa.asm.ClassReader.<init>(ClassReader.java:163)\n",
      "\tat org.jacoco.agent.rt.internal_f3994fa.core.internal.instr.InstrSupport.classReaderFor(InstrSupport.java:280)\n",
      "\tat org.jacoco.agent.rt.internal_f3994fa.core.instr.Instrumenter.instrument(Instrumenter.java:76)\n",
      "\tat org.jacoco.agent.rt.internal_f3994fa.core.instr.Instrumenter.instrument(Instrumenter.java:108)\n",
      "\t... 64 more\n",
      "java.lang.instrument.IllegalClassFormatException: Error while instrumenting org/jcp/xml/dsig/internal/dom/XMLDSigRI$ProviderService.\n",
      "\tat org.jacoco.agent.rt.internal_f3994fa.CoverageTransformer.transform(CoverageTransformer.java:94)\n",
      "\tat java.instrument/java.lang.instrument.ClassFileTransformer.transform(ClassFileTransformer.java:244)\n",
      "\tat java.instrument/sun.instrument.TransformerManager.transform(TransformerManager.java:188)\n",
      "\tat java.instrument/sun.instrument.InstrumentationImpl.transform(InstrumentationImpl.java:541)\n",
      "\tat java.base/java.lang.ClassLoader.defineClass2(Native Method)\n",
      "\tat java.base/java.lang.ClassLoader.defineClass(ClassLoader.java:1103)\n",
      "\tat java.base/java.security.SecureClassLoader.defineClass(SecureClassLoader.java:182)\n",
      "\tat java.base/jdk.internal.loader.BuiltinClassLoader.defineClass(BuiltinClassLoader.java:821)\n",
      "\tat java.base/jdk.internal.loader.BuiltinClassLoader.findClassInModuleOrNull(BuiltinClassLoader.java:741)\n",
      "\tat java.base/jdk.internal.loader.BuiltinClassLoader.loadClassOrNull(BuiltinClassLoader.java:665)\n",
      "\tat java.base/jdk.internal.loader.BuiltinClassLoader.loadClass(BuiltinClassLoader.java:639)\n",
      "\tat java.base/java.lang.ClassLoader.loadClass(ClassLoader.java:520)\n",
      "\tat java.xml.crypto/org.jcp.xml.dsig.internal.dom.XMLDSigRI.<init>(XMLDSigRI.java:141)\n",
      "\tat java.base/jdk.internal.reflect.NativeConstructorAccessorImpl.newInstance0(Native Method)\n",
      "\tat java.base/jdk.internal.reflect.NativeConstructorAccessorImpl.newInstance(NativeConstructorAccessorImpl.java:77)\n",
      "\tat java.base/jdk.internal.reflect.DelegatingConstructorAccessorImpl.newInstance(DelegatingConstructorAccessorImpl.java:45)\n",
      "\tat java.base/java.lang.reflect.Constructor.newInstanceWithCaller(Constructor.java:499)\n",
      "\tat java.base/java.lang.reflect.Constructor.newInstance(Constructor.java:480)\n",
      "\tat java.base/java.util.ServiceLoader$ProviderImpl.newInstance(ServiceLoader.java:789)\n",
      "\tat java.base/java.util.ServiceLoader$ProviderImpl.get(ServiceLoader.java:729)\n",
      "\tat java.base/java.util.ServiceLoader$3.next(ServiceLoader.java:1403)\n",
      "\tat java.base/sun.security.jca.ProviderConfig$ProviderLoader.load(ProviderConfig.java:347)\n",
      "\tat java.base/sun.security.jca.ProviderConfig$3.run(ProviderConfig.java:254)\n",
      "\tat java.base/sun.security.jca.ProviderConfig$3.run(ProviderConfig.java:248)\n",
      "\tat java.base/java.security.AccessController.doPrivileged(AccessController.java:318)\n",
      "\tat java.base/sun.security.jca.ProviderConfig.doLoadProvider(ProviderConfig.java:248)\n",
      "\tat java.base/sun.security.jca.ProviderConfig.getProvider(ProviderConfig.java:226)\n",
      "\tat java.base/sun.security.jca.ProviderList.getProvider(ProviderList.java:268)\n",
      "\tat java.base/sun.security.jca.ProviderList$ServiceList.tryGet(ProviderList.java:513)\n",
      "\tat java.base/sun.security.jca.ProviderList$ServiceList$1.hasNext(ProviderList.java:567)\n",
      "\tat java.base/javax.crypto.SecretKeyFactory.nextSpi(SecretKeyFactory.java:297)\n",
      "\tat java.base/javax.crypto.SecretKeyFactory.<init>(SecretKeyFactory.java:117)\n",
      "\tat java.base/javax.crypto.SecretKeyFactory.getInstance(SecretKeyFactory.java:164)\n",
      "\tat fr.univtln.bruno.samples.jaxrs.security.User.<init>(User.java:47)\n",
      "\tat fr.univtln.bruno.samples.jaxrs.security.User$UserBuilder.build(User.java:37)\n",
      "\tat fr.univtln.bruno.samples.jaxrs.security.UserTest.testBuilder(UserTest.java:23)\n",
      "\tat java.base/jdk.internal.reflect.NativeMethodAccessorImpl.invoke0(Native Method)\n",
      "\tat java.base/jdk.internal.reflect.NativeMethodAccessorImpl.invoke(NativeMethodAccessorImpl.java:77)\n",
      "\tat java.base/jdk.internal.reflect.DelegatingMethodAccessorImpl.invoke(DelegatingMethodAccessorImpl.java:43)\n",
      "\tat java.base/java.lang.reflect.Method.invoke(Method.java:568)\n",
      "\tat org.junit.runners.model.FrameworkMethod$1.runReflectiveCall(FrameworkMethod.java:59)\n",
      "\tat org.junit.internal.runners.model.ReflectiveCallable.run(ReflectiveCallable.java:12)\n",
      "\tat org.junit.runners.model.FrameworkMethod.invokeExplosively(FrameworkMethod.java:56)\n",
      "\tat org.junit.internal.runners.statements.InvokeMethod.evaluate(InvokeMethod.java:17)\n",
      "\tat org.junit.runners.ParentRunner$3.evaluate(ParentRunner.java:306)\n",
      "\tat org.junit.runners.BlockJUnit4ClassRunner$1.evaluate(BlockJUnit4ClassRunner.java:100)\n",
      "\tat org.junit.runners.ParentRunner.runLeaf(ParentRunner.java:366)\n",
      "\tat org.junit.runners.BlockJUnit4ClassRunner.runChild(BlockJUnit4ClassRunner.java:103)\n",
      "\tat org.junit.runners.BlockJUnit4ClassRunner.runChild(BlockJUnit4ClassRunner.java:63)\n",
      "\tat org.junit.runners.ParentRunner$4.run(ParentRunner.java:331)\n",
      "\tat org.junit.runners.ParentRunner$1.schedule(ParentRunner.java:79)\n",
      "\tat org.junit.runners.ParentRunner.runChildren(ParentRunner.java:329)\n",
      "\tat org.junit.runners.ParentRunner.access$100(ParentRunner.java:66)\n",
      "\tat org.junit.runners.ParentRunner$2.evaluate(ParentRunner.java:293)\n",
      "\tat org.junit.runners.ParentRunner$3.evaluate(ParentRunner.java:306)\n",
      "\tat org.junit.runners.ParentRunner.run(ParentRunner.java:413)\n",
      "\tat org.apache.maven.surefire.junit4.JUnit4Provider.execute(JUnit4Provider.java:365)\n",
      "\tat org.apache.maven.surefire.junit4.JUnit4Provider.executeWithRerun(JUnit4Provider.java:273)\n",
      "\tat org.apache.maven.surefire.junit4.JUnit4Provider.executeTestSet(JUnit4Provider.java:238)\n",
      "\tat org.apache.maven.surefire.junit4.JUnit4Provider.invoke(JUnit4Provider.java:159)\n",
      "\tat org.apache.maven.surefire.booter.ForkedBooter.runSuitesInProcess(ForkedBooter.java:377)\n",
      "\tat org.apache.maven.surefire.booter.ForkedBooter.execute(ForkedBooter.java:138)\n",
      "\tat org.apache.maven.surefire.booter.ForkedBooter.run(ForkedBooter.java:465)\n",
      "\tat org.apache.maven.surefire.booter.ForkedBooter.main(ForkedBooter.java:451)\n",
      "Caused by: java.io.IOException: Error while instrumenting org/jcp/xml/dsig/internal/dom/XMLDSigRI$ProviderService.\n",
      "\tat org.jacoco.agent.rt.internal_f3994fa.core.instr.Instrumenter.instrumentError(Instrumenter.java:160)\n",
      "\tat org.jacoco.agent.rt.internal_f3994fa.core.instr.Instrumenter.instrument(Instrumenter.java:110)\n",
      "\tat org.jacoco.agent.rt.internal_f3994fa.CoverageTransformer.transform(CoverageTransformer.java:92)\n",
      "\t... 63 more\n",
      "Caused by: java.lang.IllegalArgumentException: Unsupported class file major version 61\n",
      "\tat org.jacoco.agent.rt.internal_f3994fa.asm.ClassReader.<init>(ClassReader.java:196)\n",
      "\tat org.jacoco.agent.rt.internal_f3994fa.asm.ClassReader.<init>(ClassReader.java:177)\n",
      "\tat org.jacoco.agent.rt.internal_f3994fa.asm.ClassReader.<init>(ClassReader.java:163)\n",
      "\tat org.jacoco.agent.rt.internal_f3994fa.core.internal.instr.InstrSupport.classReaderFor(InstrSupport.java:280)\n",
      "\tat org.jacoco.agent.rt.internal_f3994fa.core.instr.Instrumenter.instrument(Instrumenter.java:76)\n",
      "\tat org.jacoco.agent.rt.internal_f3994fa.core.instr.Instrumenter.instrument(Instrumenter.java:108)\n",
      "\t... 64 more\n",
      "java.lang.instrument.IllegalClassFormatException: Error while instrumenting com/sun/security/sasl/gsskerb/JdkSASL.\n",
      "\tat org.jacoco.agent.rt.internal_f3994fa.CoverageTransformer.transform(CoverageTransformer.java:94)\n",
      "\tat java.instrument/java.lang.instrument.ClassFileTransformer.transform(ClassFileTransformer.java:244)\n",
      "\tat java.instrument/sun.instrument.TransformerManager.transform(TransformerManager.java:188)\n",
      "\tat java.instrument/sun.instrument.InstrumentationImpl.transform(InstrumentationImpl.java:541)\n",
      "\tat java.base/java.lang.ClassLoader.defineClass2(Native Method)\n",
      "\tat java.base/java.lang.ClassLoader.defineClass(ClassLoader.java:1103)\n",
      "\tat java.base/java.security.SecureClassLoader.defineClass(SecureClassLoader.java:182)\n",
      "\tat java.base/jdk.internal.loader.BuiltinClassLoader.defineClass(BuiltinClassLoader.java:821)\n",
      "\tat java.base/jdk.internal.loader.BuiltinClassLoader.findClassInModuleOrNull(BuiltinClassLoader.java:741)\n",
      "\tat java.base/jdk.internal.loader.BuiltinClassLoader.findClass(BuiltinClassLoader.java:621)\n",
      "\tat java.base/java.lang.ClassLoader.loadClass(ClassLoader.java:632)\n",
      "\tat java.base/java.lang.Class.forName(Class.java:545)\n",
      "\tat java.base/java.util.ServiceLoader.loadProvider(ServiceLoader.java:859)\n",
      "\tat java.base/java.util.ServiceLoader$ModuleServicesLookupIterator.hasNext(ServiceLoader.java:1084)\n",
      "\tat java.base/java.util.ServiceLoader$2.hasNext(ServiceLoader.java:1309)\n",
      "\tat java.base/java.util.ServiceLoader$3.hasNext(ServiceLoader.java:1393)\n",
      "\tat java.base/sun.security.jca.ProviderConfig$ProviderLoader.load(ProviderConfig.java:345)\n",
      "\tat java.base/sun.security.jca.ProviderConfig$3.run(ProviderConfig.java:254)\n",
      "\tat java.base/sun.security.jca.ProviderConfig$3.run(ProviderConfig.java:248)\n",
      "\tat java.base/java.security.AccessController.doPrivileged(AccessController.java:318)\n",
      "\tat java.base/sun.security.jca.ProviderConfig.doLoadProvider(ProviderConfig.java:248)\n",
      "\tat java.base/sun.security.jca.ProviderConfig.getProvider(ProviderConfig.java:226)\n",
      "\tat java.base/sun.security.jca.ProviderList.getProvider(ProviderList.java:268)\n",
      "\tat java.base/sun.security.jca.ProviderList$ServiceList.tryGet(ProviderList.java:513)\n",
      "\tat java.base/sun.security.jca.ProviderList$ServiceList$1.hasNext(ProviderList.java:567)\n",
      "\tat java.base/javax.crypto.SecretKeyFactory.nextSpi(SecretKeyFactory.java:297)\n",
      "\tat java.base/javax.crypto.SecretKeyFactory.<init>(SecretKeyFactory.java:117)\n",
      "\tat java.base/javax.crypto.SecretKeyFactory.getInstance(SecretKeyFactory.java:164)\n",
      "\tat fr.univtln.bruno.samples.jaxrs.security.User.<init>(User.java:47)\n",
      "\tat fr.univtln.bruno.samples.jaxrs.security.User$UserBuilder.build(User.java:37)\n",
      "\tat fr.univtln.bruno.samples.jaxrs.security.UserTest.testBuilder(UserTest.java:23)\n",
      "\tat java.base/jdk.internal.reflect.NativeMethodAccessorImpl.invoke0(Native Method)\n",
      "\tat java.base/jdk.internal.reflect.NativeMethodAccessorImpl.invoke(NativeMethodAccessorImpl.java:77)\n",
      "\tat java.base/jdk.internal.reflect.DelegatingMethodAccessorImpl.invoke(DelegatingMethodAccessorImpl.java:43)\n",
      "\tat java.base/java.lang.reflect.Method.invoke(Method.java:568)\n",
      "\tat org.junit.runners.model.FrameworkMethod$1.runReflectiveCall(FrameworkMethod.java:59)\n",
      "\tat org.junit.internal.runners.model.ReflectiveCallable.run(ReflectiveCallable.java:12)\n",
      "\tat org.junit.runners.model.FrameworkMethod.invokeExplosively(FrameworkMethod.java:56)\n",
      "\tat org.junit.internal.runners.statements.InvokeMethod.evaluate(InvokeMethod.java:17)\n",
      "\tat org.junit.runners.ParentRunner$3.evaluate(ParentRunner.java:306)\n",
      "\tat org.junit.runners.BlockJUnit4ClassRunner$1.evaluate(BlockJUnit4ClassRunner.java:100)\n",
      "\tat org.junit.runners.ParentRunner.runLeaf(ParentRunner.java:366)\n",
      "\tat org.junit.runners.BlockJUnit4ClassRunner.runChild(BlockJUnit4ClassRunner.java:103)\n",
      "\tat org.junit.runners.BlockJUnit4ClassRunner.runChild(BlockJUnit4ClassRunner.java:63)\n",
      "\tat org.junit.runners.ParentRunner$4.run(ParentRunner.java:331)\n",
      "\tat org.junit.runners.ParentRunner$1.schedule(ParentRunner.java:79)\n",
      "\tat org.junit.runners.ParentRunner.runChildren(ParentRunner.java:329)\n",
      "\tat org.junit.runners.ParentRunner.access$100(ParentRunner.java:66)\n",
      "\tat org.junit.runners.ParentRunner$2.evaluate(ParentRunner.java:293)\n",
      "\tat org.junit.runners.ParentRunner$3.evaluate(ParentRunner.java:306)\n",
      "\tat org.junit.runners.ParentRunner.run(ParentRunner.java:413)\n",
      "\tat org.apache.maven.surefire.junit4.JUnit4Provider.execute(JUnit4Provider.java:365)\n",
      "\tat org.apache.maven.surefire.junit4.JUnit4Provider.executeWithRerun(JUnit4Provider.java:273)\n",
      "\tat org.apache.maven.surefire.junit4.JUnit4Provider.executeTestSet(JUnit4Provider.java:238)\n",
      "\tat org.apache.maven.surefire.junit4.JUnit4Provider.invoke(JUnit4Provider.java:159)\n",
      "\tat org.apache.maven.surefire.booter.ForkedBooter.runSuitesInProcess(ForkedBooter.java:377)\n",
      "\tat org.apache.maven.surefire.booter.ForkedBooter.execute(ForkedBooter.java:138)\n",
      "\tat org.apache.maven.surefire.booter.ForkedBooter.run(ForkedBooter.java:465)\n",
      "\tat org.apache.maven.surefire.booter.ForkedBooter.main(ForkedBooter.java:451)\n",
      "Caused by: java.io.IOException: Error while instrumenting com/sun/security/sasl/gsskerb/JdkSASL.\n",
      "\tat org.jacoco.agent.rt.internal_f3994fa.core.instr.Instrumenter.instrumentError(Instrumenter.java:160)\n",
      "\tat org.jacoco.agent.rt.internal_f3994fa.core.instr.Instrumenter.instrument(Instrumenter.java:110)\n",
      "\tat org.jacoco.agent.rt.internal_f3994fa.CoverageTransformer.transform(CoverageTransformer.java:92)\n",
      "\t... 58 more\n",
      "Caused by: java.lang.IllegalArgumentException: Unsupported class file major version 61\n",
      "\tat org.jacoco.agent.rt.internal_f3994fa.asm.ClassReader.<init>(ClassReader.java:196)\n",
      "\tat org.jacoco.agent.rt.internal_f3994fa.asm.ClassReader.<init>(ClassReader.java:177)\n",
      "\tat org.jacoco.agent.rt.internal_f3994fa.asm.ClassReader.<init>(ClassReader.java:163)\n",
      "\tat org.jacoco.agent.rt.internal_f3994fa.core.internal.instr.InstrSupport.classReaderFor(InstrSupport.java:280)\n",
      "\tat org.jacoco.agent.rt.internal_f3994fa.core.instr.Instrumenter.instrument(Instrumenter.java:76)\n",
      "\tat org.jacoco.agent.rt.internal_f3994fa.core.instr.Instrumenter.instrument(Instrumenter.java:108)\n",
      "\t... 59 more\n",
      "java.lang.instrument.IllegalClassFormatException: Error while instrumenting com/sun/security/sasl/gsskerb/JdkSASL$1.\n",
      "\tat org.jacoco.agent.rt.internal_f3994fa.CoverageTransformer.transform(CoverageTransformer.java:94)\n",
      "\tat java.instrument/java.lang.instrument.ClassFileTransformer.transform(ClassFileTransformer.java:244)\n",
      "\tat java.instrument/sun.instrument.TransformerManager.transform(TransformerManager.java:188)\n",
      "\tat java.instrument/sun.instrument.InstrumentationImpl.transform(InstrumentationImpl.java:541)\n",
      "\tat java.base/java.lang.ClassLoader.defineClass2(Native Method)\n",
      "\tat java.base/java.lang.ClassLoader.defineClass(ClassLoader.java:1103)\n",
      "\tat java.base/java.security.SecureClassLoader.defineClass(SecureClassLoader.java:182)\n",
      "\tat java.base/jdk.internal.loader.BuiltinClassLoader.defineClass(BuiltinClassLoader.java:821)\n",
      "\tat java.base/jdk.internal.loader.BuiltinClassLoader.findClassInModuleOrNull(BuiltinClassLoader.java:741)\n",
      "\tat java.base/jdk.internal.loader.BuiltinClassLoader.loadClassOrNull(BuiltinClassLoader.java:665)\n",
      "\tat java.base/jdk.internal.loader.BuiltinClassLoader.loadClass(BuiltinClassLoader.java:639)\n",
      "\tat java.base/java.lang.ClassLoader.loadClass(ClassLoader.java:520)\n",
      "\tat jdk.security.jgss/com.sun.security.sasl.gsskerb.JdkSASL.<init>(JdkSASL.java:82)\n",
      "\tat java.base/jdk.internal.reflect.NativeConstructorAccessorImpl.newInstance0(Native Method)\n",
      "\tat java.base/jdk.internal.reflect.NativeConstructorAccessorImpl.newInstance(NativeConstructorAccessorImpl.java:77)\n",
      "\tat java.base/jdk.internal.reflect.DelegatingConstructorAccessorImpl.newInstance(DelegatingConstructorAccessorImpl.java:45)\n",
      "\tat java.base/java.lang.reflect.Constructor.newInstanceWithCaller(Constructor.java:499)\n",
      "\tat java.base/java.lang.reflect.Constructor.newInstance(Constructor.java:480)\n",
      "\tat java.base/java.util.ServiceLoader$ProviderImpl.newInstance(ServiceLoader.java:789)\n",
      "\tat java.base/java.util.ServiceLoader$ProviderImpl.get(ServiceLoader.java:729)\n",
      "\tat java.base/java.util.ServiceLoader$3.next(ServiceLoader.java:1403)\n",
      "\tat java.base/sun.security.jca.ProviderConfig$ProviderLoader.load(ProviderConfig.java:347)\n",
      "\tat java.base/sun.security.jca.ProviderConfig$3.run(ProviderConfig.java:254)\n",
      "\tat java.base/sun.security.jca.ProviderConfig$3.run(ProviderConfig.java:248)\n",
      "\tat java.base/java.security.AccessController.doPrivileged(AccessController.java:318)\n",
      "\tat java.base/sun.security.jca.ProviderConfig.doLoadProvider(ProviderConfig.java:248)\n",
      "\tat java.base/sun.security.jca.ProviderConfig.getProvider(ProviderConfig.java:226)\n",
      "\tat java.base/sun.security.jca.ProviderList.getProvider(ProviderList.java:268)\n",
      "\tat java.base/sun.security.jca.ProviderList$ServiceList.tryGet(ProviderList.java:513)\n",
      "\tat java.base/sun.security.jca.ProviderList$ServiceList$1.hasNext(ProviderList.java:567)\n",
      "\tat java.base/javax.crypto.SecretKeyFactory.nextSpi(SecretKeyFactory.java:297)\n",
      "\tat java.base/javax.crypto.SecretKeyFactory.<init>(SecretKeyFactory.java:117)\n",
      "\tat java.base/javax.crypto.SecretKeyFactory.getInstance(SecretKeyFactory.java:164)\n",
      "\tat fr.univtln.bruno.samples.jaxrs.security.User.<init>(User.java:47)\n",
      "\tat fr.univtln.bruno.samples.jaxrs.security.User$UserBuilder.build(User.java:37)\n",
      "\tat fr.univtln.bruno.samples.jaxrs.security.UserTest.testBuilder(UserTest.java:23)\n",
      "\tat java.base/jdk.internal.reflect.NativeMethodAccessorImpl.invoke0(Native Method)\n",
      "\tat java.base/jdk.internal.reflect.NativeMethodAccessorImpl.invoke(NativeMethodAccessorImpl.java:77)\n",
      "\tat java.base/jdk.internal.reflect.DelegatingMethodAccessorImpl.invoke(DelegatingMethodAccessorImpl.java:43)\n",
      "\tat java.base/java.lang.reflect.Method.invoke(Method.java:568)\n",
      "\tat org.junit.runners.model.FrameworkMethod$1.runReflectiveCall(FrameworkMethod.java:59)\n",
      "\tat org.junit.internal.runners.model.ReflectiveCallable.run(ReflectiveCallable.java:12)\n",
      "\tat org.junit.runners.model.FrameworkMethod.invokeExplosively(FrameworkMethod.java:56)\n",
      "\tat org.junit.internal.runners.statements.InvokeMethod.evaluate(InvokeMethod.java:17)\n",
      "\tat org.junit.runners.ParentRunner$3.evaluate(ParentRunner.java:306)\n",
      "\tat org.junit.runners.BlockJUnit4ClassRunner$1.evaluate(BlockJUnit4ClassRunner.java:100)\n",
      "\tat org.junit.runners.ParentRunner.runLeaf(ParentRunner.java:366)\n",
      "\tat org.junit.runners.BlockJUnit4ClassRunner.runChild(BlockJUnit4ClassRunner.java:103)\n",
      "\tat org.junit.runners.BlockJUnit4ClassRunner.runChild(BlockJUnit4ClassRunner.java:63)\n",
      "\tat org.junit.runners.ParentRunner$4.run(ParentRunner.java:331)\n",
      "\tat org.junit.runners.ParentRunner$1.schedule(ParentRunner.java:79)\n",
      "\tat org.junit.runners.ParentRunner.runChildren(ParentRunner.java:329)\n",
      "\tat org.junit.runners.ParentRunner.access$100(ParentRunner.java:66)\n",
      "\tat org.junit.runners.ParentRunner$2.evaluate(ParentRunner.java:293)\n",
      "\tat org.junit.runners.ParentRunner$3.evaluate(ParentRunner.java:306)\n",
      "\tat org.junit.runners.ParentRunner.run(ParentRunner.java:413)\n",
      "\tat org.apache.maven.surefire.junit4.JUnit4Provider.execute(JUnit4Provider.java:365)\n",
      "\tat org.apache.maven.surefire.junit4.JUnit4Provider.executeWithRerun(JUnit4Provider.java:273)\n",
      "\tat org.apache.maven.surefire.junit4.JUnit4Provider.executeTestSet(JUnit4Provider.java:238)\n",
      "\tat org.apache.maven.surefire.junit4.JUnit4Provider.invoke(JUnit4Provider.java:159)\n",
      "\tat org.apache.maven.surefire.booter.ForkedBooter.runSuitesInProcess(ForkedBooter.java:377)\n",
      "\tat org.apache.maven.surefire.booter.ForkedBooter.execute(ForkedBooter.java:138)\n",
      "\tat org.apache.maven.surefire.booter.ForkedBooter.run(ForkedBooter.java:465)\n",
      "\tat org.apache.maven.surefire.booter.ForkedBooter.main(ForkedBooter.java:451)\n",
      "Caused by: java.io.IOException: Error while instrumenting com/sun/security/sasl/gsskerb/JdkSASL$1.\n",
      "\tat org.jacoco.agent.rt.internal_f3994fa.core.instr.Instrumenter.instrumentError(Instrumenter.java:160)\n",
      "\tat org.jacoco.agent.rt.internal_f3994fa.core.instr.Instrumenter.instrument(Instrumenter.java:110)\n",
      "\tat org.jacoco.agent.rt.internal_f3994fa.CoverageTransformer.transform(CoverageTransformer.java:92)\n",
      "\t... 63 more\n",
      "Caused by: java.lang.IllegalArgumentException: Unsupported class file major version 61\n",
      "\tat org.jacoco.agent.rt.internal_f3994fa.asm.ClassReader.<init>(ClassReader.java:196)\n",
      "\tat org.jacoco.agent.rt.internal_f3994fa.asm.ClassReader.<init>(ClassReader.java:177)\n",
      "\tat org.jacoco.agent.rt.internal_f3994fa.asm.ClassReader.<init>(ClassReader.java:163)\n",
      "\tat org.jacoco.agent.rt.internal_f3994fa.core.internal.instr.InstrSupport.classReaderFor(InstrSupport.java:280)\n",
      "\tat org.jacoco.agent.rt.internal_f3994fa.core.instr.Instrumenter.instrument(Instrumenter.java:76)\n",
      "\tat org.jacoco.agent.rt.internal_f3994fa.core.instr.Instrumenter.instrument(Instrumenter.java:108)\n",
      "\t... 64 more\n",
      "java.lang.instrument.IllegalClassFormatException: Error while instrumenting com/sun/security/sasl/gsskerb/JdkSASL$ProviderService.\n",
      "\tat org.jacoco.agent.rt.internal_f3994fa.CoverageTransformer.transform(CoverageTransformer.java:94)\n",
      "\tat java.instrument/java.lang.instrument.ClassFileTransformer.transform(ClassFileTransformer.java:244)\n",
      "\tat java.instrument/sun.instrument.TransformerManager.transform(TransformerManager.java:188)\n",
      "\tat java.instrument/sun.instrument.InstrumentationImpl.transform(InstrumentationImpl.java:541)\n",
      "\tat java.base/java.lang.ClassLoader.defineClass2(Native Method)\n",
      "\tat java.base/java.lang.ClassLoader.defineClass(ClassLoader.java:1103)\n",
      "\tat java.base/java.security.SecureClassLoader.defineClass(SecureClassLoader.java:182)\n",
      "\tat java.base/jdk.internal.loader.BuiltinClassLoader.defineClass(BuiltinClassLoader.java:821)\n",
      "\tat java.base/jdk.internal.loader.BuiltinClassLoader.findClassInModuleOrNull(BuiltinClassLoader.java:741)\n",
      "\tat java.base/jdk.internal.loader.BuiltinClassLoader.loadClassOrNull(BuiltinClassLoader.java:665)\n",
      "\tat java.base/jdk.internal.loader.BuiltinClassLoader.loadClass(BuiltinClassLoader.java:639)\n",
      "\tat java.base/java.lang.ClassLoader.loadClass(ClassLoader.java:520)\n",
      "\tat jdk.security.jgss/com.sun.security.sasl.gsskerb.JdkSASL.<init>(JdkSASL.java:82)\n",
      "\tat java.base/jdk.internal.reflect.NativeConstructorAccessorImpl.newInstance0(Native Method)\n",
      "\tat java.base/jdk.internal.reflect.NativeConstructorAccessorImpl.newInstance(NativeConstructorAccessorImpl.java:77)\n",
      "\tat java.base/jdk.internal.reflect.DelegatingConstructorAccessorImpl.newInstance(DelegatingConstructorAccessorImpl.java:45)\n",
      "\tat java.base/java.lang.reflect.Constructor.newInstanceWithCaller(Constructor.java:499)\n",
      "\tat java.base/java.lang.reflect.Constructor.newInstance(Constructor.java:480)\n",
      "\tat java.base/java.util.ServiceLoader$ProviderImpl.newInstance(ServiceLoader.java:789)\n",
      "\tat java.base/java.util.ServiceLoader$ProviderImpl.get(ServiceLoader.java:729)\n",
      "\tat java.base/java.util.ServiceLoader$3.next(ServiceLoader.java:1403)\n",
      "\tat java.base/sun.security.jca.ProviderConfig$ProviderLoader.load(ProviderConfig.java:347)\n",
      "\tat java.base/sun.security.jca.ProviderConfig$3.run(ProviderConfig.java:254)\n",
      "\tat java.base/sun.security.jca.ProviderConfig$3.run(ProviderConfig.java:248)\n",
      "\tat java.base/java.security.AccessController.doPrivileged(AccessController.java:318)\n",
      "\tat java.base/sun.security.jca.ProviderConfig.doLoadProvider(ProviderConfig.java:248)\n",
      "\tat java.base/sun.security.jca.ProviderConfig.getProvider(ProviderConfig.java:226)\n",
      "\tat java.base/sun.security.jca.ProviderList.getProvider(ProviderList.java:268)\n",
      "\tat java.base/sun.security.jca.ProviderList$ServiceList.tryGet(ProviderList.java:513)\n",
      "\tat java.base/sun.security.jca.ProviderList$ServiceList$1.hasNext(ProviderList.java:567)\n",
      "\tat java.base/javax.crypto.SecretKeyFactory.nextSpi(SecretKeyFactory.java:297)\n",
      "\tat java.base/javax.crypto.SecretKeyFactory.<init>(SecretKeyFactory.java:117)\n",
      "\tat java.base/javax.crypto.SecretKeyFactory.getInstance(SecretKeyFactory.java:164)\n",
      "\tat fr.univtln.bruno.samples.jaxrs.security.User.<init>(User.java:47)\n",
      "\tat fr.univtln.bruno.samples.jaxrs.security.User$UserBuilder.build(User.java:37)\n",
      "\tat fr.univtln.bruno.samples.jaxrs.security.UserTest.testBuilder(UserTest.java:23)\n",
      "\tat java.base/jdk.internal.reflect.NativeMethodAccessorImpl.invoke0(Native Method)\n",
      "\tat java.base/jdk.internal.reflect.NativeMethodAccessorImpl.invoke(NativeMethodAccessorImpl.java:77)\n",
      "\tat java.base/jdk.internal.reflect.DelegatingMethodAccessorImpl.invoke(DelegatingMethodAccessorImpl.java:43)\n",
      "\tat java.base/java.lang.reflect.Method.invoke(Method.java:568)\n",
      "\tat org.junit.runners.model.FrameworkMethod$1.runReflectiveCall(FrameworkMethod.java:59)\n",
      "\tat org.junit.internal.runners.model.ReflectiveCallable.run(ReflectiveCallable.java:12)\n",
      "\tat org.junit.runners.model.FrameworkMethod.invokeExplosively(FrameworkMethod.java:56)\n",
      "\tat org.junit.internal.runners.statements.InvokeMethod.evaluate(InvokeMethod.java:17)\n",
      "\tat org.junit.runners.ParentRunner$3.evaluate(ParentRunner.java:306)\n",
      "\tat org.junit.runners.BlockJUnit4ClassRunner$1.evaluate(BlockJUnit4ClassRunner.java:100)\n",
      "\tat org.junit.runners.ParentRunner.runLeaf(ParentRunner.java:366)\n",
      "\tat org.junit.runners.BlockJUnit4ClassRunner.runChild(BlockJUnit4ClassRunner.java:103)\n",
      "\tat org.junit.runners.BlockJUnit4ClassRunner.runChild(BlockJUnit4ClassRunner.java:63)\n",
      "\tat org.junit.runners.ParentRunner$4.run(ParentRunner.java:331)\n",
      "\tat org.junit.runners.ParentRunner$1.schedule(ParentRunner.java:79)\n",
      "\tat org.junit.runners.ParentRunner.runChildren(ParentRunner.java:329)\n",
      "\tat org.junit.runners.ParentRunner.access$100(ParentRunner.java:66)\n",
      "\tat org.junit.runners.ParentRunner$2.evaluate(ParentRunner.java:293)\n",
      "\tat org.junit.runners.ParentRunner$3.evaluate(ParentRunner.java:306)\n",
      "\tat org.junit.runners.ParentRunner.run(ParentRunner.java:413)\n",
      "\tat org.apache.maven.surefire.junit4.JUnit4Provider.execute(JUnit4Provider.java:365)\n",
      "\tat org.apache.maven.surefire.junit4.JUnit4Provider.executeWithRerun(JUnit4Provider.java:273)\n",
      "\tat org.apache.maven.surefire.junit4.JUnit4Provider.executeTestSet(JUnit4Provider.java:238)\n",
      "\tat org.apache.maven.surefire.junit4.JUnit4Provider.invoke(JUnit4Provider.java:159)\n",
      "\tat org.apache.maven.surefire.booter.ForkedBooter.runSuitesInProcess(ForkedBooter.java:377)\n",
      "\tat org.apache.maven.surefire.booter.ForkedBooter.execute(ForkedBooter.java:138)\n",
      "\tat org.apache.maven.surefire.booter.ForkedBooter.run(ForkedBooter.java:465)\n",
      "\tat org.apache.maven.surefire.booter.ForkedBooter.main(ForkedBooter.java:451)\n",
      "Caused by: java.io.IOException: Error while instrumenting com/sun/security/sasl/gsskerb/JdkSASL$ProviderService.\n",
      "\tat org.jacoco.agent.rt.internal_f3994fa.core.instr.Instrumenter.instrumentError(Instrumenter.java:160)\n",
      "\tat org.jacoco.agent.rt.internal_f3994fa.core.instr.Instrumenter.instrument(Instrumenter.java:110)\n",
      "\tat org.jacoco.agent.rt.internal_f3994fa.CoverageTransformer.transform(CoverageTransformer.java:92)\n",
      "\t... 63 more\n",
      "Caused by: java.lang.IllegalArgumentException: Unsupported class file major version 61\n",
      "\tat org.jacoco.agent.rt.internal_f3994fa.asm.ClassReader.<init>(ClassReader.java:196)\n",
      "\tat org.jacoco.agent.rt.internal_f3994fa.asm.ClassReader.<init>(ClassReader.java:177)\n",
      "\tat org.jacoco.agent.rt.internal_f3994fa.asm.ClassReader.<init>(ClassReader.java:163)\n",
      "\tat org.jacoco.agent.rt.internal_f3994fa.core.internal.instr.InstrSupport.classReaderFor(InstrSupport.java:280)\n",
      "\tat org.jacoco.agent.rt.internal_f3994fa.core.instr.Instrumenter.instrument(Instrumenter.java:76)\n",
      "\tat org.jacoco.agent.rt.internal_f3994fa.core.instr.Instrumenter.instrument(Instrumenter.java:108)\n",
      "\t... 64 more\n",
      "java.lang.instrument.IllegalClassFormatException: Error while instrumenting sun/security/pkcs11/SunPKCS11.\n",
      "\tat org.jacoco.agent.rt.internal_f3994fa.CoverageTransformer.transform(CoverageTransformer.java:94)\n",
      "\tat java.instrument/java.lang.instrument.ClassFileTransformer.transform(ClassFileTransformer.java:244)\n",
      "\tat java.instrument/sun.instrument.TransformerManager.transform(TransformerManager.java:188)\n",
      "\tat java.instrument/sun.instrument.InstrumentationImpl.transform(InstrumentationImpl.java:541)\n",
      "\tat java.base/java.lang.ClassLoader.defineClass2(Native Method)\n",
      "\tat java.base/java.lang.ClassLoader.defineClass(ClassLoader.java:1103)\n",
      "\tat java.base/java.security.SecureClassLoader.defineClass(SecureClassLoader.java:182)\n",
      "\tat java.base/jdk.internal.loader.BuiltinClassLoader.defineClass(BuiltinClassLoader.java:821)\n",
      "\tat java.base/jdk.internal.loader.BuiltinClassLoader.findClassInModuleOrNull(BuiltinClassLoader.java:741)\n",
      "\tat java.base/jdk.internal.loader.BuiltinClassLoader.findClass(BuiltinClassLoader.java:621)\n",
      "\tat java.base/java.lang.ClassLoader.loadClass(ClassLoader.java:632)\n",
      "\tat java.base/java.lang.Class.forName(Class.java:545)\n",
      "\tat java.base/java.util.ServiceLoader.loadProvider(ServiceLoader.java:859)\n",
      "\tat java.base/java.util.ServiceLoader$ModuleServicesLookupIterator.hasNext(ServiceLoader.java:1084)\n",
      "\tat java.base/java.util.ServiceLoader$2.hasNext(ServiceLoader.java:1309)\n",
      "\tat java.base/java.util.ServiceLoader$3.hasNext(ServiceLoader.java:1393)\n",
      "\tat java.base/sun.security.jca.ProviderConfig$ProviderLoader.load(ProviderConfig.java:345)\n",
      "\tat java.base/sun.security.jca.ProviderConfig$3.run(ProviderConfig.java:254)\n",
      "\tat java.base/sun.security.jca.ProviderConfig$3.run(ProviderConfig.java:248)\n",
      "\tat java.base/java.security.AccessController.doPrivileged(AccessController.java:318)\n",
      "\tat java.base/sun.security.jca.ProviderConfig.doLoadProvider(ProviderConfig.java:248)\n",
      "\tat java.base/sun.security.jca.ProviderConfig.getProvider(ProviderConfig.java:226)\n",
      "\tat java.base/sun.security.jca.ProviderList.getProvider(ProviderList.java:268)\n",
      "\tat java.base/sun.security.jca.ProviderList$ServiceList.tryGet(ProviderList.java:513)\n",
      "\tat java.base/sun.security.jca.ProviderList$ServiceList$1.hasNext(ProviderList.java:567)\n",
      "\tat java.base/javax.crypto.SecretKeyFactory.nextSpi(SecretKeyFactory.java:297)\n",
      "\tat java.base/javax.crypto.SecretKeyFactory.<init>(SecretKeyFactory.java:117)\n",
      "\tat java.base/javax.crypto.SecretKeyFactory.getInstance(SecretKeyFactory.java:164)\n",
      "\tat fr.univtln.bruno.samples.jaxrs.security.User.<init>(User.java:47)\n",
      "\tat fr.univtln.bruno.samples.jaxrs.security.User$UserBuilder.build(User.java:37)\n",
      "\tat fr.univtln.bruno.samples.jaxrs.security.UserTest.testBuilder(UserTest.java:23)\n",
      "\tat java.base/jdk.internal.reflect.NativeMethodAccessorImpl.invoke0(Native Method)\n",
      "\tat java.base/jdk.internal.reflect.NativeMethodAccessorImpl.invoke(NativeMethodAccessorImpl.java:77)\n",
      "\tat java.base/jdk.internal.reflect.DelegatingMethodAccessorImpl.invoke(DelegatingMethodAccessorImpl.java:43)\n",
      "\tat java.base/java.lang.reflect.Method.invoke(Method.java:568)\n",
      "\tat org.junit.runners.model.FrameworkMethod$1.runReflectiveCall(FrameworkMethod.java:59)\n",
      "\tat org.junit.internal.runners.model.ReflectiveCallable.run(ReflectiveCallable.java:12)\n",
      "\tat org.junit.runners.model.FrameworkMethod.invokeExplosively(FrameworkMethod.java:56)\n",
      "\tat org.junit.internal.runners.statements.InvokeMethod.evaluate(InvokeMethod.java:17)\n",
      "\tat org.junit.runners.ParentRunner$3.evaluate(ParentRunner.java:306)\n",
      "\tat org.junit.runners.BlockJUnit4ClassRunner$1.evaluate(BlockJUnit4ClassRunner.java:100)\n",
      "\tat org.junit.runners.ParentRunner.runLeaf(ParentRunner.java:366)\n",
      "\tat org.junit.runners.BlockJUnit4ClassRunner.runChild(BlockJUnit4ClassRunner.java:103)\n",
      "\tat org.junit.runners.BlockJUnit4ClassRunner.runChild(BlockJUnit4ClassRunner.java:63)\n",
      "\tat org.junit.runners.ParentRunner$4.run(ParentRunner.java:331)\n",
      "\tat org.junit.runners.ParentRunner$1.schedule(ParentRunner.java:79)\n",
      "\tat org.junit.runners.ParentRunner.runChildren(ParentRunner.java:329)\n",
      "\tat org.junit.runners.ParentRunner.access$100(ParentRunner.java:66)\n",
      "\tat org.junit.runners.ParentRunner$2.evaluate(ParentRunner.java:293)\n",
      "\tat org.junit.runners.ParentRunner$3.evaluate(ParentRunner.java:306)\n",
      "\tat org.junit.runners.ParentRunner.run(ParentRunner.java:413)\n",
      "\tat org.apache.maven.surefire.junit4.JUnit4Provider.execute(JUnit4Provider.java:365)\n",
      "\tat org.apache.maven.surefire.junit4.JUnit4Provider.executeWithRerun(JUnit4Provider.java:273)\n",
      "\tat org.apache.maven.surefire.junit4.JUnit4Provider.executeTestSet(JUnit4Provider.java:238)\n",
      "\tat org.apache.maven.surefire.junit4.JUnit4Provider.invoke(JUnit4Provider.java:159)\n",
      "\tat org.apache.maven.surefire.booter.ForkedBooter.runSuitesInProcess(ForkedBooter.java:377)\n",
      "\tat org.apache.maven.surefire.booter.ForkedBooter.execute(ForkedBooter.java:138)\n",
      "\tat org.apache.maven.surefire.booter.ForkedBooter.run(ForkedBooter.java:465)\n",
      "\tat org.apache.maven.surefire.booter.ForkedBooter.main(ForkedBooter.java:451)\n",
      "Caused by: java.io.IOException: Error while instrumenting sun/security/pkcs11/SunPKCS11.\n",
      "\tat org.jacoco.agent.rt.internal_f3994fa.core.instr.Instrumenter.instrumentError(Instrumenter.java:160)\n",
      "\tat org.jacoco.agent.rt.internal_f3994fa.core.instr.Instrumenter.instrument(Instrumenter.java:110)\n",
      "\tat org.jacoco.agent.rt.internal_f3994fa.CoverageTransformer.transform(CoverageTransformer.java:92)\n",
      "\t... 58 more\n",
      "Caused by: java.lang.IllegalArgumentException: Unsupported class file major version 61\n",
      "\tat org.jacoco.agent.rt.internal_f3994fa.asm.ClassReader.<init>(ClassReader.java:196)\n",
      "\tat org.jacoco.agent.rt.internal_f3994fa.asm.ClassReader.<init>(ClassReader.java:177)\n",
      "\tat org.jacoco.agent.rt.internal_f3994fa.asm.ClassReader.<init>(ClassReader.java:163)\n",
      "\tat org.jacoco.agent.rt.internal_f3994fa.core.internal.instr.InstrSupport.classReaderFor(InstrSupport.java:280)\n",
      "\tat org.jacoco.agent.rt.internal_f3994fa.core.instr.Instrumenter.instrument(Instrumenter.java:76)\n",
      "\tat org.jacoco.agent.rt.internal_f3994fa.core.instr.Instrumenter.instrument(Instrumenter.java:108)\n",
      "\t... 59 more\n",
      "java.lang.instrument.IllegalClassFormatException: Error while instrumenting sun/security/pkcs11/wrapper/PKCS11Exception.\n",
      "\tat org.jacoco.agent.rt.internal_f3994fa.CoverageTransformer.transform(CoverageTransformer.java:94)\n",
      "\tat java.instrument/java.lang.instrument.ClassFileTransformer.transform(ClassFileTransformer.java:244)\n",
      "\tat java.instrument/sun.instrument.TransformerManager.transform(TransformerManager.java:188)\n",
      "\tat java.instrument/sun.instrument.InstrumentationImpl.transform(InstrumentationImpl.java:541)\n",
      "\tat java.base/java.lang.ClassLoader.defineClass2(Native Method)\n",
      "\tat java.base/java.lang.ClassLoader.defineClass(ClassLoader.java:1103)\n",
      "\tat java.base/java.security.SecureClassLoader.defineClass(SecureClassLoader.java:182)\n",
      "\tat java.base/jdk.internal.loader.BuiltinClassLoader.defineClass(BuiltinClassLoader.java:821)\n",
      "\tat java.base/jdk.internal.loader.BuiltinClassLoader.findClassInModuleOrNull(BuiltinClassLoader.java:741)\n",
      "\tat java.base/jdk.internal.loader.BuiltinClassLoader.loadClassOrNull(BuiltinClassLoader.java:665)\n",
      "\tat java.base/jdk.internal.loader.BuiltinClassLoader.loadClass(BuiltinClassLoader.java:639)\n",
      "\tat java.base/java.lang.ClassLoader.loadClass(ClassLoader.java:520)\n",
      "\tat java.base/java.lang.Class.getDeclaredMethods0(Native Method)\n",
      "\tat java.base/java.lang.Class.privateGetDeclaredMethods(Class.java:3402)\n",
      "\tat java.base/java.lang.Class.getDeclaredPublicMethods(Class.java:2691)\n",
      "\tat java.base/java.lang.System$2.getDeclaredPublicMethods(System.java:2259)\n",
      "\tat java.base/java.util.ServiceLoader.findStaticProviderMethod(ServiceLoader.java:621)\n",
      "\tat java.base/java.util.ServiceLoader.loadProvider(ServiceLoader.java:885)\n",
      "\tat java.base/java.util.ServiceLoader$ModuleServicesLookupIterator.hasNext(ServiceLoader.java:1084)\n",
      "\tat java.base/java.util.ServiceLoader$2.hasNext(ServiceLoader.java:1309)\n",
      "\tat java.base/java.util.ServiceLoader$3.hasNext(ServiceLoader.java:1393)\n",
      "\tat java.base/sun.security.jca.ProviderConfig$ProviderLoader.load(ProviderConfig.java:345)\n",
      "\tat java.base/sun.security.jca.ProviderConfig$3.run(ProviderConfig.java:254)\n",
      "\tat java.base/sun.security.jca.ProviderConfig$3.run(ProviderConfig.java:248)\n",
      "\tat java.base/java.security.AccessController.doPrivileged(AccessController.java:318)\n",
      "\tat java.base/sun.security.jca.ProviderConfig.doLoadProvider(ProviderConfig.java:248)\n",
      "\tat java.base/sun.security.jca.ProviderConfig.getProvider(ProviderConfig.java:226)\n",
      "\tat java.base/sun.security.jca.ProviderList.getProvider(ProviderList.java:268)\n",
      "\tat java.base/sun.security.jca.ProviderList$ServiceList.tryGet(ProviderList.java:513)\n",
      "\tat java.base/sun.security.jca.ProviderList$ServiceList$1.hasNext(ProviderList.java:567)\n",
      "\tat java.base/javax.crypto.SecretKeyFactory.nextSpi(SecretKeyFactory.java:297)\n",
      "\tat java.base/javax.crypto.SecretKeyFactory.<init>(SecretKeyFactory.java:117)\n",
      "\tat java.base/javax.crypto.SecretKeyFactory.getInstance(SecretKeyFactory.java:164)\n",
      "\tat fr.univtln.bruno.samples.jaxrs.security.User.<init>(User.java:47)\n",
      "\tat fr.univtln.bruno.samples.jaxrs.security.User$UserBuilder.build(User.java:37)\n",
      "\tat fr.univtln.bruno.samples.jaxrs.security.UserTest.testBuilder(UserTest.java:23)\n",
      "\tat java.base/jdk.internal.reflect.NativeMethodAccessorImpl.invoke0(Native Method)\n",
      "\tat java.base/jdk.internal.reflect.NativeMethodAccessorImpl.invoke(NativeMethodAccessorImpl.java:77)\n",
      "\tat java.base/jdk.internal.reflect.DelegatingMethodAccessorImpl.invoke(DelegatingMethodAccessorImpl.java:43)\n",
      "\tat java.base/java.lang.reflect.Method.invoke(Method.java:568)\n",
      "\tat org.junit.runners.model.FrameworkMethod$1.runReflectiveCall(FrameworkMethod.java:59)\n",
      "\tat org.junit.internal.runners.model.ReflectiveCallable.run(ReflectiveCallable.java:12)\n",
      "\tat org.junit.runners.model.FrameworkMethod.invokeExplosively(FrameworkMethod.java:56)\n",
      "\tat org.junit.internal.runners.statements.InvokeMethod.evaluate(InvokeMethod.java:17)\n",
      "\tat org.junit.runners.ParentRunner$3.evaluate(ParentRunner.java:306)\n",
      "\tat org.junit.runners.BlockJUnit4ClassRunner$1.evaluate(BlockJUnit4ClassRunner.java:100)\n",
      "\tat org.junit.runners.ParentRunner.runLeaf(ParentRunner.java:366)\n",
      "\tat org.junit.runners.BlockJUnit4ClassRunner.runChild(BlockJUnit4ClassRunner.java:103)\n",
      "\tat org.junit.runners.BlockJUnit4ClassRunner.runChild(BlockJUnit4ClassRunner.java:63)\n",
      "\tat org.junit.runners.ParentRunner$4.run(ParentRunner.java:331)\n",
      "\tat org.junit.runners.ParentRunner$1.schedule(ParentRunner.java:79)\n",
      "\tat org.junit.runners.ParentRunner.runChildren(ParentRunner.java:329)\n",
      "\tat org.junit.runners.ParentRunner.access$100(ParentRunner.java:66)\n",
      "\tat org.junit.runners.ParentRunner$2.evaluate(ParentRunner.java:293)\n",
      "\tat org.junit.runners.ParentRunner$3.evaluate(ParentRunner.java:306)\n",
      "\tat org.junit.runners.ParentRunner.run(ParentRunner.java:413)\n",
      "\tat org.apache.maven.surefire.junit4.JUnit4Provider.execute(JUnit4Provider.java:365)\n",
      "\tat org.apache.maven.surefire.junit4.JUnit4Provider.executeWithRerun(JUnit4Provider.java:273)\n",
      "\tat org.apache.maven.surefire.junit4.JUnit4Provider.executeTestSet(JUnit4Provider.java:238)\n",
      "\tat org.apache.maven.surefire.junit4.JUnit4Provider.invoke(JUnit4Provider.java:159)\n",
      "\tat org.apache.maven.surefire.booter.ForkedBooter.runSuitesInProcess(ForkedBooter.java:377)\n",
      "\tat org.apache.maven.surefire.booter.ForkedBooter.execute(ForkedBooter.java:138)\n",
      "\tat org.apache.maven.surefire.booter.ForkedBooter.run(ForkedBooter.java:465)\n",
      "\tat org.apache.maven.surefire.booter.ForkedBooter.main(ForkedBooter.java:451)\n",
      "Caused by: java.io.IOException: Error while instrumenting sun/security/pkcs11/wrapper/PKCS11Exception.\n",
      "\tat org.jacoco.agent.rt.internal_f3994fa.core.instr.Instrumenter.instrumentError(Instrumenter.java:160)\n",
      "\tat org.jacoco.agent.rt.internal_f3994fa.core.instr.Instrumenter.instrument(Instrumenter.java:110)\n",
      "\tat org.jacoco.agent.rt.internal_f3994fa.CoverageTransformer.transform(CoverageTransformer.java:92)\n",
      "\t... 63 more\n",
      "Caused by: java.lang.IllegalArgumentException: Unsupported class file major version 61\n",
      "\tat org.jacoco.agent.rt.internal_f3994fa.asm.ClassReader.<init>(ClassReader.java:196)\n",
      "\tat org.jacoco.agent.rt.internal_f3994fa.asm.ClassReader.<init>(ClassReader.java:177)\n",
      "\tat org.jacoco.agent.rt.internal_f3994fa.asm.ClassReader.<init>(ClassReader.java:163)\n",
      "\tat org.jacoco.agent.rt.internal_f3994fa.core.internal.instr.InstrSupport.classReaderFor(InstrSupport.java:280)\n",
      "\tat org.jacoco.agent.rt.internal_f3994fa.core.instr.Instrumenter.instrument(Instrumenter.java:76)\n",
      "\tat org.jacoco.agent.rt.internal_f3994fa.core.instr.Instrumenter.instrument(Instrumenter.java:108)\n",
      "\t... 64 more\n",
      "java.lang.instrument.IllegalClassFormatException: Error while instrumenting sun/security/pkcs11/SunPKCS11$Descriptor.\n",
      "\tat org.jacoco.agent.rt.internal_f3994fa.CoverageTransformer.transform(CoverageTransformer.java:94)\n",
      "\tat java.instrument/java.lang.instrument.ClassFileTransformer.transform(ClassFileTransformer.java:244)\n",
      "\tat java.instrument/sun.instrument.TransformerManager.transform(TransformerManager.java:188)\n",
      "\tat java.instrument/sun.instrument.InstrumentationImpl.transform(InstrumentationImpl.java:541)\n",
      "\tat java.base/java.lang.ClassLoader.defineClass2(Native Method)\n",
      "\tat java.base/java.lang.ClassLoader.defineClass(ClassLoader.java:1103)\n",
      "\tat java.base/java.security.SecureClassLoader.defineClass(SecureClassLoader.java:182)\n",
      "\tat java.base/jdk.internal.loader.BuiltinClassLoader.defineClass(BuiltinClassLoader.java:821)\n",
      "\tat java.base/jdk.internal.loader.BuiltinClassLoader.findClassInModuleOrNull(BuiltinClassLoader.java:741)\n",
      "\tat java.base/jdk.internal.loader.BuiltinClassLoader.loadClassOrNull(BuiltinClassLoader.java:665)\n",
      "\tat java.base/jdk.internal.loader.BuiltinClassLoader.loadClass(BuiltinClassLoader.java:639)\n",
      "\tat java.base/java.lang.ClassLoader.loadClass(ClassLoader.java:520)\n",
      "\tat jdk.crypto.cryptoki/sun.security.pkcs11.SunPKCS11.d(SunPKCS11.java:461)\n",
      "\tat jdk.crypto.cryptoki/sun.security.pkcs11.SunPKCS11.<clinit>(SunPKCS11.java:533)\n",
      "\tat java.base/jdk.internal.reflect.NativeConstructorAccessorImpl.newInstance0(Native Method)\n",
      "\tat java.base/jdk.internal.reflect.NativeConstructorAccessorImpl.newInstance(NativeConstructorAccessorImpl.java:77)\n",
      "\tat java.base/jdk.internal.reflect.DelegatingConstructorAccessorImpl.newInstance(DelegatingConstructorAccessorImpl.java:45)\n",
      "\tat java.base/java.lang.reflect.Constructor.newInstanceWithCaller(Constructor.java:499)\n",
      "\tat java.base/java.lang.reflect.Constructor.newInstance(Constructor.java:480)\n",
      "\tat java.base/java.util.ServiceLoader$ProviderImpl.newInstance(ServiceLoader.java:789)\n",
      "\tat java.base/java.util.ServiceLoader$ProviderImpl.get(ServiceLoader.java:729)\n",
      "\tat java.base/java.util.ServiceLoader$3.next(ServiceLoader.java:1403)\n",
      "\tat java.base/sun.security.jca.ProviderConfig$ProviderLoader.load(ProviderConfig.java:347)\n",
      "\tat java.base/sun.security.jca.ProviderConfig$3.run(ProviderConfig.java:254)\n",
      "\tat java.base/sun.security.jca.ProviderConfig$3.run(ProviderConfig.java:248)\n",
      "\tat java.base/java.security.AccessController.doPrivileged(AccessController.java:318)\n",
      "\tat java.base/sun.security.jca.ProviderConfig.doLoadProvider(ProviderConfig.java:248)\n",
      "\tat java.base/sun.security.jca.ProviderConfig.getProvider(ProviderConfig.java:226)\n",
      "\tat java.base/sun.security.jca.ProviderList.getProvider(ProviderList.java:268)\n",
      "\tat java.base/sun.security.jca.ProviderList$ServiceList.tryGet(ProviderList.java:513)\n",
      "\tat java.base/sun.security.jca.ProviderList$ServiceList$1.hasNext(ProviderList.java:567)\n",
      "\tat java.base/javax.crypto.SecretKeyFactory.nextSpi(SecretKeyFactory.java:297)\n",
      "\tat java.base/javax.crypto.SecretKeyFactory.<init>(SecretKeyFactory.java:117)\n",
      "\tat java.base/javax.crypto.SecretKeyFactory.getInstance(SecretKeyFactory.java:164)\n",
      "\tat fr.univtln.bruno.samples.jaxrs.security.User.<init>(User.java:47)\n",
      "\tat fr.univtln.bruno.samples.jaxrs.security.User$UserBuilder.build(User.java:37)\n",
      "\tat fr.univtln.bruno.samples.jaxrs.security.UserTest.testBuilder(UserTest.java:23)\n",
      "\tat java.base/jdk.internal.reflect.NativeMethodAccessorImpl.invoke0(Native Method)\n",
      "\tat java.base/jdk.internal.reflect.NativeMethodAccessorImpl.invoke(NativeMethodAccessorImpl.java:77)\n",
      "\tat java.base/jdk.internal.reflect.DelegatingMethodAccessorImpl.invoke(DelegatingMethodAccessorImpl.java:43)\n",
      "\tat java.base/java.lang.reflect.Method.invoke(Method.java:568)\n",
      "\tat org.junit.runners.model.FrameworkMethod$1.runReflectiveCall(FrameworkMethod.java:59)\n",
      "\tat org.junit.internal.runners.model.ReflectiveCallable.run(ReflectiveCallable.java:12)\n",
      "\tat org.junit.runners.model.FrameworkMethod.invokeExplosively(FrameworkMethod.java:56)\n",
      "\tat org.junit.internal.runners.statements.InvokeMethod.evaluate(InvokeMethod.java:17)\n",
      "\tat org.junit.runners.ParentRunner$3.evaluate(ParentRunner.java:306)\n",
      "\tat org.junit.runners.BlockJUnit4ClassRunner$1.evaluate(BlockJUnit4ClassRunner.java:100)\n",
      "\tat org.junit.runners.ParentRunner.runLeaf(ParentRunner.java:366)\n",
      "\tat org.junit.runners.BlockJUnit4ClassRunner.runChild(BlockJUnit4ClassRunner.java:103)\n",
      "\tat org.junit.runners.BlockJUnit4ClassRunner.runChild(BlockJUnit4ClassRunner.java:63)\n",
      "\tat org.junit.runners.ParentRunner$4.run(ParentRunner.java:331)\n",
      "\tat org.junit.runners.ParentRunner$1.schedule(ParentRunner.java:79)\n",
      "\tat org.junit.runners.ParentRunner.runChildren(ParentRunner.java:329)\n",
      "\tat org.junit.runners.ParentRunner.access$100(ParentRunner.java:66)\n",
      "\tat org.junit.runners.ParentRunner$2.evaluate(ParentRunner.java:293)\n",
      "\tat org.junit.runners.ParentRunner$3.evaluate(ParentRunner.java:306)\n",
      "\tat org.junit.runners.ParentRunner.run(ParentRunner.java:413)\n",
      "\tat org.apache.maven.surefire.junit4.JUnit4Provider.execute(JUnit4Provider.java:365)\n",
      "\tat org.apache.maven.surefire.junit4.JUnit4Provider.executeWithRerun(JUnit4Provider.java:273)\n",
      "\tat org.apache.maven.surefire.junit4.JUnit4Provider.executeTestSet(JUnit4Provider.java:238)\n",
      "\tat org.apache.maven.surefire.junit4.JUnit4Provider.invoke(JUnit4Provider.java:159)\n",
      "\tat org.apache.maven.surefire.booter.ForkedBooter.runSuitesInProcess(ForkedBooter.java:377)\n",
      "\tat org.apache.maven.surefire.booter.ForkedBooter.execute(ForkedBooter.java:138)\n",
      "\tat org.apache.maven.surefire.booter.ForkedBooter.run(ForkedBooter.java:465)\n",
      "\tat org.apache.maven.surefire.booter.ForkedBooter.main(ForkedBooter.java:451)\n",
      "Caused by: java.io.IOException: Error while instrumenting sun/security/pkcs11/SunPKCS11$Descriptor.\n",
      "\tat org.jacoco.agent.rt.internal_f3994fa.core.instr.Instrumenter.instrumentError(Instrumenter.java:160)\n",
      "\tat org.jacoco.agent.rt.internal_f3994fa.core.instr.Instrumenter.instrument(Instrumenter.java:110)\n",
      "\tat org.jacoco.agent.rt.internal_f3994fa.CoverageTransformer.transform(CoverageTransformer.java:92)\n",
      "\t... 64 more\n",
      "Caused by: java.lang.IllegalArgumentException: Unsupported class file major version 61\n",
      "\tat org.jacoco.agent.rt.internal_f3994fa.asm.ClassReader.<init>(ClassReader.java:196)\n",
      "\tat org.jacoco.agent.rt.internal_f3994fa.asm.ClassReader.<init>(ClassReader.java:177)\n",
      "\tat org.jacoco.agent.rt.internal_f3994fa.asm.ClassReader.<init>(ClassReader.java:163)\n",
      "\tat org.jacoco.agent.rt.internal_f3994fa.core.internal.instr.InstrSupport.classReaderFor(InstrSupport.java:280)\n",
      "\tat org.jacoco.agent.rt.internal_f3994fa.core.instr.Instrumenter.instrument(Instrumenter.java:76)\n",
      "\tat org.jacoco.agent.rt.internal_f3994fa.core.instr.Instrumenter.instrument(Instrumenter.java:108)\n",
      "\t... 65 more\n",
      "java.lang.instrument.IllegalClassFormatException: Error while instrumenting sun/security/jgss/SunProvider.\n",
      "\tat org.jacoco.agent.rt.internal_f3994fa.CoverageTransformer.transform(CoverageTransformer.java:94)\n",
      "\tat java.instrument/java.lang.instrument.ClassFileTransformer.transform(ClassFileTransformer.java:244)\n",
      "\tat java.instrument/sun.instrument.TransformerManager.transform(TransformerManager.java:188)\n",
      "\tat java.instrument/sun.instrument.InstrumentationImpl.transform(InstrumentationImpl.java:541)\n",
      "\tat java.base/java.lang.ClassLoader.defineClass2(Native Method)\n",
      "\tat java.base/java.lang.ClassLoader.defineClass(ClassLoader.java:1103)\n",
      "\tat java.base/java.security.SecureClassLoader.defineClass(SecureClassLoader.java:182)\n",
      "\tat java.base/jdk.internal.loader.BuiltinClassLoader.defineClass(BuiltinClassLoader.java:821)\n",
      "\tat java.base/jdk.internal.loader.BuiltinClassLoader.findClassInModuleOrNull(BuiltinClassLoader.java:741)\n",
      "\tat java.base/jdk.internal.loader.BuiltinClassLoader.findClass(BuiltinClassLoader.java:621)\n",
      "\tat java.base/java.lang.ClassLoader.loadClass(ClassLoader.java:632)\n",
      "\tat java.base/java.lang.Class.forName(Class.java:545)\n",
      "\tat java.base/java.util.ServiceLoader.loadProvider(ServiceLoader.java:859)\n",
      "\tat java.base/java.util.ServiceLoader$ModuleServicesLookupIterator.hasNext(ServiceLoader.java:1084)\n",
      "\tat java.base/java.util.ServiceLoader$2.hasNext(ServiceLoader.java:1309)\n",
      "\tat java.base/java.util.ServiceLoader$3.hasNext(ServiceLoader.java:1393)\n",
      "\tat java.base/sun.security.jca.ProviderConfig$ProviderLoader.load(ProviderConfig.java:345)\n",
      "\tat java.base/sun.security.jca.ProviderConfig$3.run(ProviderConfig.java:254)\n",
      "\tat java.base/sun.security.jca.ProviderConfig$3.run(ProviderConfig.java:248)\n",
      "\tat java.base/java.security.AccessController.doPrivileged(AccessController.java:318)\n",
      "\tat java.base/sun.security.jca.ProviderConfig.doLoadProvider(ProviderConfig.java:248)\n",
      "\tat java.base/sun.security.jca.ProviderConfig.getProvider(ProviderConfig.java:226)\n",
      "\tat java.base/sun.security.jca.ProviderList.getProvider(ProviderList.java:268)\n",
      "\tat java.base/sun.security.jca.ProviderList$ServiceList.tryGet(ProviderList.java:513)\n",
      "\tat java.base/sun.security.jca.ProviderList$ServiceList$1.hasNext(ProviderList.java:567)\n",
      "\tat java.base/javax.crypto.SecretKeyFactory.nextSpi(SecretKeyFactory.java:297)\n",
      "\tat java.base/javax.crypto.SecretKeyFactory.<init>(SecretKeyFactory.java:117)\n",
      "\tat java.base/javax.crypto.SecretKeyFactory.getInstance(SecretKeyFactory.java:164)\n",
      "\tat fr.univtln.bruno.samples.jaxrs.security.User.<init>(User.java:47)\n",
      "\tat fr.univtln.bruno.samples.jaxrs.security.User$UserBuilder.build(User.java:37)\n",
      "\tat fr.univtln.bruno.samples.jaxrs.security.UserTest.testBuilder(UserTest.java:23)\n",
      "\tat java.base/jdk.internal.reflect.NativeMethodAccessorImpl.invoke0(Native Method)\n",
      "\tat java.base/jdk.internal.reflect.NativeMethodAccessorImpl.invoke(NativeMethodAccessorImpl.java:77)\n",
      "\tat java.base/jdk.internal.reflect.DelegatingMethodAccessorImpl.invoke(DelegatingMethodAccessorImpl.java:43)\n",
      "\tat java.base/java.lang.reflect.Method.invoke(Method.java:568)\n",
      "\tat org.junit.runners.model.FrameworkMethod$1.runReflectiveCall(FrameworkMethod.java:59)\n",
      "\tat org.junit.internal.runners.model.ReflectiveCallable.run(ReflectiveCallable.java:12)\n",
      "\tat org.junit.runners.model.FrameworkMethod.invokeExplosively(FrameworkMethod.java:56)\n",
      "\tat org.junit.internal.runners.statements.InvokeMethod.evaluate(InvokeMethod.java:17)\n",
      "\tat org.junit.runners.ParentRunner$3.evaluate(ParentRunner.java:306)\n",
      "\tat org.junit.runners.BlockJUnit4ClassRunner$1.evaluate(BlockJUnit4ClassRunner.java:100)\n",
      "\tat org.junit.runners.ParentRunner.runLeaf(ParentRunner.java:366)\n",
      "\tat org.junit.runners.BlockJUnit4ClassRunner.runChild(BlockJUnit4ClassRunner.java:103)\n",
      "\tat org.junit.runners.BlockJUnit4ClassRunner.runChild(BlockJUnit4ClassRunner.java:63)\n",
      "\tat org.junit.runners.ParentRunner$4.run(ParentRunner.java:331)\n",
      "\tat org.junit.runners.ParentRunner$1.schedule(ParentRunner.java:79)\n",
      "\tat org.junit.runners.ParentRunner.runChildren(ParentRunner.java:329)\n",
      "\tat org.junit.runners.ParentRunner.access$100(ParentRunner.java:66)\n",
      "\tat org.junit.runners.ParentRunner$2.evaluate(ParentRunner.java:293)\n",
      "\tat org.junit.runners.ParentRunner$3.evaluate(ParentRunner.java:306)\n",
      "\tat org.junit.runners.ParentRunner.run(ParentRunner.java:413)\n",
      "\tat org.apache.maven.surefire.junit4.JUnit4Provider.execute(JUnit4Provider.java:365)\n",
      "\tat org.apache.maven.surefire.junit4.JUnit4Provider.executeWithRerun(JUnit4Provider.java:273)\n",
      "\tat org.apache.maven.surefire.junit4.JUnit4Provider.executeTestSet(JUnit4Provider.java:238)\n",
      "\tat org.apache.maven.surefire.junit4.JUnit4Provider.invoke(JUnit4Provider.java:159)\n",
      "\tat org.apache.maven.surefire.booter.ForkedBooter.runSuitesInProcess(ForkedBooter.java:377)\n",
      "\tat org.apache.maven.surefire.booter.ForkedBooter.execute(ForkedBooter.java:138)\n",
      "\tat org.apache.maven.surefire.booter.ForkedBooter.run(ForkedBooter.java:465)\n",
      "\tat org.apache.maven.surefire.booter.ForkedBooter.main(ForkedBooter.java:451)\n",
      "Caused by: java.io.IOException: Error while instrumenting sun/security/jgss/SunProvider.\n",
      "\tat org.jacoco.agent.rt.internal_f3994fa.core.instr.Instrumenter.instrumentError(Instrumenter.java:160)\n",
      "\tat org.jacoco.agent.rt.internal_f3994fa.core.instr.Instrumenter.instrument(Instrumenter.java:110)\n",
      "\tat org.jacoco.agent.rt.internal_f3994fa.CoverageTransformer.transform(CoverageTransformer.java:92)\n",
      "\t... 58 more\n",
      "Caused by: java.lang.IllegalArgumentException: Unsupported class file major version 61\n",
      "\tat org.jacoco.agent.rt.internal_f3994fa.asm.ClassReader.<init>(ClassReader.java:196)\n",
      "\tat org.jacoco.agent.rt.internal_f3994fa.asm.ClassReader.<init>(ClassReader.java:177)\n",
      "\tat org.jacoco.agent.rt.internal_f3994fa.asm.ClassReader.<init>(ClassReader.java:163)\n",
      "\tat org.jacoco.agent.rt.internal_f3994fa.core.internal.instr.InstrSupport.classReaderFor(InstrSupport.java:280)\n",
      "\tat org.jacoco.agent.rt.internal_f3994fa.core.instr.Instrumenter.instrument(Instrumenter.java:76)\n",
      "\tat org.jacoco.agent.rt.internal_f3994fa.core.instr.Instrumenter.instrument(Instrumenter.java:108)\n",
      "\t... 59 more\n",
      "java.lang.instrument.IllegalClassFormatException: Error while instrumenting sun/security/jgss/SunProvider$1.\n",
      "\tat org.jacoco.agent.rt.internal_f3994fa.CoverageTransformer.transform(CoverageTransformer.java:94)\n",
      "\tat java.instrument/java.lang.instrument.ClassFileTransformer.transform(ClassFileTransformer.java:244)\n",
      "\tat java.instrument/sun.instrument.TransformerManager.transform(TransformerManager.java:188)\n",
      "\tat java.instrument/sun.instrument.InstrumentationImpl.transform(InstrumentationImpl.java:541)\n",
      "\tat java.base/java.lang.ClassLoader.defineClass2(Native Method)\n",
      "\tat java.base/java.lang.ClassLoader.defineClass(ClassLoader.java:1103)\n",
      "\tat java.base/java.security.SecureClassLoader.defineClass(SecureClassLoader.java:182)\n",
      "\tat java.base/jdk.internal.loader.BuiltinClassLoader.defineClass(BuiltinClassLoader.java:821)\n",
      "\tat java.base/jdk.internal.loader.BuiltinClassLoader.findClassInModuleOrNull(BuiltinClassLoader.java:741)\n",
      "\tat java.base/jdk.internal.loader.BuiltinClassLoader.loadClassOrNull(BuiltinClassLoader.java:665)\n",
      "\tat java.base/jdk.internal.loader.BuiltinClassLoader.loadClass(BuiltinClassLoader.java:639)\n",
      "\tat java.base/java.lang.ClassLoader.loadClass(ClassLoader.java:520)\n",
      "\tat java.security.jgss/sun.security.jgss.SunProvider.<init>(SunProvider.java:107)\n",
      "\tat java.base/jdk.internal.reflect.NativeConstructorAccessorImpl.newInstance0(Native Method)\n",
      "\tat java.base/jdk.internal.reflect.NativeConstructorAccessorImpl.newInstance(NativeConstructorAccessorImpl.java:77)\n",
      "\tat java.base/jdk.internal.reflect.DelegatingConstructorAccessorImpl.newInstance(DelegatingConstructorAccessorImpl.java:45)\n",
      "\tat java.base/java.lang.reflect.Constructor.newInstanceWithCaller(Constructor.java:499)\n",
      "\tat java.base/java.lang.reflect.Constructor.newInstance(Constructor.java:480)\n",
      "\tat java.base/java.util.ServiceLoader$ProviderImpl.newInstance(ServiceLoader.java:789)\n",
      "\tat java.base/java.util.ServiceLoader$ProviderImpl.get(ServiceLoader.java:729)\n",
      "\tat java.base/java.util.ServiceLoader$3.next(ServiceLoader.java:1403)\n",
      "\tat java.base/sun.security.jca.ProviderConfig$ProviderLoader.load(ProviderConfig.java:347)\n",
      "\tat java.base/sun.security.jca.ProviderConfig$3.run(ProviderConfig.java:254)\n",
      "\tat java.base/sun.security.jca.ProviderConfig$3.run(ProviderConfig.java:248)\n",
      "\tat java.base/java.security.AccessController.doPrivileged(AccessController.java:318)\n",
      "\tat java.base/sun.security.jca.ProviderConfig.doLoadProvider(ProviderConfig.java:248)\n",
      "\tat java.base/sun.security.jca.ProviderConfig.getProvider(ProviderConfig.java:226)\n",
      "\tat java.base/sun.security.jca.ProviderList.getProvider(ProviderList.java:268)\n",
      "\tat java.base/sun.security.jca.ProviderList$ServiceList.tryGet(ProviderList.java:513)\n",
      "\tat java.base/sun.security.jca.ProviderList$ServiceList$1.hasNext(ProviderList.java:567)\n",
      "\tat java.base/javax.crypto.SecretKeyFactory.nextSpi(SecretKeyFactory.java:297)\n",
      "\tat java.base/javax.crypto.SecretKeyFactory.<init>(SecretKeyFactory.java:117)\n",
      "\tat java.base/javax.crypto.SecretKeyFactory.getInstance(SecretKeyFactory.java:164)\n",
      "\tat fr.univtln.bruno.samples.jaxrs.security.User.<init>(User.java:47)\n",
      "\tat fr.univtln.bruno.samples.jaxrs.security.User$UserBuilder.build(User.java:37)\n",
      "\tat fr.univtln.bruno.samples.jaxrs.security.UserTest.testBuilder(UserTest.java:23)\n",
      "\tat java.base/jdk.internal.reflect.NativeMethodAccessorImpl.invoke0(Native Method)\n",
      "\tat java.base/jdk.internal.reflect.NativeMethodAccessorImpl.invoke(NativeMethodAccessorImpl.java:77)\n",
      "\tat java.base/jdk.internal.reflect.DelegatingMethodAccessorImpl.invoke(DelegatingMethodAccessorImpl.java:43)\n",
      "\tat java.base/java.lang.reflect.Method.invoke(Method.java:568)\n",
      "\tat org.junit.runners.model.FrameworkMethod$1.runReflectiveCall(FrameworkMethod.java:59)\n",
      "\tat org.junit.internal.runners.model.ReflectiveCallable.run(ReflectiveCallable.java:12)\n",
      "\tat org.junit.runners.model.FrameworkMethod.invokeExplosively(FrameworkMethod.java:56)\n",
      "\tat org.junit.internal.runners.statements.InvokeMethod.evaluate(InvokeMethod.java:17)\n",
      "\tat org.junit.runners.ParentRunner$3.evaluate(ParentRunner.java:306)\n",
      "\tat org.junit.runners.BlockJUnit4ClassRunner$1.evaluate(BlockJUnit4ClassRunner.java:100)\n",
      "\tat org.junit.runners.ParentRunner.runLeaf(ParentRunner.java:366)\n",
      "\tat org.junit.runners.BlockJUnit4ClassRunner.runChild(BlockJUnit4ClassRunner.java:103)\n",
      "\tat org.junit.runners.BlockJUnit4ClassRunner.runChild(BlockJUnit4ClassRunner.java:63)\n",
      "\tat org.junit.runners.ParentRunner$4.run(ParentRunner.java:331)\n",
      "\tat org.junit.runners.ParentRunner$1.schedule(ParentRunner.java:79)\n",
      "\tat org.junit.runners.ParentRunner.runChildren(ParentRunner.java:329)\n",
      "\tat org.junit.runners.ParentRunner.access$100(ParentRunner.java:66)\n",
      "\tat org.junit.runners.ParentRunner$2.evaluate(ParentRunner.java:293)\n",
      "\tat org.junit.runners.ParentRunner$3.evaluate(ParentRunner.java:306)\n",
      "\tat org.junit.runners.ParentRunner.run(ParentRunner.java:413)\n",
      "\tat org.apache.maven.surefire.junit4.JUnit4Provider.execute(JUnit4Provider.java:365)\n",
      "\tat org.apache.maven.surefire.junit4.JUnit4Provider.executeWithRerun(JUnit4Provider.java:273)\n",
      "\tat org.apache.maven.surefire.junit4.JUnit4Provider.executeTestSet(JUnit4Provider.java:238)\n",
      "\tat org.apache.maven.surefire.junit4.JUnit4Provider.invoke(JUnit4Provider.java:159)\n",
      "\tat org.apache.maven.surefire.booter.ForkedBooter.runSuitesInProcess(ForkedBooter.java:377)\n",
      "\tat org.apache.maven.surefire.booter.ForkedBooter.execute(ForkedBooter.java:138)\n",
      "\tat org.apache.maven.surefire.booter.ForkedBooter.run(ForkedBooter.java:465)\n",
      "\tat org.apache.maven.surefire.booter.ForkedBooter.main(ForkedBooter.java:451)\n",
      "Caused by: java.io.IOException: Error while instrumenting sun/security/jgss/SunProvider$1.\n",
      "\tat org.jacoco.agent.rt.internal_f3994fa.core.instr.Instrumenter.instrumentError(Instrumenter.java:160)\n",
      "\tat org.jacoco.agent.rt.internal_f3994fa.core.instr.Instrumenter.instrument(Instrumenter.java:110)\n",
      "\tat org.jacoco.agent.rt.internal_f3994fa.CoverageTransformer.transform(CoverageTransformer.java:92)\n",
      "\t... 63 more\n",
      "Caused by: java.lang.IllegalArgumentException: Unsupported class file major version 61\n",
      "\tat org.jacoco.agent.rt.internal_f3994fa.asm.ClassReader.<init>(ClassReader.java:196)\n",
      "\tat org.jacoco.agent.rt.internal_f3994fa.asm.ClassReader.<init>(ClassReader.java:177)\n",
      "\tat org.jacoco.agent.rt.internal_f3994fa.asm.ClassReader.<init>(ClassReader.java:163)\n",
      "\tat org.jacoco.agent.rt.internal_f3994fa.core.internal.instr.InstrSupport.classReaderFor(InstrSupport.java:280)\n",
      "\tat org.jacoco.agent.rt.internal_f3994fa.core.instr.Instrumenter.instrument(Instrumenter.java:76)\n",
      "\tat org.jacoco.agent.rt.internal_f3994fa.core.instr.Instrumenter.instrument(Instrumenter.java:108)\n",
      "\t... 64 more\n",
      "java.lang.instrument.IllegalClassFormatException: Error while instrumenting sun/security/jgss/SunProvider$ProviderService.\n",
      "\tat org.jacoco.agent.rt.internal_f3994fa.CoverageTransformer.transform(CoverageTransformer.java:94)\n",
      "\tat java.instrument/java.lang.instrument.ClassFileTransformer.transform(ClassFileTransformer.java:244)\n",
      "\tat java.instrument/sun.instrument.TransformerManager.transform(TransformerManager.java:188)\n",
      "\tat java.instrument/sun.instrument.InstrumentationImpl.transform(InstrumentationImpl.java:541)\n",
      "\tat java.base/java.lang.ClassLoader.defineClass2(Native Method)\n",
      "\tat java.base/java.lang.ClassLoader.defineClass(ClassLoader.java:1103)\n",
      "\tat java.base/java.security.SecureClassLoader.defineClass(SecureClassLoader.java:182)\n",
      "\tat java.base/jdk.internal.loader.BuiltinClassLoader.defineClass(BuiltinClassLoader.java:821)\n",
      "\tat java.base/jdk.internal.loader.BuiltinClassLoader.findClassInModuleOrNull(BuiltinClassLoader.java:741)\n",
      "\tat java.base/jdk.internal.loader.BuiltinClassLoader.loadClassOrNull(BuiltinClassLoader.java:665)\n",
      "\tat java.base/jdk.internal.loader.BuiltinClassLoader.loadClass(BuiltinClassLoader.java:639)\n",
      "\tat java.base/java.lang.ClassLoader.loadClass(ClassLoader.java:520)\n",
      "\tat java.security.jgss/sun.security.jgss.SunProvider.<init>(SunProvider.java:107)\n",
      "\tat java.base/jdk.internal.reflect.NativeConstructorAccessorImpl.newInstance0(Native Method)\n",
      "\tat java.base/jdk.internal.reflect.NativeConstructorAccessorImpl.newInstance(NativeConstructorAccessorImpl.java:77)\n",
      "\tat java.base/jdk.internal.reflect.DelegatingConstructorAccessorImpl.newInstance(DelegatingConstructorAccessorImpl.java:45)\n",
      "\tat java.base/java.lang.reflect.Constructor.newInstanceWithCaller(Constructor.java:499)\n",
      "\tat java.base/java.lang.reflect.Constructor.newInstance(Constructor.java:480)\n",
      "\tat java.base/java.util.ServiceLoader$ProviderImpl.newInstance(ServiceLoader.java:789)\n",
      "\tat java.base/java.util.ServiceLoader$ProviderImpl.get(ServiceLoader.java:729)\n",
      "\tat java.base/java.util.ServiceLoader$3.next(ServiceLoader.java:1403)\n",
      "\tat java.base/sun.security.jca.ProviderConfig$ProviderLoader.load(ProviderConfig.java:347)\n",
      "\tat java.base/sun.security.jca.ProviderConfig$3.run(ProviderConfig.java:254)\n",
      "\tat java.base/sun.security.jca.ProviderConfig$3.run(ProviderConfig.java:248)\n",
      "\tat java.base/java.security.AccessController.doPrivileged(AccessController.java:318)\n",
      "\tat java.base/sun.security.jca.ProviderConfig.doLoadProvider(ProviderConfig.java:248)\n",
      "\tat java.base/sun.security.jca.ProviderConfig.getProvider(ProviderConfig.java:226)\n",
      "\tat java.base/sun.security.jca.ProviderList.getProvider(ProviderList.java:268)\n",
      "\tat java.base/sun.security.jca.ProviderList$ServiceList.tryGet(ProviderList.java:513)\n",
      "\tat java.base/sun.security.jca.ProviderList$ServiceList$1.hasNext(ProviderList.java:567)\n",
      "\tat java.base/javax.crypto.SecretKeyFactory.nextSpi(SecretKeyFactory.java:297)\n",
      "\tat java.base/javax.crypto.SecretKeyFactory.<init>(SecretKeyFactory.java:117)\n",
      "\tat java.base/javax.crypto.SecretKeyFactory.getInstance(SecretKeyFactory.java:164)\n",
      "\tat fr.univtln.bruno.samples.jaxrs.security.User.<init>(User.java:47)\n",
      "\tat fr.univtln.bruno.samples.jaxrs.security.User$UserBuilder.build(User.java:37)\n",
      "\tat fr.univtln.bruno.samples.jaxrs.security.UserTest.testBuilder(UserTest.java:23)\n",
      "\tat java.base/jdk.internal.reflect.NativeMethodAccessorImpl.invoke0(Native Method)\n",
      "\tat java.base/jdk.internal.reflect.NativeMethodAccessorImpl.invoke(NativeMethodAccessorImpl.java:77)\n",
      "\tat java.base/jdk.internal.reflect.DelegatingMethodAccessorImpl.invoke(DelegatingMethodAccessorImpl.java:43)\n",
      "\tat java.base/java.lang.reflect.Method.invoke(Method.java:568)\n",
      "\tat org.junit.runners.model.FrameworkMethod$1.runReflectiveCall(FrameworkMethod.java:59)\n",
      "\tat org.junit.internal.runners.model.ReflectiveCallable.run(ReflectiveCallable.java:12)\n",
      "\tat org.junit.runners.model.FrameworkMethod.invokeExplosively(FrameworkMethod.java:56)\n",
      "\tat org.junit.internal.runners.statements.InvokeMethod.evaluate(InvokeMethod.java:17)\n",
      "\tat org.junit.runners.ParentRunner$3.evaluate(ParentRunner.java:306)\n",
      "\tat org.junit.runners.BlockJUnit4ClassRunner$1.evaluate(BlockJUnit4ClassRunner.java:100)\n",
      "\tat org.junit.runners.ParentRunner.runLeaf(ParentRunner.java:366)\n",
      "\tat org.junit.runners.BlockJUnit4ClassRunner.runChild(BlockJUnit4ClassRunner.java:103)\n",
      "\tat org.junit.runners.BlockJUnit4ClassRunner.runChild(BlockJUnit4ClassRunner.java:63)\n",
      "\tat org.junit.runners.ParentRunner$4.run(ParentRunner.java:331)\n",
      "\tat org.junit.runners.ParentRunner$1.schedule(ParentRunner.java:79)\n",
      "\tat org.junit.runners.ParentRunner.runChildren(ParentRunner.java:329)\n",
      "\tat org.junit.runners.ParentRunner.access$100(ParentRunner.java:66)\n",
      "\tat org.junit.runners.ParentRunner$2.evaluate(ParentRunner.java:293)\n",
      "\tat org.junit.runners.ParentRunner$3.evaluate(ParentRunner.java:306)\n",
      "\tat org.junit.runners.ParentRunner.run(ParentRunner.java:413)\n",
      "\tat org.apache.maven.surefire.junit4.JUnit4Provider.execute(JUnit4Provider.java:365)\n",
      "\tat org.apache.maven.surefire.junit4.JUnit4Provider.executeWithRerun(JUnit4Provider.java:273)\n",
      "\tat org.apache.maven.surefire.junit4.JUnit4Provider.executeTestSet(JUnit4Provider.java:238)\n",
      "\tat org.apache.maven.surefire.junit4.JUnit4Provider.invoke(JUnit4Provider.java:159)\n",
      "\tat org.apache.maven.surefire.booter.ForkedBooter.runSuitesInProcess(ForkedBooter.java:377)\n",
      "\tat org.apache.maven.surefire.booter.ForkedBooter.execute(ForkedBooter.java:138)\n",
      "\tat org.apache.maven.surefire.booter.ForkedBooter.run(ForkedBooter.java:465)\n",
      "\tat org.apache.maven.surefire.booter.ForkedBooter.main(ForkedBooter.java:451)\n",
      "Caused by: java.io.IOException: Error while instrumenting sun/security/jgss/SunProvider$ProviderService.\n",
      "\tat org.jacoco.agent.rt.internal_f3994fa.core.instr.Instrumenter.instrumentError(Instrumenter.java:160)\n",
      "\tat org.jacoco.agent.rt.internal_f3994fa.core.instr.Instrumenter.instrument(Instrumenter.java:110)\n",
      "\tat org.jacoco.agent.rt.internal_f3994fa.CoverageTransformer.transform(CoverageTransformer.java:92)\n",
      "\t... 63 more\n",
      "Caused by: java.lang.IllegalArgumentException: Unsupported class file major version 61\n",
      "\tat org.jacoco.agent.rt.internal_f3994fa.asm.ClassReader.<init>(ClassReader.java:196)\n",
      "\tat org.jacoco.agent.rt.internal_f3994fa.asm.ClassReader.<init>(ClassReader.java:177)\n",
      "\tat org.jacoco.agent.rt.internal_f3994fa.asm.ClassReader.<init>(ClassReader.java:163)\n",
      "\tat org.jacoco.agent.rt.internal_f3994fa.core.internal.instr.InstrSupport.classReaderFor(InstrSupport.java:280)\n",
      "\tat org.jacoco.agent.rt.internal_f3994fa.core.instr.Instrumenter.instrument(Instrumenter.java:76)\n",
      "\tat org.jacoco.agent.rt.internal_f3994fa.core.instr.Instrumenter.instrument(Instrumenter.java:108)\n",
      "\t... 64 more\n",
      "java.lang.instrument.IllegalClassFormatException: Error while instrumenting sun/security/ec/SunEC.\n",
      "\tat org.jacoco.agent.rt.internal_f3994fa.CoverageTransformer.transform(CoverageTransformer.java:94)\n",
      "\tat java.instrument/java.lang.instrument.ClassFileTransformer.transform(ClassFileTransformer.java:244)\n",
      "\tat java.instrument/sun.instrument.TransformerManager.transform(TransformerManager.java:188)\n",
      "\tat java.instrument/sun.instrument.InstrumentationImpl.transform(InstrumentationImpl.java:541)\n",
      "\tat java.base/java.lang.ClassLoader.defineClass2(Native Method)\n",
      "\tat java.base/java.lang.ClassLoader.defineClass(ClassLoader.java:1103)\n",
      "\tat java.base/java.security.SecureClassLoader.defineClass(SecureClassLoader.java:182)\n",
      "\tat java.base/jdk.internal.loader.BuiltinClassLoader.defineClass(BuiltinClassLoader.java:821)\n",
      "\tat java.base/jdk.internal.loader.BuiltinClassLoader.findClassInModuleOrNull(BuiltinClassLoader.java:741)\n",
      "\tat java.base/jdk.internal.loader.BuiltinClassLoader.findClass(BuiltinClassLoader.java:621)\n",
      "\tat java.base/java.lang.ClassLoader.loadClass(ClassLoader.java:632)\n",
      "\tat java.base/java.lang.Class.forName(Class.java:545)\n",
      "\tat java.base/java.util.ServiceLoader.loadProvider(ServiceLoader.java:859)\n",
      "\tat java.base/java.util.ServiceLoader$ModuleServicesLookupIterator.hasNext(ServiceLoader.java:1084)\n",
      "\tat java.base/java.util.ServiceLoader$2.hasNext(ServiceLoader.java:1309)\n",
      "\tat java.base/java.util.ServiceLoader$3.hasNext(ServiceLoader.java:1393)\n",
      "\tat java.base/sun.security.jca.ProviderConfig$ProviderLoader.load(ProviderConfig.java:345)\n",
      "\tat java.base/sun.security.jca.ProviderConfig$3.run(ProviderConfig.java:254)\n",
      "\tat java.base/sun.security.jca.ProviderConfig$3.run(ProviderConfig.java:248)\n",
      "\tat java.base/java.security.AccessController.doPrivileged(AccessController.java:318)\n",
      "\tat java.base/sun.security.jca.ProviderConfig.doLoadProvider(ProviderConfig.java:248)\n",
      "\tat java.base/sun.security.jca.ProviderConfig.getProvider(ProviderConfig.java:226)\n",
      "\tat java.base/sun.security.jca.ProviderList.getProvider(ProviderList.java:268)\n",
      "\tat java.base/sun.security.jca.ProviderList$ServiceList.tryGet(ProviderList.java:513)\n",
      "\tat java.base/sun.security.jca.ProviderList$ServiceList$1.hasNext(ProviderList.java:567)\n",
      "\tat java.base/javax.crypto.SecretKeyFactory.nextSpi(SecretKeyFactory.java:297)\n",
      "\tat java.base/javax.crypto.SecretKeyFactory.<init>(SecretKeyFactory.java:117)\n",
      "\tat java.base/javax.crypto.SecretKeyFactory.getInstance(SecretKeyFactory.java:164)\n",
      "\tat fr.univtln.bruno.samples.jaxrs.security.User.<init>(User.java:47)\n",
      "\tat fr.univtln.bruno.samples.jaxrs.security.User$UserBuilder.build(User.java:37)\n",
      "\tat fr.univtln.bruno.samples.jaxrs.security.UserTest.testBuilder(UserTest.java:23)\n",
      "\tat java.base/jdk.internal.reflect.NativeMethodAccessorImpl.invoke0(Native Method)\n",
      "\tat java.base/jdk.internal.reflect.NativeMethodAccessorImpl.invoke(NativeMethodAccessorImpl.java:77)\n",
      "\tat java.base/jdk.internal.reflect.DelegatingMethodAccessorImpl.invoke(DelegatingMethodAccessorImpl.java:43)\n",
      "\tat java.base/java.lang.reflect.Method.invoke(Method.java:568)\n",
      "\tat org.junit.runners.model.FrameworkMethod$1.runReflectiveCall(FrameworkMethod.java:59)\n",
      "\tat org.junit.internal.runners.model.ReflectiveCallable.run(ReflectiveCallable.java:12)\n",
      "\tat org.junit.runners.model.FrameworkMethod.invokeExplosively(FrameworkMethod.java:56)\n",
      "\tat org.junit.internal.runners.statements.InvokeMethod.evaluate(InvokeMethod.java:17)\n",
      "\tat org.junit.runners.ParentRunner$3.evaluate(ParentRunner.java:306)\n",
      "\tat org.junit.runners.BlockJUnit4ClassRunner$1.evaluate(BlockJUnit4ClassRunner.java:100)\n",
      "\tat org.junit.runners.ParentRunner.runLeaf(ParentRunner.java:366)\n",
      "\tat org.junit.runners.BlockJUnit4ClassRunner.runChild(BlockJUnit4ClassRunner.java:103)\n",
      "\tat org.junit.runners.BlockJUnit4ClassRunner.runChild(BlockJUnit4ClassRunner.java:63)\n",
      "\tat org.junit.runners.ParentRunner$4.run(ParentRunner.java:331)\n",
      "\tat org.junit.runners.ParentRunner$1.schedule(ParentRunner.java:79)\n",
      "\tat org.junit.runners.ParentRunner.runChildren(ParentRunner.java:329)\n",
      "\tat org.junit.runners.ParentRunner.access$100(ParentRunner.java:66)\n",
      "\tat org.junit.runners.ParentRunner$2.evaluate(ParentRunner.java:293)\n",
      "\tat org.junit.runners.ParentRunner$3.evaluate(ParentRunner.java:306)\n",
      "\tat org.junit.runners.ParentRunner.run(ParentRunner.java:413)\n",
      "\tat org.apache.maven.surefire.junit4.JUnit4Provider.execute(JUnit4Provider.java:365)\n",
      "\tat org.apache.maven.surefire.junit4.JUnit4Provider.executeWithRerun(JUnit4Provider.java:273)\n",
      "\tat org.apache.maven.surefire.junit4.JUnit4Provider.executeTestSet(JUnit4Provider.java:238)\n",
      "\tat org.apache.maven.surefire.junit4.JUnit4Provider.invoke(JUnit4Provider.java:159)\n",
      "\tat org.apache.maven.surefire.booter.ForkedBooter.runSuitesInProcess(ForkedBooter.java:377)\n",
      "\tat org.apache.maven.surefire.booter.ForkedBooter.execute(ForkedBooter.java:138)\n",
      "\tat org.apache.maven.surefire.booter.ForkedBooter.run(ForkedBooter.java:465)\n",
      "\tat org.apache.maven.surefire.booter.ForkedBooter.main(ForkedBooter.java:451)\n",
      "Caused by: java.io.IOException: Error while instrumenting sun/security/ec/SunEC.\n",
      "\tat org.jacoco.agent.rt.internal_f3994fa.core.instr.Instrumenter.instrumentError(Instrumenter.java:160)\n",
      "\tat org.jacoco.agent.rt.internal_f3994fa.core.instr.Instrumenter.instrument(Instrumenter.java:110)\n",
      "\tat org.jacoco.agent.rt.internal_f3994fa.CoverageTransformer.transform(CoverageTransformer.java:92)\n",
      "\t... 58 more\n",
      "Caused by: java.lang.IllegalArgumentException: Unsupported class file major version 61\n",
      "\tat org.jacoco.agent.rt.internal_f3994fa.asm.ClassReader.<init>(ClassReader.java:196)\n",
      "\tat org.jacoco.agent.rt.internal_f3994fa.asm.ClassReader.<init>(ClassReader.java:177)\n",
      "\tat org.jacoco.agent.rt.internal_f3994fa.asm.ClassReader.<init>(ClassReader.java:163)\n",
      "\tat org.jacoco.agent.rt.internal_f3994fa.core.internal.instr.InstrSupport.classReaderFor(InstrSupport.java:280)\n",
      "\tat org.jacoco.agent.rt.internal_f3994fa.core.instr.Instrumenter.instrument(Instrumenter.java:76)\n",
      "\tat org.jacoco.agent.rt.internal_f3994fa.core.instr.Instrumenter.instrument(Instrumenter.java:108)\n",
      "\t... 59 more\n",
      "java.lang.instrument.IllegalClassFormatException: Error while instrumenting sun/security/ec/SunEC$ProviderService.\n",
      "\tat org.jacoco.agent.rt.internal_f3994fa.CoverageTransformer.transform(CoverageTransformer.java:94)\n",
      "\tat java.instrument/java.lang.instrument.ClassFileTransformer.transform(ClassFileTransformer.java:244)\n",
      "\tat java.instrument/sun.instrument.TransformerManager.transform(TransformerManager.java:188)\n",
      "\tat java.instrument/sun.instrument.InstrumentationImpl.transform(InstrumentationImpl.java:541)\n",
      "\tat java.base/java.lang.ClassLoader.defineClass2(Native Method)\n",
      "\tat java.base/java.lang.ClassLoader.defineClass(ClassLoader.java:1103)\n",
      "\tat java.base/java.security.SecureClassLoader.defineClass(SecureClassLoader.java:182)\n",
      "\tat java.base/jdk.internal.loader.BuiltinClassLoader.defineClass(BuiltinClassLoader.java:821)\n",
      "\tat java.base/jdk.internal.loader.BuiltinClassLoader.findClassInModuleOrNull(BuiltinClassLoader.java:741)\n",
      "\tat java.base/jdk.internal.loader.BuiltinClassLoader.loadClassOrNull(BuiltinClassLoader.java:665)\n",
      "\tat java.base/jdk.internal.loader.BuiltinClassLoader.loadClass(BuiltinClassLoader.java:639)\n",
      "\tat java.base/java.lang.ClassLoader.loadClass(ClassLoader.java:520)\n",
      "\tat java.base/java.lang.Class.getDeclaredMethods0(Native Method)\n",
      "\tat java.base/java.lang.Class.privateGetDeclaredMethods(Class.java:3402)\n",
      "\tat java.base/java.lang.Class.getDeclaredPublicMethods(Class.java:2691)\n",
      "\tat java.base/java.lang.System$2.getDeclaredPublicMethods(System.java:2259)\n",
      "\tat java.base/java.util.ServiceLoader.findStaticProviderMethod(ServiceLoader.java:621)\n",
      "\tat java.base/java.util.ServiceLoader.loadProvider(ServiceLoader.java:885)\n",
      "\tat java.base/java.util.ServiceLoader$ModuleServicesLookupIterator.hasNext(ServiceLoader.java:1084)\n",
      "\tat java.base/java.util.ServiceLoader$2.hasNext(ServiceLoader.java:1309)\n",
      "\tat java.base/java.util.ServiceLoader$3.hasNext(ServiceLoader.java:1393)\n",
      "\tat java.base/sun.security.jca.ProviderConfig$ProviderLoader.load(ProviderConfig.java:345)\n",
      "\tat java.base/sun.security.jca.ProviderConfig$3.run(ProviderConfig.java:254)\n",
      "\tat java.base/sun.security.jca.ProviderConfig$3.run(ProviderConfig.java:248)\n",
      "\tat java.base/java.security.AccessController.doPrivileged(AccessController.java:318)\n",
      "\tat java.base/sun.security.jca.ProviderConfig.doLoadProvider(ProviderConfig.java:248)\n",
      "\tat java.base/sun.security.jca.ProviderConfig.getProvider(ProviderConfig.java:226)\n",
      "\tat java.base/sun.security.jca.ProviderList.getProvider(ProviderList.java:268)\n",
      "\tat java.base/sun.security.jca.ProviderList$ServiceList.tryGet(ProviderList.java:513)\n",
      "\tat java.base/sun.security.jca.ProviderList$ServiceList$1.hasNext(ProviderList.java:567)\n",
      "\tat java.base/javax.crypto.SecretKeyFactory.nextSpi(SecretKeyFactory.java:297)\n",
      "\tat java.base/javax.crypto.SecretKeyFactory.<init>(SecretKeyFactory.java:117)\n",
      "\tat java.base/javax.crypto.SecretKeyFactory.getInstance(SecretKeyFactory.java:164)\n",
      "\tat fr.univtln.bruno.samples.jaxrs.security.User.<init>(User.java:47)\n",
      "\tat fr.univtln.bruno.samples.jaxrs.security.User$UserBuilder.build(User.java:37)\n",
      "\tat fr.univtln.bruno.samples.jaxrs.security.UserTest.testBuilder(UserTest.java:23)\n",
      "\tat java.base/jdk.internal.reflect.NativeMethodAccessorImpl.invoke0(Native Method)\n",
      "\tat java.base/jdk.internal.reflect.NativeMethodAccessorImpl.invoke(NativeMethodAccessorImpl.java:77)\n",
      "\tat java.base/jdk.internal.reflect.DelegatingMethodAccessorImpl.invoke(DelegatingMethodAccessorImpl.java:43)\n",
      "\tat java.base/java.lang.reflect.Method.invoke(Method.java:568)\n",
      "\tat org.junit.runners.model.FrameworkMethod$1.runReflectiveCall(FrameworkMethod.java:59)\n",
      "\tat org.junit.internal.runners.model.ReflectiveCallable.run(ReflectiveCallable.java:12)\n",
      "\tat org.junit.runners.model.FrameworkMethod.invokeExplosively(FrameworkMethod.java:56)\n",
      "\tat org.junit.internal.runners.statements.InvokeMethod.evaluate(InvokeMethod.java:17)\n",
      "\tat org.junit.runners.ParentRunner$3.evaluate(ParentRunner.java:306)\n",
      "\tat org.junit.runners.BlockJUnit4ClassRunner$1.evaluate(BlockJUnit4ClassRunner.java:100)\n",
      "\tat org.junit.runners.ParentRunner.runLeaf(ParentRunner.java:366)\n",
      "\tat org.junit.runners.BlockJUnit4ClassRunner.runChild(BlockJUnit4ClassRunner.java:103)\n",
      "\tat org.junit.runners.BlockJUnit4ClassRunner.runChild(BlockJUnit4ClassRunner.java:63)\n",
      "\tat org.junit.runners.ParentRunner$4.run(ParentRunner.java:331)\n",
      "\tat org.junit.runners.ParentRunner$1.schedule(ParentRunner.java:79)\n",
      "\tat org.junit.runners.ParentRunner.runChildren(ParentRunner.java:329)\n",
      "\tat org.junit.runners.ParentRunner.access$100(ParentRunner.java:66)\n",
      "\tat org.junit.runners.ParentRunner$2.evaluate(ParentRunner.java:293)\n",
      "\tat org.junit.runners.ParentRunner$3.evaluate(ParentRunner.java:306)\n",
      "\tat org.junit.runners.ParentRunner.run(ParentRunner.java:413)\n",
      "\tat org.apache.maven.surefire.junit4.JUnit4Provider.execute(JUnit4Provider.java:365)\n",
      "\tat org.apache.maven.surefire.junit4.JUnit4Provider.executeWithRerun(JUnit4Provider.java:273)\n",
      "\tat org.apache.maven.surefire.junit4.JUnit4Provider.executeTestSet(JUnit4Provider.java:238)\n",
      "\tat org.apache.maven.surefire.junit4.JUnit4Provider.invoke(JUnit4Provider.java:159)\n",
      "\tat org.apache.maven.surefire.booter.ForkedBooter.runSuitesInProcess(ForkedBooter.java:377)\n",
      "\tat org.apache.maven.surefire.booter.ForkedBooter.execute(ForkedBooter.java:138)\n",
      "\tat org.apache.maven.surefire.booter.ForkedBooter.run(ForkedBooter.java:465)\n",
      "\tat org.apache.maven.surefire.booter.ForkedBooter.main(ForkedBooter.java:451)\n",
      "Caused by: java.io.IOException: Error while instrumenting sun/security/ec/SunEC$ProviderService.\n",
      "\tat org.jacoco.agent.rt.internal_f3994fa.core.instr.Instrumenter.instrumentError(Instrumenter.java:160)\n",
      "\tat org.jacoco.agent.rt.internal_f3994fa.core.instr.Instrumenter.instrument(Instrumenter.java:110)\n",
      "\tat org.jacoco.agent.rt.internal_f3994fa.CoverageTransformer.transform(CoverageTransformer.java:92)\n",
      "\t... 63 more\n",
      "Caused by: java.lang.IllegalArgumentException: Unsupported class file major version 61\n",
      "\tat org.jacoco.agent.rt.internal_f3994fa.asm.ClassReader.<init>(ClassReader.java:196)\n",
      "\tat org.jacoco.agent.rt.internal_f3994fa.asm.ClassReader.<init>(ClassReader.java:177)\n",
      "\tat org.jacoco.agent.rt.internal_f3994fa.asm.ClassReader.<init>(ClassReader.java:163)\n",
      "\tat org.jacoco.agent.rt.internal_f3994fa.core.internal.instr.InstrSupport.classReaderFor(InstrSupport.java:280)\n",
      "\tat org.jacoco.agent.rt.internal_f3994fa.core.instr.Instrumenter.instrument(Instrumenter.java:76)\n",
      "\tat org.jacoco.agent.rt.internal_f3994fa.core.instr.Instrumenter.instrument(Instrumenter.java:108)\n",
      "\t... 64 more\n",
      "java.lang.instrument.IllegalClassFormatException: Error while instrumenting sun/security/ec/SunEC$ProviderServiceA.\n",
      "\tat org.jacoco.agent.rt.internal_f3994fa.CoverageTransformer.transform(CoverageTransformer.java:94)\n",
      "\tat java.instrument/java.lang.instrument.ClassFileTransformer.transform(ClassFileTransformer.java:244)\n",
      "\tat java.instrument/sun.instrument.TransformerManager.transform(TransformerManager.java:188)\n",
      "\tat java.instrument/sun.instrument.InstrumentationImpl.transform(InstrumentationImpl.java:541)\n",
      "\tat java.base/java.lang.ClassLoader.defineClass2(Native Method)\n",
      "\tat java.base/java.lang.ClassLoader.defineClass(ClassLoader.java:1103)\n",
      "\tat java.base/java.security.SecureClassLoader.defineClass(SecureClassLoader.java:182)\n",
      "\tat java.base/jdk.internal.loader.BuiltinClassLoader.defineClass(BuiltinClassLoader.java:821)\n",
      "\tat java.base/jdk.internal.loader.BuiltinClassLoader.findClassInModuleOrNull(BuiltinClassLoader.java:741)\n",
      "\tat java.base/jdk.internal.loader.BuiltinClassLoader.loadClassOrNull(BuiltinClassLoader.java:665)\n",
      "\tat java.base/jdk.internal.loader.BuiltinClassLoader.loadClass(BuiltinClassLoader.java:639)\n",
      "\tat java.base/java.lang.ClassLoader.loadClass(ClassLoader.java:520)\n",
      "\tat java.base/java.lang.Class.getDeclaredMethods0(Native Method)\n",
      "\tat java.base/java.lang.Class.privateGetDeclaredMethods(Class.java:3402)\n",
      "\tat java.base/java.lang.Class.getDeclaredPublicMethods(Class.java:2691)\n",
      "\tat java.base/java.lang.System$2.getDeclaredPublicMethods(System.java:2259)\n",
      "\tat java.base/java.util.ServiceLoader.findStaticProviderMethod(ServiceLoader.java:621)\n",
      "\tat java.base/java.util.ServiceLoader.loadProvider(ServiceLoader.java:885)\n",
      "\tat java.base/java.util.ServiceLoader$ModuleServicesLookupIterator.hasNext(ServiceLoader.java:1084)\n",
      "\tat java.base/java.util.ServiceLoader$2.hasNext(ServiceLoader.java:1309)\n",
      "\tat java.base/java.util.ServiceLoader$3.hasNext(ServiceLoader.java:1393)\n",
      "\tat java.base/sun.security.jca.ProviderConfig$ProviderLoader.load(ProviderConfig.java:345)\n",
      "\tat java.base/sun.security.jca.ProviderConfig$3.run(ProviderConfig.java:254)\n",
      "\tat java.base/sun.security.jca.ProviderConfig$3.run(ProviderConfig.java:248)\n",
      "\tat java.base/java.security.AccessController.doPrivileged(AccessController.java:318)\n",
      "\tat java.base/sun.security.jca.ProviderConfig.doLoadProvider(ProviderConfig.java:248)\n",
      "\tat java.base/sun.security.jca.ProviderConfig.getProvider(ProviderConfig.java:226)\n",
      "\tat java.base/sun.security.jca.ProviderList.getProvider(ProviderList.java:268)\n",
      "\tat java.base/sun.security.jca.ProviderList$ServiceList.tryGet(ProviderList.java:513)\n",
      "\tat java.base/sun.security.jca.ProviderList$ServiceList$1.hasNext(ProviderList.java:567)\n",
      "\tat java.base/javax.crypto.SecretKeyFactory.nextSpi(SecretKeyFactory.java:297)\n",
      "\tat java.base/javax.crypto.SecretKeyFactory.<init>(SecretKeyFactory.java:117)\n",
      "\tat java.base/javax.crypto.SecretKeyFactory.getInstance(SecretKeyFactory.java:164)\n",
      "\tat fr.univtln.bruno.samples.jaxrs.security.User.<init>(User.java:47)\n",
      "\tat fr.univtln.bruno.samples.jaxrs.security.User$UserBuilder.build(User.java:37)\n",
      "\tat fr.univtln.bruno.samples.jaxrs.security.UserTest.testBuilder(UserTest.java:23)\n",
      "\tat java.base/jdk.internal.reflect.NativeMethodAccessorImpl.invoke0(Native Method)\n",
      "\tat java.base/jdk.internal.reflect.NativeMethodAccessorImpl.invoke(NativeMethodAccessorImpl.java:77)\n",
      "\tat java.base/jdk.internal.reflect.DelegatingMethodAccessorImpl.invoke(DelegatingMethodAccessorImpl.java:43)\n",
      "\tat java.base/java.lang.reflect.Method.invoke(Method.java:568)\n",
      "\tat org.junit.runners.model.FrameworkMethod$1.runReflectiveCall(FrameworkMethod.java:59)\n",
      "\tat org.junit.internal.runners.model.ReflectiveCallable.run(ReflectiveCallable.java:12)\n",
      "\tat org.junit.runners.model.FrameworkMethod.invokeExplosively(FrameworkMethod.java:56)\n",
      "\tat org.junit.internal.runners.statements.InvokeMethod.evaluate(InvokeMethod.java:17)\n",
      "\tat org.junit.runners.ParentRunner$3.evaluate(ParentRunner.java:306)\n",
      "\tat org.junit.runners.BlockJUnit4ClassRunner$1.evaluate(BlockJUnit4ClassRunner.java:100)\n",
      "\tat org.junit.runners.ParentRunner.runLeaf(ParentRunner.java:366)\n",
      "\tat org.junit.runners.BlockJUnit4ClassRunner.runChild(BlockJUnit4ClassRunner.java:103)\n",
      "\tat org.junit.runners.BlockJUnit4ClassRunner.runChild(BlockJUnit4ClassRunner.java:63)\n",
      "\tat org.junit.runners.ParentRunner$4.run(ParentRunner.java:331)\n",
      "\tat org.junit.runners.ParentRunner$1.schedule(ParentRunner.java:79)\n",
      "\tat org.junit.runners.ParentRunner.runChildren(ParentRunner.java:329)\n",
      "\tat org.junit.runners.ParentRunner.access$100(ParentRunner.java:66)\n",
      "\tat org.junit.runners.ParentRunner$2.evaluate(ParentRunner.java:293)\n",
      "\tat org.junit.runners.ParentRunner$3.evaluate(ParentRunner.java:306)\n",
      "\tat org.junit.runners.ParentRunner.run(ParentRunner.java:413)\n",
      "\tat org.apache.maven.surefire.junit4.JUnit4Provider.execute(JUnit4Provider.java:365)\n",
      "\tat org.apache.maven.surefire.junit4.JUnit4Provider.executeWithRerun(JUnit4Provider.java:273)\n",
      "\tat org.apache.maven.surefire.junit4.JUnit4Provider.executeTestSet(JUnit4Provider.java:238)\n",
      "\tat org.apache.maven.surefire.junit4.JUnit4Provider.invoke(JUnit4Provider.java:159)\n",
      "\tat org.apache.maven.surefire.booter.ForkedBooter.runSuitesInProcess(ForkedBooter.java:377)\n",
      "\tat org.apache.maven.surefire.booter.ForkedBooter.execute(ForkedBooter.java:138)\n",
      "\tat org.apache.maven.surefire.booter.ForkedBooter.run(ForkedBooter.java:465)\n",
      "\tat org.apache.maven.surefire.booter.ForkedBooter.main(ForkedBooter.java:451)\n",
      "Caused by: java.io.IOException: Error while instrumenting sun/security/ec/SunEC$ProviderServiceA.\n",
      "\tat org.jacoco.agent.rt.internal_f3994fa.core.instr.Instrumenter.instrumentError(Instrumenter.java:160)\n",
      "\tat org.jacoco.agent.rt.internal_f3994fa.core.instr.Instrumenter.instrument(Instrumenter.java:110)\n",
      "\tat org.jacoco.agent.rt.internal_f3994fa.CoverageTransformer.transform(CoverageTransformer.java:92)\n",
      "\t... 63 more\n",
      "Caused by: java.lang.IllegalArgumentException: Unsupported class file major version 61\n",
      "\tat org.jacoco.agent.rt.internal_f3994fa.asm.ClassReader.<init>(ClassReader.java:196)\n",
      "\tat org.jacoco.agent.rt.internal_f3994fa.asm.ClassReader.<init>(ClassReader.java:177)\n",
      "\tat org.jacoco.agent.rt.internal_f3994fa.asm.ClassReader.<init>(ClassReader.java:163)\n",
      "\tat org.jacoco.agent.rt.internal_f3994fa.core.internal.instr.InstrSupport.classReaderFor(InstrSupport.java:280)\n",
      "\tat org.jacoco.agent.rt.internal_f3994fa.core.instr.Instrumenter.instrument(Instrumenter.java:76)\n",
      "\tat org.jacoco.agent.rt.internal_f3994fa.core.instr.Instrumenter.instrument(Instrumenter.java:108)\n",
      "\t... 64 more\n",
      "java.lang.instrument.IllegalClassFormatException: Error while instrumenting sun/security/ec/SunEC$1.\n",
      "\tat org.jacoco.agent.rt.internal_f3994fa.CoverageTransformer.transform(CoverageTransformer.java:94)\n",
      "\tat java.instrument/java.lang.instrument.ClassFileTransformer.transform(ClassFileTransformer.java:244)\n",
      "\tat java.instrument/sun.instrument.TransformerManager.transform(TransformerManager.java:188)\n",
      "\tat java.instrument/sun.instrument.InstrumentationImpl.transform(InstrumentationImpl.java:541)\n",
      "\tat java.base/java.lang.ClassLoader.defineClass2(Native Method)\n",
      "\tat java.base/java.lang.ClassLoader.defineClass(ClassLoader.java:1103)\n",
      "\tat java.base/java.security.SecureClassLoader.defineClass(SecureClassLoader.java:182)\n",
      "\tat java.base/jdk.internal.loader.BuiltinClassLoader.defineClass(BuiltinClassLoader.java:821)\n",
      "\tat java.base/jdk.internal.loader.BuiltinClassLoader.findClassInModuleOrNull(BuiltinClassLoader.java:741)\n",
      "\tat java.base/jdk.internal.loader.BuiltinClassLoader.loadClassOrNull(BuiltinClassLoader.java:665)\n",
      "\tat java.base/jdk.internal.loader.BuiltinClassLoader.loadClass(BuiltinClassLoader.java:639)\n",
      "\tat java.base/java.lang.ClassLoader.loadClass(ClassLoader.java:520)\n",
      "\tat jdk.crypto.ec/sun.security.ec.SunEC.<init>(SunEC.java:192)\n",
      "\tat java.base/jdk.internal.reflect.NativeConstructorAccessorImpl.newInstance0(Native Method)\n",
      "\tat java.base/jdk.internal.reflect.NativeConstructorAccessorImpl.newInstance(NativeConstructorAccessorImpl.java:77)\n",
      "\tat java.base/jdk.internal.reflect.DelegatingConstructorAccessorImpl.newInstance(DelegatingConstructorAccessorImpl.java:45)\n",
      "\tat java.base/java.lang.reflect.Constructor.newInstanceWithCaller(Constructor.java:499)\n",
      "\tat java.base/java.lang.reflect.Constructor.newInstance(Constructor.java:480)\n",
      "\tat java.base/java.util.ServiceLoader$ProviderImpl.newInstance(ServiceLoader.java:789)\n",
      "\tat java.base/java.util.ServiceLoader$ProviderImpl.get(ServiceLoader.java:729)\n",
      "\tat java.base/java.util.ServiceLoader$3.next(ServiceLoader.java:1403)\n",
      "\tat java.base/sun.security.jca.ProviderConfig$ProviderLoader.load(ProviderConfig.java:347)\n",
      "\tat java.base/sun.security.jca.ProviderConfig$3.run(ProviderConfig.java:254)\n",
      "\tat java.base/sun.security.jca.ProviderConfig$3.run(ProviderConfig.java:248)\n",
      "\tat java.base/java.security.AccessController.doPrivileged(AccessController.java:318)\n",
      "\tat java.base/sun.security.jca.ProviderConfig.doLoadProvider(ProviderConfig.java:248)\n",
      "\tat java.base/sun.security.jca.ProviderConfig.getProvider(ProviderConfig.java:226)\n",
      "\tat java.base/sun.security.jca.ProviderList.getProvider(ProviderList.java:268)\n",
      "\tat java.base/sun.security.jca.ProviderList$ServiceList.tryGet(ProviderList.java:513)\n",
      "\tat java.base/sun.security.jca.ProviderList$ServiceList$1.hasNext(ProviderList.java:567)\n",
      "\tat java.base/javax.crypto.SecretKeyFactory.nextSpi(SecretKeyFactory.java:297)\n",
      "\tat java.base/javax.crypto.SecretKeyFactory.<init>(SecretKeyFactory.java:117)\n",
      "\tat java.base/javax.crypto.SecretKeyFactory.getInstance(SecretKeyFactory.java:164)\n",
      "\tat fr.univtln.bruno.samples.jaxrs.security.User.<init>(User.java:47)\n",
      "\tat fr.univtln.bruno.samples.jaxrs.security.User$UserBuilder.build(User.java:37)\n",
      "\tat fr.univtln.bruno.samples.jaxrs.security.UserTest.testBuilder(UserTest.java:23)\n",
      "\tat java.base/jdk.internal.reflect.NativeMethodAccessorImpl.invoke0(Native Method)\n",
      "\tat java.base/jdk.internal.reflect.NativeMethodAccessorImpl.invoke(NativeMethodAccessorImpl.java:77)\n",
      "\tat java.base/jdk.internal.reflect.DelegatingMethodAccessorImpl.invoke(DelegatingMethodAccessorImpl.java:43)\n",
      "\tat java.base/java.lang.reflect.Method.invoke(Method.java:568)\n",
      "\tat org.junit.runners.model.FrameworkMethod$1.runReflectiveCall(FrameworkMethod.java:59)\n",
      "\tat org.junit.internal.runners.model.ReflectiveCallable.run(ReflectiveCallable.java:12)\n",
      "\tat org.junit.runners.model.FrameworkMethod.invokeExplosively(FrameworkMethod.java:56)\n",
      "\tat org.junit.internal.runners.statements.InvokeMethod.evaluate(InvokeMethod.java:17)\n",
      "\tat org.junit.runners.ParentRunner$3.evaluate(ParentRunner.java:306)\n",
      "\tat org.junit.runners.BlockJUnit4ClassRunner$1.evaluate(BlockJUnit4ClassRunner.java:100)\n",
      "\tat org.junit.runners.ParentRunner.runLeaf(ParentRunner.java:366)\n",
      "\tat org.junit.runners.BlockJUnit4ClassRunner.runChild(BlockJUnit4ClassRunner.java:103)\n",
      "\tat org.junit.runners.BlockJUnit4ClassRunner.runChild(BlockJUnit4ClassRunner.java:63)\n",
      "\tat org.junit.runners.ParentRunner$4.run(ParentRunner.java:331)\n",
      "\tat org.junit.runners.ParentRunner$1.schedule(ParentRunner.java:79)\n",
      "\tat org.junit.runners.ParentRunner.runChildren(ParentRunner.java:329)\n",
      "\tat org.junit.runners.ParentRunner.access$100(ParentRunner.java:66)\n",
      "\tat org.junit.runners.ParentRunner$2.evaluate(ParentRunner.java:293)\n",
      "\tat org.junit.runners.ParentRunner$3.evaluate(ParentRunner.java:306)\n",
      "\tat org.junit.runners.ParentRunner.run(ParentRunner.java:413)\n",
      "\tat org.apache.maven.surefire.junit4.JUnit4Provider.execute(JUnit4Provider.java:365)\n",
      "\tat org.apache.maven.surefire.junit4.JUnit4Provider.executeWithRerun(JUnit4Provider.java:273)\n",
      "\tat org.apache.maven.surefire.junit4.JUnit4Provider.executeTestSet(JUnit4Provider.java:238)\n",
      "\tat org.apache.maven.surefire.junit4.JUnit4Provider.invoke(JUnit4Provider.java:159)\n",
      "\tat org.apache.maven.surefire.booter.ForkedBooter.runSuitesInProcess(ForkedBooter.java:377)\n",
      "\tat org.apache.maven.surefire.booter.ForkedBooter.execute(ForkedBooter.java:138)\n",
      "\tat org.apache.maven.surefire.booter.ForkedBooter.run(ForkedBooter.java:465)\n",
      "\tat org.apache.maven.surefire.booter.ForkedBooter.main(ForkedBooter.java:451)\n",
      "Caused by: java.io.IOException: Error while instrumenting sun/security/ec/SunEC$1.\n",
      "\tat org.jacoco.agent.rt.internal_f3994fa.core.instr.Instrumenter.instrumentError(Instrumenter.java:160)\n",
      "\tat org.jacoco.agent.rt.internal_f3994fa.core.instr.Instrumenter.instrument(Instrumenter.java:110)\n",
      "\tat org.jacoco.agent.rt.internal_f3994fa.CoverageTransformer.transform(CoverageTransformer.java:92)\n",
      "\t... 63 more\n",
      "Caused by: java.lang.IllegalArgumentException: Unsupported class file major version 61\n",
      "\tat org.jacoco.agent.rt.internal_f3994fa.asm.ClassReader.<init>(ClassReader.java:196)\n",
      "\tat org.jacoco.agent.rt.internal_f3994fa.asm.ClassReader.<init>(ClassReader.java:177)\n",
      "\tat org.jacoco.agent.rt.internal_f3994fa.asm.ClassReader.<init>(ClassReader.java:163)\n",
      "\tat org.jacoco.agent.rt.internal_f3994fa.core.internal.instr.InstrSupport.classReaderFor(InstrSupport.java:280)\n",
      "\tat org.jacoco.agent.rt.internal_f3994fa.core.instr.Instrumenter.instrument(Instrumenter.java:76)\n",
      "\tat org.jacoco.agent.rt.internal_f3994fa.core.instr.Instrumenter.instrument(Instrumenter.java:108)\n",
      "\t... 64 more\n"
     ]
    }
   ],
   "source": [
    "%%shell \n",
    "gitpuller https://github.com/ebpro/sample-jaxrs.git develop /home/jovyan/work/src/samples/sample-jaxrs\n",
    "MAVEN_OPTS=\"-Dorg.slf4j.simpleLogger.log.org.apache.maven.cli.transfer.Slf4jMavenTransferListener=warn\"\n",
    "cd /home/jovyan/work/src/samples/sample-jaxrs\n",
    "\n",
    "mvn -B --quiet clean package"
   ]
  },
  {
   "cell_type": "markdown",
   "metadata": {},
   "source": [
    "et la suivante ajoute les classes de ce projet ce notebook :"
   ]
  },
  {
   "cell_type": "code",
   "execution_count": null,
   "metadata": {},
   "outputs": [],
   "source": [
    "List<String> addedJars = %jars \"/home/jovyan/work/src/samples/sample-jaxrs/target/sample-jaxrs-*-withdependencies.jar\";  \n",
    "addedJars;"
   ]
  },
  {
   "cell_type": "markdown",
   "metadata": {
    "slideshow": {
     "slide_type": "slide"
    },
    "tags": []
   },
   "source": [
    "# Introduction à RESTfull\n",
    "L’idée générale de l'approche REST (REpresentational State Transfer) pour construire une interface de programmation (API) est d’offrir un accès distant à des ressources via une interface commune construite ~~au dessus de~~ \"**en**\" http. On parle d'approche RESTful quand l'interface d'une application est conforme à une certaine philosophie (il ne s'agit pas d'une norme). \n",
    "\n",
    "<div class=\"alert alert-success\" role=\"alert\">\n",
    "    RESTfull est une approche d'API client/serveur suivant la logique de navigation dans un hypermedia. On parle d'<a href=\"https://restcookbook.com/Basics/hateoashttps://restcookbook.com/Basics/hateoas\">HATEOS</a> (Hypermedia As The Engine Of Application State).\n",
    "</div>\n",
    "\n",
    "En particulier, le fait que l'API est sans état côté serveur permet de l'utiliser de façon transparente même en cas de serveur proxy/cache.\n",
    "\n",
    "Pour définir un protocole de communication, il faut généralement définir :\n",
    "  * un système d'identification (d'adressage) des ressources manipulées, \n",
    "  * un protocole de communication, \n",
    "  * un format d'échange de données éventuellement typées,\n",
    "  * un système de gestion des erreurs. \n",
    "\n",
    "La logique RESTfull est d'utiliser tout ce que propose HTTP pour écrire une API **en** HTTP."
   ]
  },
  {
   "cell_type": "markdown",
   "metadata": {
    "slideshow": {
     "slide_type": "slide"
    },
    "tags": []
   },
   "source": [
    "## L'adressage des ressources\n",
    "\n",
    "<div class=\"alert alert-success\" role=\"alert\">\n",
    "    Les ressources (ou ensembles de ressources) de l'application sont identifiées par des <a href=\"https://tools.ietf.org/html/rfc3986\">URI</a>. Les URL sont une sorte particulière d'URI qui indique un moyen d'accès en plus de les identifier de façon unique.\n",
    "</div>\n",
    "\n",
    "Il n'y a pas de standard pour les API REST. Il vaut généralement mieux rester simple et cohérent. Quelques pratiques sont utilisées classiquement :\n",
    "\n",
    "  * On utilise des noms (pas des verbes) au pluriel pour les ressources :\n",
    "  <dl>\n",
    "  <dt><strong>Toutes les personnes</strong></dt>\n",
    "    <dd><code>http://MyServer/MyApp/Persons</code></dd>\n",
    "  </dl>\n",
    "  * La ou les informations qui permettent d'identifier une ressource sont inclues dans l'URL et le plus possible dans le chemin plutôt que dans la Query String (par exemple un identifiant) :\n",
    "  <dl>\n",
    "  <dt><strong>La personne d'identifiant 1</strong></dt>\n",
    "    <dd><code>http://MyServer/MyApp/Persons/1</code></dd>\n",
    "  </dl>\n",
    "  * On évite les \"jointures\" dans les chemins. Si on le fait, l'ordre doit être constant et logique (la fin du chemin correspond toujours à la ressource retournée).\n",
    "  <dl>\n",
    "  <dt><strong>Les chiens de la personne 1</strong></dt>       \n",
    "        <dd><code><del>http://MyServer/MyApp/Persons/1/Dogs</del></code></dd>\n",
    "    <dd><code>http://MyServer/MyApp/Dogs?master_id=1</code></dd>\n",
    "  </dl>\n",
    "  * Les références dans les ressources vers d'autres ressources utilisent des URLs (cf. [Web Links](https://tools.ietf.org/html/rfc8288) ).\n",
    "  * On utilise la pagination, le filtrage et le tri (via les Query Strings) pour les requêtes complexes et pour contrôler le volume des données retournées. A noter la possibilité d'utiliser les [Matrix Params](https://www.w3.org/DesignIssues/MatrixURIs.htmlhttps://www.w3.org/DesignIssues/MatrixURIs.html) même s'ils ne sont pas standards.\n",
    "  <dl>  \n",
    "  <dt><strong>La deuxième page de personnes en utilisant des pages de 10 personnes.</strong></dt>\n",
    "    <dd><code>http://MyServer/MyApp/Persons?page=2&amp;page_size=10</code></dd>\n",
    "    <dd><code>http://MyServer/MyApp/Persons;page=2;page_size=10</code> (avec des Matrix Params)</dd>\n",
    "    <dd><code>http://MyServer/MyApp/Persons?page=2&amp;page_size=10&amp;sort=name,firstname,-created,title</code> (avec un filtre qui trie par ordre decroissant de date de création, puis par titre)</dd>\n",
    "  </dl>  \n",
    "  * Une projection explicite de certains champs des données peut être envisagée dans la ressource.\n",
    "  <dl>\n",
    "  <dt><strong>La personne d'identifiant 1 restreinte uniquement à certains champs</strong></dt>\n",
    "    <dd><code>http://MyServer/MyApp/Persons/1?fields=email,firstname,lastname</code></dd>\n",
    "  </dl>\n",
    "  * Des éléments \"administatifs\" peuvent/doivent être proposés (par exemple pour gérer la version d'une API en ajoutant /api/v1, /api/v2, ... au début du chemin).    "
   ]
  },
  {
   "cell_type": "markdown",
   "metadata": {
    "slideshow": {
     "slide_type": "slide"
    },
    "tags": []
   },
   "source": [
    "## Le protocole d'échange\n",
    "<div class=\"alert alert-success\" role=\"alert\">\n",
    "Les actions sur les ressources (identifiées par des URIs) sont associées aux verbes (méthodes) standards du protocole HTTP. \n",
    "</div>\n",
    "\n",
    "REST s'appuie sur le protocole HTTP (HyperText Transfert Protocol) qui est défini dans les RFC 7230 à 7237. La [RFC 7231](https://tools.ietf.org/html/rfc7231) défini les [méthodes](https://tools.ietf.org/html/rfc7231#page-24) et les [codes de retour](https://tools.ietf.org/html/rfc7231#section-6).\n",
    "\n",
    "Une méthode est \"sure\" (_safe_) si elle ne modifie pas l'état de serveur.\n",
    "\n",
    "Une méthode est idempotente (_idempotent_) si l'effet attendu par des appels multiples est identique à un appel unique de la même requête. Les méthodes sures sont donc idempotentes.\n",
    "     \n",
    "  | Verbe HTTP | Utilisation | Contraintes |\n",
    "  |:---:| --- | --- | \n",
    "  | **[GET](https://tools.ietf.org/html/rfc7231#section-4.3.1)** | Accès à une ressource identifiée dans l'URL (il peut s'agir d'une collection). | Safe, Idempotent    |\n",
    "  | **[HEAD](https://tools.ietf.org/html/rfc7231#section-4.3.2)** | comme GET mais sans le corps de la requête (seul le header http est retourné). Utile pour savoir si une ressource a changé. | Safe, Idempotent  |\n",
    "  | **[POST](https://tools.ietf.org/html/rfc7231#section-4.3.3)** | création d’une ressource sans donner l'identifiant. | |\n",
    "  | **[PUT](https://tools.ietf.org/html/rfc7231#section-4.3.4)**  | mise à jour complète d'une ressource identifiée (voire création en donnant l'identifiant). | Idempotent |\n",
    "  | **[DELETE](https://tools.ietf.org/html/rfc7231#section-4.3.5)**  | suppression d’une ressource. | Idempotent |\n",
    "  | **[OPTIONS](https://tools.ietf.org/html/rfc7231#section-4.3.7)** | liste les actions possibles sur une ressource. | Safe, Idempotent |\n",
    "  | **[PATCH](https://tools.ietf.org/html/rfc5789)** | La [RFC 5789](https://tools.ietf.org/html/rfc5789) ajoute un verbe pour des mises à jour partielle d'une ressource. | |\n",
    "\n",
    "Donc en particulier GET ne modifie rien, plusieurs appels à PUT n'ajoutent ou n'appliquent une modification qu'une fois mais plusieurs appels à POST en ajoutent plusieurs.\n",
    "\n",
    "Attention, certains proxies HTTP peuvent empêcher certaines actions en dehors de GET et POST (cf. X-HTTP-Method-Override). Cela peut donc conduire à devoir enfreindre les règles ci-dessus."
   ]
  },
  {
   "cell_type": "markdown",
   "metadata": {
    "slideshow": {
     "slide_type": "subslide"
    },
    "tags": []
   },
   "source": [
    "Un **endpoint** REST est défini par un verbe HTTP et une URL.\n",
    "\n",
    " * **Obtenir toutes les personnes** :\n",
    "   * `GET http://MyServer/MyApp/Persons`      \n",
    " * **Obtenir une personne précise par identifiant** :\n",
    "   * `GET http://MyServer/MyApp/Persons/1`\n",
    " * **Obtenir toutes les personnes entre 7 et 16ans** (avec un filtre) :\n",
    "   * `GET http://MyServer/MyApp/Persons?ageMin=7&ageMax=16`      \n",
    " * **Supprimer toutes personnes**     \n",
    "   * `DELETE http://MyServer/MyApp/Persons`      \n",
    " * **Supprimer une personne**     \n",
    "   * `DELETE http://MyServer/MyApp/Persons/1`      \n",
    "      "
   ]
  },
  {
   "cell_type": "markdown",
   "metadata": {
    "slideshow": {
     "slide_type": "slide"
    },
    "tags": []
   },
   "source": [
    "## La représentation des ressources\n",
    "<div class=\"alert alert-success\" role=\"alert\">\n",
    "Les resources sont généralement représentées et échangées à l'aide de langages autodescriptifs comme XML ou JSON.\n",
    "</div>\n",
    "    \n",
    "Par exemple, une personne peut\n",
    "\n",
    "```xml\n",
    "<?xml version='1.0'?>\n",
    "<person id='1'>\n",
    "    <lastname>Doe</lastname>\n",
    "    <firstname>John</firstname>\n",
    "</person>\n",
    "```\n",
    "\n",
    "```json\n",
    "{\n",
    "  \"person\": {\n",
    "    \"-id\": 1,\n",
    "    \"lastname\": \"Doe\",\n",
    "    \"firstname\": \"John\"\n",
    "  }\n",
    "}\n",
    "```\n",
    "Les types de données envoyées ou attendues sont indiqués dans l'entête de la requête HTTP par `Content-Type:` et `Accept:`. Pour cela, on utilise les Internet Media Types (ex MIME Type - Multipurpose Internet Mail Extensions). Il s'agit d'une liste standard de formats et de sous-formats d'échange de données (text/plain, text/xml, application/json, ...)."
   ]
  },
  {
   "cell_type": "markdown",
   "metadata": {},
   "source": [
    "L'exemple ci-dessous sérialise des objets Java qui représente un auteur et un livre en JSON et en XML. (Le détail est expliqué plus loin)."
   ]
  },
  {
   "cell_type": "code",
   "execution_count": null,
   "metadata": {},
   "outputs": [],
   "source": [
    "import fr.univtln.bruno.samples.jaxrs.model.Library;\n",
    "import fr.univtln.bruno.samples.jaxrs.model.Library.Author;\n",
    "import com.fasterxml.jackson.databind.ObjectMapper;\n",
    "import com.fasterxml.jackson.databind.SerializationFeature;\n",
    "import jakarta.xml.bind.JAXBContext;\n",
    "import jakarta.xml.bind.Marshaller;\n",
    "//Création d'un auteur et d'un livre en Java\n",
    "Library.demoLibrary.removesAuthors();\n",
    "Author author1 = Library.Author.builder().firstname(\"Joshua\").name(\"Bloch\").build();\n",
    "Library.demoLibrary.addAuthor(author1);\n",
    "Library.demoLibrary.addBook(Library.Book.builder().title(\"Effective Java (English Edition)\").authors(Set.of(author1)).build());\n",
    "\n",
    "//Transformation en JSON\n",
    "ObjectMapper objectMapper = new ObjectMapper().enable(SerializationFeature.INDENT_OUTPUT);\n",
    "\n",
    "//Transformation en XML\n",
    "Marshaller marshaller = JAXBContext.newInstance(Library.class).createMarshaller();\n",
    "marshaller.setProperty(Marshaller.JAXB_FORMATTED_OUTPUT, true);\n",
    "StringWriter sw = new StringWriter();\n",
    "marshaller.marshal(Library.demoLibrary, sw);\n",
    "\n",
    "//Affichage\n",
    "render(\"```json\\n\"+objectMapper.writeValueAsString(Library.demoLibrary)+\"\\n```\\n\"+\n",
    "       \"```xml\\n\"+sw.toString()+\"\\n```\", \"text/markdown\");"
   ]
  },
  {
   "cell_type": "markdown",
   "metadata": {
    "slideshow": {
     "slide_type": "slide"
    },
    "tags": []
   },
   "source": [
    "## Les code de retours\n",
    "Le protocole HTTP défini un ensemble de [codes de retours](https://tools.ietf.org/html/rfc7231#section-6). Il est donc possible d'utiliser ces codes standards comme code de retour pour indiquer comment l'opération a réussi ou pourquoi elle a échoué.\n",
    "\n",
    "<div class=\"alert alert-success\" role=\"alert\">\n",
    "Le code de retour des méthode est un code HTTP. Il est indiqué de façon standard dans l'entête de la réponse et peut être répété dans le contenu si une enveloppe est proposée. \n",
    "</div>\n",
    "\n",
    "|Code| Signification | Usage |\n",
    "|--- | --- | --- |\n",
    "|200| Ok | Requête traitée avec succès.|\n",
    "|201| Created | Nouvelle ressource créée.|\n",
    "|204| No Content | Pas de contenu, pas exmple lors d'une requête DELETE réussie.|\n",
    "|206| Partial Content | Seulement une partie de résultat est retourné par exemple en cas de pagination (non explicite). |\n",
    "|304| Not Modified | Utilisation du cache possible. |\n",
    "|400| Bad Request | La requête est invalide et ne peut pas être traitée par le serveur. |\n",
    "|401| Unauthorized | La requête nécessite que le client soit authentifié. |\n",
    "|403| Forbidden | Le client est authentifié mais l’utilisateur n’est pas autorisé à accéder à cette ressource. |\n",
    "|404| Not Found | La ressource demandée n’existe pas. |\n",
    "|500| Internal Server Error | C'est une erreur générique de fonctionnement, elle devrait toujours être accompagnée d'une description |\n"
   ]
  },
  {
   "cell_type": "markdown",
   "metadata": {
    "slideshow": {
     "slide_type": "slide"
    },
    "tags": []
   },
   "source": [
    "## Un échange REST = un échange HTTP\n",
    "<div class=\"alert alert-success\" role=\"alert\">\n",
    "Un échange d'une API REST correspond donc exactement à un échange http.\n",
    "</div>\n",
    "\n",
    "  * Une requête HTTP composée d'un verbe, d'une URL, de la version de HTTP utilisée, d'un en-tête (une liste de couples `nom:valeur` par exemple `Content-Type: text/xml`) et un corps éventuellement vide (les données envoyées).  \n",
    "  * Une réponse HTTP composée d'un code de retour, de meta données dans l'en-tête et d'un corps qui contient les données. Le corps est éventuellement encapsulé dans une \"enveloppe\" qui reprend les meta données pour faciliter leur traitement."
   ]
  },
  {
   "cell_type": "markdown",
   "metadata": {
    "slideshow": {
     "slide_type": "subslide"
    },
    "tags": []
   },
   "source": [
    "## Quelques exemples complets\n",
    "Requête de création d'une personne :\n",
    "```http\n",
    "POST http://MyServer:8080/MyApp/Persons/\n",
    "Host: MyServer:8080\n",
    "Content-Type: application/json; charset=utf-8\n",
    "Content-Length: 36\n",
    "{\"lastname\": \"Doe\",\n",
    " \"firstname\": \"John\"}\n",
    "```"
   ]
  },
  {
   "cell_type": "markdown",
   "metadata": {
    "slideshow": {
     "slide_type": "subslide"
    },
    "tags": []
   },
   "source": [
    "Requête de modification d'une personne (`id` dans l'URL):\n",
    "```http\n",
    "PUT http://MyServer:8080/MyApp/Persons/1\n",
    "Host: MyServer:8080\n",
    "Content-Type: application/json; charset=utf-8\n",
    "Content-Length: 12\n",
    "{\"age\":\"18\"}\n",
    "```"
   ]
  },
  {
   "cell_type": "markdown",
   "metadata": {
    "slideshow": {
     "slide_type": "slide"
    },
    "tags": []
   },
   "source": [
    "## Utilisation\n",
    "Une requête REST peut être envoyée par programmation ou en utilisant un programme dédié comme [curl](https://curl.se/) en ligne de commande, [`postman`](https://www.postman.com/)  pour chrome ou [`RestClient`](https://addons.mozilla.org/fr/firefox/addon/restclient/) pour firefox. Regardez les options de la commande `curl` pour réaliser des requêtes HTTP. Attention, les serveurs lancés dans jupyter ne sont pas simplement accessible de l'extérieur y compris via les extensions du navigateurs mais direct sur l'adresse de loopback 127.0.0.1\n",
    "\n",
    "La requête suivante utilise la commande `curl` pour soumettre une requête REST GET à l'API de github pour consulter le profile du compte `ebpro`. Elle affiche le détails des requêtes et réponses HTTP"
   ]
  },
  {
   "cell_type": "code",
   "execution_count": null,
   "metadata": {
    "slideshow": {
     "slide_type": "fragment"
    },
    "tags": []
   },
   "outputs": [],
   "source": [
    "%%shell \n",
    "curl -s -D - https://api.github.com/users/ebpro"
   ]
  },
  {
   "cell_type": "markdown",
   "metadata": {
    "slideshow": {
     "slide_type": "slide"
    },
    "tags": []
   },
   "source": [
    "<div class=\"alert alert-block alert-info\">\n",
    "A partir du résultat précédent écrivez une requête REST pour obtenir la liste des repositories de ce compte github.\n",
    "</div>"
   ]
  },
  {
   "cell_type": "code",
   "execution_count": null,
   "metadata": {
    "slideshow": {
     "slide_type": "fragment"
    },
    "tags": []
   },
   "outputs": [],
   "source": [
    "%%shell\n",
    "echo EXERCICE A FAIRE"
   ]
  },
  {
   "cell_type": "markdown",
   "metadata": {
    "slideshow": {
     "slide_type": "slide"
    },
    "tags": []
   },
   "source": [
    "# Pratique avec Jersey et Grizzly\n",
    "\n",
    "Java propose un standard appelé [JAX-RS](https://jakarta.ee/specifications/restful-ws/3.0/jakarta-restful-ws-spec-3.0.html) pour construire efficacement des serveurs et des clients REST. \n",
    "[Jersey](https://eclipse-ee4j.github.io/jersey/download.html) est l'implantation de référence de JAX-RS. \n",
    "\n",
    "## Une application REST minimale\n",
    "\n",
    "Dans un premier temps nous allons étudier une application minimale qui s'appuie un serveur Web en Java [Grizzly](https://javaee.github.io/grizzly/).\n",
    "\n",
    "L’archetype maven suivant permet de créer un projet de base dans le répertoire `/home/jovyan/work/src/samples/jaxrs/myresource`. \n",
    "\n",
    "Une fois la commande terminée (un nombre a remplacé \\[*\\] cela peut prendre un peu de temps), le code source peut être consulté en utilisant l'IDE [Visual Studio Code](/code-server) embarqué en cliquant sur le lien précédent ou depuis les launchers de JupyterLab."
   ]
  },
  {
   "cell_type": "code",
   "execution_count": null,
   "metadata": {
    "slideshow": {
     "slide_type": "subslide"
    },
    "tags": []
   },
   "outputs": [],
   "source": [
    "%%shell\n",
    "mkdir -p /home/jovyan/work/src/samples/jaxrs\n",
    "cd /home/jovyan/work/src/samples/jaxrs\n",
    "rm -rf /home/jovyan/work/src/samples/jaxrs/myresource\n",
    "\n",
    "mvn archetype:generate -B --no-transfer-progress \\\n",
    "  -DarchetypeGroupId=org.glassfish.jersey.archetypes \\\n",
    "  -DarchetypeArtifactId=jersey-quickstart-grizzly2 \\\n",
    "  -DarchetypeVersion=3.0.0 \\\n",
    "  -DgroupId=fr.univtln.bruno.demos.jaxrs \\\n",
    "  -DartifactId=myresource"
   ]
  },
  {
   "cell_type": "markdown",
   "metadata": {
    "slideshow": {
     "slide_type": "subslide"
    },
    "tags": []
   },
   "source": [
    "<div class=\"alert alert-block alert-info\">\n",
    "Ouvrez un terminal dans jupyterlab (+ en haut à gauche puis terminal) et copier/coller la commande suivante pour compilier/exécuter l’application et ainsi démarrer le serveur REST.\n",
    "</div>\n",
    "\n",
    "```shell\n",
    "cd /src/jaxrs/myresource\n",
    "mvn package && mvn exec:java\n",
    "```\n",
    "\n",
    "Il est maintenant possible d’accéder à la ressource en ligne de commande à partir de l'adresse http://localhost:8080/myapp dans le notebook ou un terminal jupyter par exemple avec curl (pas dans dans la barre d'adresse de votre navigateur).\n",
    "\n"
   ]
  },
  {
   "cell_type": "markdown",
   "metadata": {
    "slideshow": {
     "slide_type": "slide"
    },
    "tags": []
   },
   "source": [
    "Une application REST JAX-RS est construite autour de deux notions principales l'Application (le serveur) et les Ressources.\n",
    "Une instance d'une ressource est créée pour répondre à chaque requête et détruite ensuite. Elle peut donc être utilisée comme une sorte de singleton. Une ressource est définie annotant  une classe, un ou plusieurs de ses superclasses (y compris abstraites) ou l'une de ses interfaces. \n",
    "\n",
    "Dans l'exemple, la classe `fr.univtln.bruno.demos.jaxrs.Main` démarre le serveur et paramètre les packages où le framework va chercher des ressources comme le montre la méthode ci-dessous."
   ]
  },
  {
   "cell_type": "code",
   "execution_count": null,
   "metadata": {},
   "outputs": [],
   "source": [
    "%%javasrcMethodByName Main startServer\n",
    "/home/jovyan/work/src/jaxrs/myresource/src/main/java/fr/univtln/bruno/demos/jaxrs/Main.java"
   ]
  },
  {
   "cell_type": "markdown",
   "metadata": {
    "slideshow": {
     "slide_type": "slide"
    },
    "tags": []
   },
   "source": [
    "La classe `fr.univtln.bruno.demos.jaxrs.MyResource` présente le fonctionnement minimal d'une ressource. La classe est annotée avec `@Path(...)` pour indiquer le chemin à ajouter à l’URL correspondant à cette ressource. D'une façon générale, les méthodes sont annotées avec `@POST`, `@GET`, `@PUT`,`@DELETE`, ... pour indiquer le type de verbe HTTP associé. "
   ]
  },
  {
   "cell_type": "markdown",
   "metadata": {
    "slideshow": {
     "slide_type": "slide"
    },
    "tags": []
   },
   "source": [
    "Les méthodes peuvent être annotées avec `@Produces` qui indique le ou les types MIME dans lequel le résultat peut être fourni : `@Produces(\"text/plain\")`, `@Produces(\"application/json\")`, … Il est possible d’indiquer plusieurs types avec `@Produces({\"application/json\", \"application/xml\"})`. Il existe aussi des constantes équivalentes `MediaType.TEXT_PLAIN`. Une valeur par défaut de `@Produces` peut être indiquée en annotant la classe."
   ]
  },
  {
   "cell_type": "code",
   "execution_count": null,
   "metadata": {
    "tags": []
   },
   "outputs": [],
   "source": [
    "%%javasrcMethodByAnnotationName MyResource GET\n",
    "/home/jovyan/work/src/jaxrs/myresource/src/main/java/fr/univtln/bruno/demos/jaxrs/MyResource.java"
   ]
  },
  {
   "cell_type": "markdown",
   "metadata": {
    "slideshow": {
     "slide_type": "slide"
    },
    "tags": []
   },
   "source": [
    "Le client peut indiquer le type demandé parmi l'un des \"produces\" avec la valeur `Content-Type: ` de l'entête de la requête.\n"
   ]
  },
  {
   "cell_type": "markdown",
   "metadata": {
    "slideshow": {
     "slide_type": "slide"
    },
    "tags": []
   },
   "source": [
    "La commande suivante exécute une requête GET sur l'URL d'une ressource et affiche le résultat en-tête compris. (Le serveur doit être lancé)."
   ]
  },
  {
   "cell_type": "code",
   "execution_count": null,
   "metadata": {
    "slideshow": {
     "slide_type": "fragment"
    },
    "tags": []
   },
   "outputs": [],
   "source": [
    "%%shell\n",
    "curl -s -D - --get http://localhost:8080/myapp/myresource"
   ]
  },
  {
   "cell_type": "markdown",
   "metadata": {
    "slideshow": {
     "slide_type": "slide"
    },
    "tags": []
   },
   "source": [
    "## Une application REST plus complète\n",
    "\n",
    "Pour la suite nous allons étudier en détail l'application clonée au début du notebook dans `/src/jaxrs/sample-jaxrs`.\n",
    "\n",
    "Vous pouvez exécuter la commande suivante depuis un terminal jupyterlab qui utilise le but maven `verify`.\n",
    "Elle compile, exécute les tests unitaires, package et exécute les tests d'intégration (en lançant le serveur REST et en exécutant de vraies requêtes).\n",
    "```shell \n",
    "cd /src/jaxrs/sample-jaxrs && \\\n",
    "    mvn clean verify &&\n",
    "    mvn exec:java\n",
    "```\n",
    "\n",
    "Le but  `exec:java` lances ensuite le serveur (vous pourrez l'arrêter avec ctrl-c dans le terminal). \n",
    "\n",
    "<div class=\"alert alert-block alert-info\">\n",
    "Vous pouvez donc ourir un autre terminal JupyterLab pour exécuter la commande suivante et encore un autre terminal pour executer des requêtes avec curl.<br/>\n",
    "    \n",
    "Les exemples suivants lancent, utilisent et ferment le serveur depuis le notebook.\n",
    "</div>\n",
    "\n",
    "\n",
    "La classe `fr.univtln.bruno.samples.jaxrs.server.BiblioServer` paramètre Jersey, démarre Grizzly et attend un CTRL-C pour arrêter le serveur. \n",
    "\n",
    "La classe `fr.univtln.bruno.samples.jaxrs.model.LibraryModel` définit le modèle de donnée (Une bibliothèque qui est une facade pour gérer des Auteurs et des Livres.)\n",
    "\n",
    "Les classes `fr.univtln.bruno.samples.jaxrs.resources.LibraryResource` et `fr.univtln.bruno.samples.jaxrs.resources.AuthorResource` définissent des ressources REST.\n",
    "\n",
    "<div class=\"alert alert-block alert-warning\">\n",
    "La commande suivante démarre le serveur REST dans le notebook, il s'éxecute en tâche de fond et devra être arrêté avec la commande <tt>httpServer.stop();</tt> ou par un redémarrage du notebook.\n",
    "</div>"
   ]
  },
  {
   "cell_type": "code",
   "execution_count": null,
   "metadata": {},
   "outputs": [],
   "source": [
    "%jars \"/home/jovyan/work/src/jaxrs/sample-jaxrs/target/sample-jaxrs-*-withdependencies.jar\"; \n",
    "import org.glassfish.grizzly.http.server.HttpServer;\n",
    "import fr.univtln.bruno.samples.jaxrs.server.BiblioServer;\n",
    "HttpServer httpServer = BiblioServer.startServer();"
   ]
  },
  {
   "cell_type": "markdown",
   "metadata": {
    "slideshow": {
     "slide_type": "slide"
    },
    "tags": []
   },
   "source": [
    "### Chemins et Verbes\n",
    "La méthode `sayHello()` reprend l'exemple précédent."
   ]
  },
  {
   "cell_type": "code",
   "execution_count": null,
   "metadata": {},
   "outputs": [],
   "source": [
    "%%javasrcMethodByName LibraryResource sayHello\n",
    "/home/jovyan/work/src/jaxrs/sample-jaxrs/src/main/java/fr/univtln/bruno/samples/jaxrs/resources/LibraryResource.java"
   ]
  },
  {
   "cell_type": "code",
   "execution_count": null,
   "metadata": {
    "slideshow": {
     "slide_type": "fragment"
    },
    "tags": []
   },
   "outputs": [],
   "source": [
    "%%shell\n",
    "curl -s -i http://localhost:9998/mylibrary/library"
   ]
  },
  {
   "cell_type": "markdown",
   "metadata": {
    "slideshow": {
     "slide_type": "subslide"
    },
    "tags": []
   },
   "source": [
    "\n",
    "La méthode `init()` est un simple PUT sans paramètre qui initialise la bibliothèque avec deux auteurs."
   ]
  },
  {
   "cell_type": "code",
   "execution_count": null,
   "metadata": {},
   "outputs": [],
   "source": [
    "%%javasrcMethodByName LibraryResource init\n",
    "/home/jovyan/work/src/jaxrs/sample-jaxrs/src/main/java/fr/univtln/bruno/samples/jaxrs/resources/LibraryResource.java"
   ]
  },
  {
   "cell_type": "code",
   "execution_count": null,
   "metadata": {
    "slideshow": {
     "slide_type": "fragment"
    },
    "tags": []
   },
   "outputs": [],
   "source": [
    "%%shell\n",
    "curl -s -i -X PUT \"http://localhost:9998/mylibrary/library/init\""
   ]
  },
  {
   "cell_type": "markdown",
   "metadata": {
    "slideshow": {
     "slide_type": "slide"
    },
    "tags": []
   },
   "source": [
    "### Les paramètres simples\n",
    "JAX-RS permet d'extraire automatiquement des valeurs de paramètres depuis le chemin de la ressources, les paramêtres de la requête ou l'entête http. Ces valeurs peuvent alors être \"injectées\" (affectée par annotation aux paramètres des méthodes REST).\n",
    "\n",
    "L’annotation `@PathParam` permet d’injecter les valeurs provenant des URL comme des paramètres.\n",
    "\n",
    "La méthode `getAuthor(@PathParam(\"id\") final long id)` ci dessous-s'exécute lors d'un `GET` sur un chemin de forme `@Path(\"author/{id}\")`. `id` est est un pas de chemin quelconque qui sera extrait, converti en long et injecté grâce à `@PathParam` dans le paramètre `id` de la fonction. Il est possible d'indiquer une expression régulière pour contraindre la forme du pas par exemple `@Path(\"authors/{id: [0-9]+}\")`. \n",
    "\n",
    "Le `@Produces` sur la classe indique que du XML ou du JSON peuvent être produits.\n",
    "Les méthodes REST retournent instance de la classe Response qui représente une réponse HTTP. Cette classe propose un builder pour construire manuellement. \n",
    "Cependant, JAX-RS permet de construite automatiquement ces réponses si le type de retour peut être transformé en un contenu de réponse (une entité http) par une implantation de l'interface `MessageBodyWriter`. Les implantations de JAX-RS en fournissent généralement par défaut par exemple pour String voire pour XML ou JSON (via les mécanismes de marshalling qui seront étudiés en détail plus tard)."
   ]
  },
  {
   "cell_type": "code",
   "execution_count": null,
   "metadata": {},
   "outputs": [],
   "source": [
    "%%javasrcMethodByName AuthorResource getAuthor\n",
    "/home/jovyan/work/src/jaxrs/sample-jaxrs/src/main/java/fr/univtln/bruno/samples/jaxrs/resources/AuthorResource.java"
   ]
  },
  {
   "cell_type": "markdown",
   "metadata": {},
   "source": [
    "Get author 1 in JSON :"
   ]
  },
  {
   "cell_type": "code",
   "execution_count": null,
   "metadata": {
    "slideshow": {
     "slide_type": "subslide"
    },
    "tags": []
   },
   "outputs": [],
   "source": [
    "%%shell\n",
    "curl -s -i -H \"Accept: application/json\"  \\\n",
    "  http://localhost:9998/mylibrary/authors/1"
   ]
  },
  {
   "cell_type": "markdown",
   "metadata": {
    "slideshow": {
     "slide_type": "slide"
    },
    "tags": []
   },
   "source": [
    "La requête suivante reprend la précédente et demande du XML. JAX-RS va chercher automatiquement des classes (MessageBodyWriter et Reader) pour créer le bon format. Ces classes peuvent construites explicitement mais des extensions peuvent être ajoutées pour produire les types classiques par annotations des entités (cf. le pom.xml et  les annotations de la classe `BiblioModel.Auteur`) : jersey-media-jaxb pour XML et jersey-media-json-jackson pour JSON. Jackson n'est pas l'implantatation pas défaut mais elle est plus efficace et plus configurable. \n",
    "\n",
    "Get author 2 in XML :"
   ]
  },
  {
   "cell_type": "code",
   "execution_count": null,
   "metadata": {
    "slideshow": {
     "slide_type": "fragment"
    },
    "tags": []
   },
   "outputs": [],
   "source": [
    "%%shell\n",
    "curl -s -i -H \"Accept: text/xml\"  \\\n",
    "  http://localhost:9998/mylibrary/authors/2"
   ]
  },
  {
   "cell_type": "markdown",
   "metadata": {
    "slideshow": {
     "slide_type": "slide"
    },
    "tags": []
   },
   "source": [
    "Les collections classiques sont supportés. Notez qu'ici les [collections eclipse](https://www.eclipse.org/collections/) sont utilisées en particulier celles pour les primitifs et qu'elles sont supportées par Jackson."
   ]
  },
  {
   "cell_type": "markdown",
   "metadata": {},
   "source": [
    "Get authors in XML :"
   ]
  },
  {
   "cell_type": "code",
   "execution_count": null,
   "metadata": {},
   "outputs": [],
   "source": [
    "%%javasrcMethodByName AuthorResource getAuthors\n",
    "/home/jovyan/work/src/jaxrs/sample-jaxrs/src/main/java/fr/univtln/bruno/samples/jaxrs/resources/AuthorResource.java"
   ]
  },
  {
   "cell_type": "markdown",
   "metadata": {},
   "source": [
    "Get authors in JSON"
   ]
  },
  {
   "cell_type": "code",
   "execution_count": null,
   "metadata": {
    "slideshow": {
     "slide_type": "notes"
    },
    "tags": []
   },
   "outputs": [],
   "source": [
    "%%shell\n",
    "curl -s -i -H \"Accept: application/json\"  \\\n",
    "  http://localhost:9998/mylibrary/authors"
   ]
  },
  {
   "cell_type": "markdown",
   "metadata": {},
   "source": [
    "D'une façon similaire les annotations `@HeaderParam` et `@QueryParam` permettent d'extraire des valeurs de l'entête ou des paramètres de la requête http.\n",
    "La méthode suivante permet de construire un filtre pour des requêtes complexe. L'utilisation d'un chemin différent (\"filter\") n'est utile que pour l'exemple dans une application réelle il n'y aura qu'un seul GET. "
   ]
  },
  {
   "cell_type": "code",
   "execution_count": null,
   "metadata": {},
   "outputs": [],
   "source": [
    "%%javasrcMethodByName AuthorResource getFilteredAuthors\n",
    "/home/jovyan/work/src/jaxrs/sample-jaxrs/src/main/java/fr/univtln/bruno/samples/jaxrs/resources/AuthorResource.java"
   ]
  },
  {
   "cell_type": "code",
   "execution_count": null,
   "metadata": {},
   "outputs": [],
   "source": [
    "%%shell\n",
    "curl -s -i -H \"Accept: application/json\"  \\\n",
    " \"http://localhost:9998/mylibrary/authors/filter?name=Durand&firstname=Marie\""
   ]
  },
  {
   "cell_type": "code",
   "execution_count": null,
   "metadata": {},
   "outputs": [],
   "source": [
    "%%shell\n",
    "curl -s -i -H \"Accept: application/json\"  \\\n",
    "-H \"sortKey: firstname\" \\\n",
    "  \"http://localhost:9998/mylibrary/authors/filter\""
   ]
  },
  {
   "cell_type": "markdown",
   "metadata": {},
   "source": [
    "Pour simplifier le traitement des paramètres JAX-RX propose l'annotation `@BeanParam` qui permet de créer un instance d'une classe à partir des paramètres extraits. Pour cela, les propriétés de la classe peuvent être annotées pour indiquer les paramêtres correspondants.\n",
    "\n",
    "L'exemple suivant montre comment l'utiliser pour mettre en place la pagination qui est essentielle quand le volume des données peut être important. Là aussi le chemin spécifique (\"page\") n'est là que pour l'exemple. "
   ]
  },
  {
   "cell_type": "code",
   "execution_count": null,
   "metadata": {},
   "outputs": [],
   "source": [
    "%%javasrcClassByName PaginationInfo\n",
    "/home/jovyan/work/src/jaxrs/sample-jaxrs/src/main/java/fr/univtln/bruno/samples/jaxrs/resources/PaginationInfo.java"
   ]
  },
  {
   "cell_type": "code",
   "execution_count": null,
   "metadata": {},
   "outputs": [],
   "source": [
    "%%javasrcMethodByName AuthorResource getAuthorsPage\n",
    "/home/jovyan/work/src/jaxrs/sample-jaxrs/src/main/java/fr/univtln/bruno/samples/jaxrs/resources/AuthorResource.java"
   ]
  },
  {
   "cell_type": "markdown",
   "metadata": {},
   "source": [
    "L'appel suivant de l'API génère alétoirement 100 auteurs."
   ]
  },
  {
   "cell_type": "code",
   "execution_count": null,
   "metadata": {},
   "outputs": [],
   "source": [
    "%%shell\n",
    "curl -s -i -X PUT \"http://localhost:9998/mylibrary/library/init/100\""
   ]
  },
  {
   "cell_type": "markdown",
   "metadata": {},
   "source": [
    "On peut alors demander la page 3 (de taille 10)."
   ]
  },
  {
   "cell_type": "code",
   "execution_count": null,
   "metadata": {},
   "outputs": [],
   "source": [
    "%%shell\n",
    "curl -s -i -H \"Accept: application/json\"  \\\n",
    "-H \"sortKey: firstname\" \\\n",
    "  \"http://localhost:9998/mylibrary/authors/page?pageSize=10&page=3\""
   ]
  },
  {
   "cell_type": "markdown",
   "metadata": {},
   "source": [
    "L'appel suivant de l'API remet uniquement deux auteurs dans la base de données."
   ]
  },
  {
   "cell_type": "code",
   "execution_count": null,
   "metadata": {},
   "outputs": [],
   "source": [
    "%%shell\n",
    "curl -s -i -X PUT \"http://localhost:9998/mylibrary/library/init\""
   ]
  },
  {
   "cell_type": "markdown",
   "metadata": {},
   "source": [
    "### La sérialisation des données\n",
    "Les resources sont habituellement échangées en utilisant des langage de description standards comme [XML](https://www.w3.org/TR/xml11/) ou [JSON](https://www.ecma-international.org/publications-and-standards/standards/ecma-404/) (pour être précis JSON n'est pas vraiment un \"standard\" du web). Il est donc très courant de convertir des données vers et depuis Java. Pour cela, des API standards existent.\n",
    "\n",
    "#### JAXB\n",
    "Nous allons voir maintenant une introduction rapide au mapping XML<->Java. La définition des formats de données XML se fait par annotation des entités en utilisant le standard [JAXB](https://jakarta.ee/specifications/xml-binding/3.0/jakarta-xml-binding-spec-3.0.html) (Java Architecture for XML Binding) : `@XmlElement`, `@XmlType`, `@XmlAttribute`, `@XmlTransient`, `@XmlValue`, ...\n",
    "\n",
    "Depuis Java 9, il est nécessaire d'ajouter les dépendances suivantes pour traiter des données XML avec JAXB : "
   ]
  },
  {
   "cell_type": "code",
   "execution_count": null,
   "metadata": {},
   "outputs": [],
   "source": [
    "%%loadFromPOM\n",
    "<dependency>\n",
    "  <groupId>jakarta.xml.bind</groupId> \n",
    "  <artifactId>jakarta.xml.bind-api</artifactId>\n",
    "  <version>3.0.0</version>\n",
    "</dependency>\n",
    "<dependency>\n",
    "  <groupId>org.glassfish.jaxb</groupId>\n",
    "  <artifactId>jaxb-runtime</artifactId>\n",
    "  <version>3.0.0</version>\n",
    "</dependency>"
   ]
  },
  {
   "cell_type": "markdown",
   "metadata": {},
   "source": [
    "La classe `Task` ci-dessous est un exemple simple. marquée comme étant représentée comme un élément XML (`@XmlRootElement`). On précise que les annotations sont faites sur les champs avec `@XmlAccessorType` (utile avec Lombok).\n",
    "\n",
    "Par défaut, les propriétés sont représentées comme des éléments XML. Il est possible de préciser que l'on veut un attribut (`@XmlAttribute`) sur `id`, de contrôler leur nom (paramètre `name`) et de définir ceux qui ne doivent pas apparaitre (`@XMLTransient`). Il est aussi possible de contrôler l'ordre d'apparition des éléments (`propOrder` de `@XmlType`).\n",
    "\n",
    "Attention, un constructeur sans paramètre (au maximum `protected`) est obligatoire (pour permettre la reconstruction). Sinon `@XmlType.factoryMethod()` et `@XmlType.factoryClass()` permettent d'utiliser une factory s'il s'agit d'une méthode statique sans paramètre.\n",
    "\n",
    "Dans le cas d'une collection `@XmlElementWrapper` permet d'ajouter un élément parent au contenu et `@XmlElements` contrôle le type des éléments en fonction du type réel Java. Pour des primitifs `@XmlList` permet de générer des listes avec un espace comme séparateur.\n",
    "\n",
    "`@XmlType` est similaire à `@XmlRootElement` si la classe ne doit apparitre que comme un sous-élément. \n",
    "\n",
    "`@XmlValue` ne peut être utilisée que sur une seule propriété dont la valeur sera alors le contenu de l'élément (sans élément parent). "
   ]
  },
  {
   "cell_type": "code",
   "execution_count": null,
   "metadata": {},
   "outputs": [],
   "source": [
    "import jakarta.xml.bind.annotation.*;\n",
    "import java.util.List;\n",
    "import java.util.ArrayList;\n",
    "    \n",
    "@XmlRootElement(name=\"task\", namespace=\"http://bruno.univ-tln.fr/sample-jaxb/task\")\n",
    "@XmlType(propOrder = { \"id\", \"state\", \"title\", \"description\", \"tags\"})\n",
    "@XmlAccessorType(XmlAccessType.FIELD)\n",
    "public class Task {\n",
    "   @XmlAttribute(name=\"id\")\n",
    "   private long id=-1;\n",
    "\n",
    "   private String title;\n",
    "\n",
    "   @XmlElement(name=\"status\")\n",
    "   private State state=State.OPENED;\n",
    "   \n",
    "   @XmlTransient\n",
    "   private int age = -1;\n",
    "        \n",
    "   @XmlElementWrapper(name=\"tags\")\n",
    "   @XmlElements({@XmlElement(name=\"tag\",type=String.class)})\n",
    "   private List<String> tags; \n",
    "    \n",
    "   private Description description = new Description(); \n",
    "    \n",
    "   protected Task() {} \n",
    "   public Task(long id, String title, State state, List<String> tags) {\n",
    "       this.id=id; this.title=title; this.state=state; this.tags = tags;\n",
    "       }  \n",
    "    \n",
    "   public String toString() {return \"Task {id=\"+id+\",title='\"+title+\"',status='\"+state+\", tags='\"+tags+\"', description='\"+description+\"'}\";}\n",
    "    \n",
    " @XmlEnum(Integer.class)   \n",
    " //Par défaut vers String (donc @XmlEnumValue inutile)\n",
    " //@XmlEnum(String.class)   \n",
    " public enum State {\n",
    "    @XmlEnumValue(\"1\") OPENED, \n",
    "    @XmlEnumValue(\"0\") CLOSED\n",
    " }\n",
    " \n",
    " @XmlAccessorType(XmlAccessType.FIELD)    \n",
    " public static class Description {\n",
    "     @XmlValue \n",
    "     private String content = \"...\";\n",
    "     public String toString() {return content;}\n",
    " }\n",
    "    \n",
    "}"
   ]
  },
  {
   "cell_type": "markdown",
   "metadata": {},
   "source": [
    "JAXB offre la classe [JAXBContext](https://jakarta.ee/specifications/xml-binding/3.0/jakarta-xml-binding-spec-3.0.html#jaxbcontext) pour transformer une classe Java en XML (Marshalling)."
   ]
  },
  {
   "cell_type": "code",
   "execution_count": null,
   "metadata": {},
   "outputs": [],
   "source": [
    "import jakarta.xml.bind.JAXBContext;\n",
    "import jakarta.xml.bind.Marshaller;\n",
    "\n",
    "Task task = new Task(1L, \"First task\", Task.State.OPENED, Arrays.asList(\"important\",\"outside\"));\n",
    "\n",
    "//Création du contexte JAXB sur la classe Task\n",
    "JAXBContext jaxbContext = JAXBContext.newInstance(Task.class);\n",
    "\n",
    "//Création de la classe qui converti vers XML\n",
    "Marshaller marshaller = jaxbContext.createMarshaller();\n",
    "//Définition des paramètres de la conversion (optionnel)\n",
    "marshaller.setProperty(Marshaller.JAXB_FORMATTED_OUTPUT, true);\n",
    "//Exécution de la conversion\n",
    "StringWriter sw = new StringWriter();\n",
    "marshaller.marshal(task, sw);\n",
    "String result=sw.toString();\n",
    "\n",
    "render(\"```xml\\n\"+result+\"\\n```\", \"text/markdown\");"
   ]
  },
  {
   "cell_type": "markdown",
   "metadata": {},
   "source": [
    "Le contexte JABX permet aussi simplement de réaliser l'opération inverse (UnMarshalling) à partir d'un document XML contenu dans une String, un fichier, d'un flux, ..."
   ]
  },
  {
   "cell_type": "code",
   "execution_count": null,
   "metadata": {},
   "outputs": [],
   "source": [
    "String xmlString=\"\"\"\n",
    "<?xml version=\"1.0\" encoding=\"UTF-8\" standalone=\"yes\"?>\n",
    "<ns2:task xmlns:ns2=\"http://bruno.univ-tln.fr/sample-jaxb/task\" id=\"2\">\n",
    "    <status>0</status>\n",
    "    <title>Another task</title>\n",
    "    <description>Une tache inutile</description>\n",
    "    <tags>\n",
    "        <tag>spare-time</tag>\n",
    "        <tag>fun</tag>\n",
    "    </tags>\n",
    "</ns2:task>\"\"\";\n",
    "//Conversion d'n document XML \n",
    "jaxbContext.createUnmarshaller()\n",
    "       .unmarshal(new StringReader(xmlString));"
   ]
  },
  {
   "cell_type": "markdown",
   "metadata": {},
   "source": [
    "Dans le cas de JAX-RS, c'est le framework qui prend en charge la transformation des données retournées et reçues à condition d'ajouter la dépendance suivante en plus de celles de JAXB :\n",
    "\n",
    "```xml\n",
    "<dependency>\n",
    " <groupId>org.glassfish.jersey.media</groupId>\n",
    " <artifactId>jersey-media-jaxb</artifactId>\n",
    "</dependency>\n",
    "```\n",
    "\n",
    "JAXB Permet aussi de générer automatique le Schema XML à partir des classes Java. Il suffit d'écrire une sous-classe de `SchemaOutputResolver` pour indiquer où les résultat doit être produit. Ci dessous deux exemples pour obtenir une String et des fichiers. "
   ]
  },
  {
   "cell_type": "code",
   "execution_count": null,
   "metadata": {},
   "outputs": [],
   "source": [
    "import jakarta.xml.bind.SchemaOutputResolver;\n",
    "import javax.xml.transform.Result;\n",
    "import javax.xml.transform.stream.StreamResult;\n",
    "\n",
    "public class StringSchemaOutputResolver extends SchemaOutputResolver {\n",
    "    private StringWriter stringWriter = new StringWriter();    \n",
    "\n",
    "    public Result createOutput(String namespaceURI, String suggestedFileName) throws IOException  {\n",
    "        StreamResult result = new StreamResult(stringWriter);\n",
    "        result.setSystemId(suggestedFileName);\n",
    "        return result;\n",
    "    }\n",
    "\n",
    "    public String getSchema() {\n",
    "        return stringWriter.toString();\n",
    "    }\n",
    "\n",
    "}\n",
    "\n",
    "\n",
    "public class FileSchemaOutputResolver extends SchemaOutputResolver {        \n",
    "    @Override\n",
    "    public Result createOutput(String nameSpaceURI, String suggestedName) throws IOException {\n",
    "        System.out.println(nameSpaceURI+\" \"+suggestedName);\n",
    "        StreamResult streamResult = new StreamResult(suggestedName);\n",
    "        return streamResult;\n",
    "    }\n",
    "}\n",
    "\n",
    "StringSchemaOutputResolver stringSchemaOutputResolver = new StringSchemaOutputResolver();\n",
    "jaxbContext.generateSchema(stringSchemaOutputResolver);\n",
    "String result = stringSchemaOutputResolver.getSchema();\n",
    "\n",
    "render(\"```xml\\n\"+result+\"\\n```\", \"text/markdown\");"
   ]
  },
  {
   "cell_type": "markdown",
   "metadata": {},
   "source": [
    "#### JSON\n",
    "Le standard officiel pour JSON est maintenant [JSON-B](http://json-b.net/) (Java API for JSON Binding). Cependant, des fonctionnalités importantes sont manquantes comme la gestion des types Polymorphes ou de certaines classes importantes en natif (comme les collections eclipses). Nous utiliserons donc une autre librairie : [Jackson](https://github.com/FasterXML/jackson) (cf. pom.xml). \n",
    "\n",
    "Pour l'utiliser, il suffit d'ajouter les dépendances suivantes :"
   ]
  },
  {
   "cell_type": "code",
   "execution_count": null,
   "metadata": {},
   "outputs": [],
   "source": [
    "%%loadFromPOM\n",
    "<!-- -->\n",
    "<dependency>\n",
    " <groupId>com.fasterxml.jackson.core</groupId>\n",
    " <artifactId>jackson-databind</artifactId>\n",
    " <version>2.12.1</version>\n",
    "</dependency>\n",
    "\n",
    "<!-- Optionnel ajoute le support de type Java8 hors Date -->\n",
    "<dependency>\n",
    " <groupId>com.fasterxml.jackson.module</groupId>\n",
    " <artifactId>jackson-modules-java8</artifactId>\n",
    " <version>2.12.1</version>\n",
    "</dependency>\n",
    "<!-- Optionnel ajoute le support des Date Java8 -->\n",
    "<dependency>\n",
    "    <groupId>com.fasterxml.jackson.datatype</groupId>\n",
    "    <artifactId>jackson-datatype-jsr310</artifactId>\n",
    "    <version>2.12.1</version>\n",
    "</dependency>\n"
   ]
  },
  {
   "cell_type": "markdown",
   "metadata": {},
   "source": [
    "Le contrôle de la sérialisation/désérialisation se fait principalement par annotation des entités. Les méthodes de sérialisation/désérialisations sont alors générées automatiquement. Il est possible de créer manuellement ces méthodes pour un contrôle plus précis. \n",
    "\n",
    "Les principales annotations sont données dans le tableau ci dessous et illustrées dans l'exemple suivant. \n",
    "\n",
    "|annotation|Description|\n",
    "|---|---|\n",
    "|`@JsonProperty` |contrôle le nom d'une propriété.|\n",
    "|`@JsonRootName` |défini les nom d'un élément \"wrapper\", doit être activée dans l'objectMapper.|\n",
    "|`@JsonPropertyOrder` |défini l'ordre des propriétés. |\n",
    "|`@JsonRawValue` |indique qu'une propriété contient du JSON et doit être utilisée sans conversion.|\n",
    "|`@JsonValue` |indique la seule méthode qui retourne le contenu à serialiser.  Nécessite un constructeur avec un paramètre du même type pour la désérialisation.|\n",
    "|`@JsonIgnore` (sur une propriété) |pour ignorer une ou plusieurs propriété.|\n",
    "|`@JsonIgnoreProperties` (sur la classe) |pour ignorer une ou plusieurs propriété. |\n",
    "|`@JsonIgnoreType` (sur la classe) | permet d'ignorer toutes les propriétés d'un type donné.|\n",
    "|`@JsonUnwrapped` | inclut directement les propriétés d'un objet dans la classe qui le référence. |\n",
    "|`@JsonInclude` |permet d'inclure ou d'ignorer les propriétés dont la valeur est nulle, vide ou celle par défaut.|\n",
    "\n",
    "\n",
    "Pour les types polymorphes des annotations spécifiques pour les classes qui permettent d'indiquer comment le type est indiqué (`@JsonTypeInfo`), quels sont les sous-types (`@JsonSubTypes`) et le nom donné à chaque type (`@JsonTypeName`).\n",
    "\n",
    "`@JsonView(XXX.class)` définit des vues différentes qui peuvent être choisir dans l'objectmapper.\n"
   ]
  },
  {
   "cell_type": "code",
   "execution_count": null,
   "metadata": {},
   "outputs": [],
   "source": [
    "import java.util.List;\n",
    "import java.time.LocalDateTime;\n",
    "import java.util.ArrayList;\n",
    "import com.fasterxml.jackson.annotation.*;\n",
    "    \n",
    "public class View {\n",
    "    public static class Minimal {}\n",
    "    public static class Complete extends Minimal {}\n",
    "}\n",
    "\n",
    "@JsonTypeInfo(include = JsonTypeInfo.As.WRAPPER_OBJECT, use = JsonTypeInfo.Id.NAME)\n",
    "@JsonTypeName(\"Task\")\n",
    "@JsonPropertyOrder({ \"id\", \"state\", \"title\", \"description\", \"tags\"})\n",
    "@JsonIgnoreProperties({\"age\"})\n",
    "@JsonInclude(JsonInclude.Include.NON_EMPTY)\n",
    "public class Task {\n",
    "   private long id=-1;\n",
    "\n",
    "   private String title;\n",
    "\n",
    "   @JsonProperty(\"status\")\n",
    "   private State state=State.OPENED;\n",
    "   \n",
    "   @JsonIgnore\n",
    "   private int age = -1;\n",
    "        \n",
    "   private List<String> tags; \n",
    " \n",
    "   @JsonView(View.Complete.class)\n",
    "   private Description description = new Description(\"\"); \n",
    "    \n",
    "   protected Task() {} \n",
    "   public Task(long id, String title, State state, List<String> tags) {\n",
    "       this.id=id; this.title=title; this.state=state; this.tags = tags;\n",
    "       }  \n",
    "    \n",
    "   @JsonFormat(\n",
    "      shape = JsonFormat.Shape.STRING,\n",
    "      pattern = \"yyyy-MM-dd@HH:mm:ss\")\n",
    "   public LocalDateTime creationDate =  LocalDateTime.now();\n",
    "    \n",
    "   public String toString() {return \"Task {id=\"+id+\",title='\"+title+\"',status='\"+state+\", tags='\"+tags+\"', description='\"+description+\"'}\";}\n",
    "    \n",
    " public enum State {\n",
    "    OPENED, \n",
    "    CLOSED\n",
    " }\n",
    " \n",
    "//@JsonTypeInfo(include = JsonTypeInfo.As.WRAPPER_OBJECT, use = JsonTypeInfo.Id.NAME)\n",
    "@JsonTypeName(\"Description\")\n",
    "@JsonInclude(JsonInclude.Include.NON_EMPTY)\n",
    "public static class Description {\n",
    "     @JsonValue \n",
    "     private String content;\n",
    "     public String toString() {return content;}\n",
    "     public Description(String content) {\n",
    "         this.content=content;\n",
    "     }\n",
    " }\n",
    "    \n",
    "}\n",
    "\n"
   ]
  },
  {
   "cell_type": "markdown",
   "metadata": {},
   "source": [
    "La sérialisation/désérialisation est réalisée à l'aide d'une classe appelée ObjectMapper. Dans le cas de JAX-RS cette opération sera réalisée automatiquement par le framework."
   ]
  },
  {
   "cell_type": "code",
   "execution_count": null,
   "metadata": {},
   "outputs": [],
   "source": [
    "import com.fasterxml.jackson.databind.ObjectMapper;\n",
    "import com.fasterxml.jackson.annotation.JsonAutoDetect.Visibility;\n",
    "import com.fasterxml.jackson.databind.SerializationFeature;\n",
    "\n",
    "Task[] tasks = {new Task(1L, \"First task\", Task.State.OPENED, Arrays.asList(\"important\",\"outside\")),\n",
    "            new Task(2L, \"Second task\", Task.State.OPENED, Arrays.asList(\"optionnal\"))};\n",
    "\n",
    "ObjectMapper objectMapper = new ObjectMapper()\n",
    "    \n",
    "    //Only needed because task doesn't have getters.\n",
    "    .setVisibility(PropertyAccessor.FIELD, Visibility.ANY)\n",
    "\n",
    "    //Optionnal : wrap elements (see @JsonRootName)\n",
    "    //.enable(SerializationFeature.WRAP_ROOT_VALUE)\n",
    "\n",
    "    //Optionnal : pretty print the result.\n",
    "    .enable(SerializationFeature.INDENT_OUTPUT)\n",
    "\n",
    "    //Register jackson modules like date \n",
    "    .findAndRegisterModules();\n",
    "\n",
    "    //.writerWithView(View.Minimal.class);\n",
    "    //.writerWithView(View.Complete.class);\n",
    "\n",
    "\n",
    "String taskAsString = \n",
    "    objectMapper\n",
    "      //Choose or view (or none)\n",
    "    //.writerWithView(View.Minimal.class)\n",
    "      //.writerWithView(View.Complete.class)\n",
    "    //writes to a file  \n",
    "      //.writeValue(new File(\"task.json\"), tasks)\n",
    "    //or returns a String\n",
    "      .writeValueAsString(tasks);\n",
    "\n",
    "//Render the formatted result in the notebook\n",
    "render(\"```json\\n\"+taskAsString+\"\\n```\", \"text/markdown\");"
   ]
  },
  {
   "cell_type": "markdown",
   "metadata": {},
   "source": [
    "La construction d'une object Java depuis JSON est très simple avec la methode `readValue` de `ObjectMapper`."
   ]
  },
  {
   "cell_type": "code",
   "execution_count": null,
   "metadata": {},
   "outputs": [],
   "source": [
    "String jsonString=\"\"\"\n",
    "{\n",
    "  \"Task\" : {\n",
    "    \"id\" : 3,\n",
    "    \"status\" : \"CLOSED\",\n",
    "    \"title\" : \"Another task\",\n",
    "    \"description\" : \"inutile\",\n",
    "    \"tags\" : [ \"spare-time\", \"fun\"],\n",
    "    \"creationDate\" : \"2021-02-23@04:06:37\"\n",
    "  }\n",
    "}    \n",
    "\"\"\";\n",
    "    \n",
    "objectMapper.readValue(jsonString, Task.class);"
   ]
  },
  {
   "cell_type": "markdown",
   "metadata": {},
   "source": [
    "Jackson propose une gestion simple des références qui prend en compte les cycles. Dans notre exemple, si une tâche est associée à un utilisateur qui référence aussi toutes ses tâches, il y a une boucle infinie lors de la sérialisation. Une solution consiste à utiliser dans au moins l'un des deux l'indentifiant de l'autre.\n",
    "\n",
    "L'annotation `@JsonIdentityInfo` permet de définir la solution pour identifier les instances d'une classe.  Elle est alors utilisée automatiquement quand cela est nécessaire.\n",
    "\n",
    "`@JsonIdentityReference(alwaysAsId = true)` permet de contrôler l'usage de l'identifiant (ici de le rendre systématique).\n",
    "\n",
    "`@JsonBackReference` et `@JsonManagedReference` pour les références unidirectionnelles."
   ]
  },
  {
   "cell_type": "code",
   "execution_count": null,
   "metadata": {},
   "outputs": [],
   "source": [
    "//BEGIN NOT NEED IN REAL JAVA\n",
    "//Temporary User & Task class déclaration because forward declaration in JShell does not work with annotations\n",
    "public class User{};\n",
    "public class Task{};\n",
    "//END OF NOT NEED IN REAL JAVA    \n",
    "\n",
    "@JsonTypeName(value = \"Data\")\n",
    "@JsonIdentityInfo(\n",
    "  generator = ObjectIdGenerators.PropertyGenerator.class,\n",
    "  property = \"uuid\")\n",
    "\n",
    "@JsonTypeInfo(//use = JsonTypeInfo.Id.CLASS, //Use the class\n",
    "              use = JsonTypeInfo.Id.NAME,  //or use the name\n",
    "              //property = \"@class\",\n",
    "              include = JsonTypeInfo.As.PROPERTY            \n",
    "              )\n",
    "@JsonSubTypes({\n",
    "        @JsonSubTypes.Type(value = User.class, name = \"User\"),\n",
    "        @JsonSubTypes.Type(value = Task.class, name = \"Task\")\n",
    "    })\n",
    "public class Data {\n",
    "    protected UUID uuid = UUID.randomUUID();   \n",
    "    public String toString() {return \"User {uuid=\"+uuid+\"'}\";}    \n",
    "}\n",
    "\n",
    "@JsonTypeName(value = \"User\")\n",
    "public class User extends Data {\n",
    "    private String name;\n",
    "    \n",
    "    @JsonIdentityReference(alwaysAsId = true)    \n",
    "    private List<Task> tasks = new ArrayList<>();\n",
    "    public void addTask(Task task) {tasks.add(task);}\n",
    "    public List<Task> getTasks() {return tasks;}\n",
    "    \n",
    "    protected User() {};\n",
    "    public User(String name) {this.name = name;}\n",
    "    public String toString() {return \"User {uuid=\"+uuid+\",name='\"+name+\"'}\";}    \n",
    "}\n",
    "\n",
    "@JsonTypeName(value = \"Task\")\n",
    "public class Task extends Data {\n",
    "    private String title;\n",
    "    \n",
    "    @JsonIdentityReference(alwaysAsId = true)    \n",
    "    private User owner;\n",
    "    \n",
    "    protected Task() {};\n",
    "    @JsonCreator\n",
    "    public Task(@JsonProperty(\"title\") String title, @JsonProperty(\"owner\") User owner) {        \n",
    "        this.title = title; this.owner = owner;\n",
    "        owner.addTask(this);\n",
    "        //System.out.println(\"'Task Constructor Called: ' \"+title+\" \"+owner+\" \"+owner.getTasks());\n",
    "    }\n",
    "    public void setOwner(User owner) {\n",
    "        this.owner = owner;\n",
    "        owner.addTask(this);\n",
    "    }\n",
    "    \n",
    "    public String toString() {return \"Task {uuid=\"+uuid+\",title='\"+title+\"'}\";}\n",
    "}\n",
    "\n"
   ]
  },
  {
   "cell_type": "code",
   "execution_count": null,
   "metadata": {
    "tags": []
   },
   "outputs": [],
   "source": [
    "User user1 = new User(\"John\");\n",
    "Task task1 = new Task(\"T1\",user1);\n",
    "Task task2 = new Task(\"T2\",user1);\n",
    "\n",
    "List<Data> dataList = Arrays.asList(user1, task1, task2); \n",
    "Data[] dataArray = new Data[]{user1, task1, task2}; \n",
    "\n",
    "ObjectMapper objectMapper = new ObjectMapper()\n",
    "    .setVisibility(PropertyAccessor.FIELD, Visibility.ANY)\n",
    "    .enable(SerializationFeature.INDENT_OUTPUT)\n",
    "    .findAndRegisterModules();\n",
    "\n",
    "String result = objectMapper.writeValueAsString(dataArray);\n",
    "\n",
    "render(\"```json\\n\"+result+\"\\n```\", \"text/markdown\");"
   ]
  },
  {
   "cell_type": "markdown",
   "metadata": {},
   "source": [
    "La lecture de données JSON se fait de la même manière. Attention, pour le lien bidirectionnel il ne doit pas apparaitre deux fois (dans User et dans Task) sinon les données sont ajoutées en double."
   ]
  },
  {
   "cell_type": "code",
   "execution_count": null,
   "metadata": {},
   "outputs": [],
   "source": [
    "//We read the JSON String to produce Java Objects\n",
    "Data[] data2 = objectMapper.readValue(\"\"\"\n",
    "[ {\n",
    "  \"@type\" : \"User\",\n",
    "  \"uuid\" : \"487d6096-7608-11eb-9439-0242ac130002\",\n",
    "  \"name\" : \"Mary\"\n",
    "}, {\n",
    "  \"@type\" : \"Task\",\n",
    "  \"uuid\" : \"5ba90634-7608-11eb-9439-0242ac130002\",\n",
    "  \"title\" : \"TM1\",\n",
    "  \"owner\" : \"487d6096-7608-11eb-9439-0242ac130002\"\n",
    "}, {\n",
    "  \"@type\" : \"Task\",\n",
    "  \"uuid\" : \"69b64aa2-7608-11eb-9439-0242ac130002\",\n",
    "  \"title\" : \"TM2\",\n",
    "  \"owner\" : \"487d6096-7608-11eb-9439-0242ac130002\"\n",
    "} ]\"\"\", Data[].class);\n",
    "\n",
    "//We produce JSON from the generated Java objects.                                      \n",
    "String result = objectMapper.writeValueAsString(data2);\n",
    "                                      \n",
    "render(\"```json\\n\"+result+\"\\n```\", \"text/markdown\");                               "
   ]
  },
  {
   "cell_type": "markdown",
   "metadata": {},
   "source": [
    "Pour aller plus loin, JSON n'est en fait pas un standard du Web et donc chaque format est \"propriétaire\". [JSON-LD](https://json-ld.org/) qui s'appuie sur JSON pour représenter des données sémantiques sur le Web est une meilleure solution. Pour être, complètement compatible avec l'approche HATEOS, Un vocabulaire spécifique pour les API RESGT construit au dessus de JSON-LD appelé [Hydra](http://www.hydra-cg.com/spec/latest/core/) est en cours de définition. LE site [schemas.org](https://schema.org/docs/schemas.html) propose de standardiser des schémas courants."
   ]
  },
  {
   "cell_type": "markdown",
   "metadata": {},
   "source": [
    "#### Autres formats\n",
    "Par curiosité, Jackson propose aussi d'autres formats comme YAML."
   ]
  },
  {
   "cell_type": "code",
   "execution_count": null,
   "metadata": {},
   "outputs": [],
   "source": [
    "%%loadFromPOM\n",
    "<dependency>\n",
    " <groupId>com.fasterxml.jackson.dataformat</groupId>\n",
    " <artifactId>jackson-dataformat-yaml</artifactId>\n",
    " <version>2.12.1</version>\n",
    "</dependency>"
   ]
  },
  {
   "cell_type": "code",
   "execution_count": null,
   "metadata": {},
   "outputs": [],
   "source": [
    "import com.fasterxml.jackson.dataformat.yaml.YAMLFactory;\n",
    "\n",
    "ObjectMapper objectMapperYAML = new ObjectMapper(new YAMLFactory())\n",
    "    .setVisibility(PropertyAccessor.FIELD, Visibility.ANY)\n",
    "    .enable(SerializationFeature.INDENT_OUTPUT)\n",
    "    .findAndRegisterModules();\n",
    "\n",
    "String result = objectMapperYAML.writeValueAsString(data2);\n",
    "render(\"```yaml\\n\"+result+\"\\n```\", \"text/markdown\");"
   ]
  },
  {
   "cell_type": "markdown",
   "metadata": {},
   "source": [
    "### Les paramètres complexes dans les corps de requêtes \n",
    "Les conversions sont aussi automatiques dans l'autre sens quand des données (XML, JSON, ...) sont envoyées dans le corps d'une requête HTTP (par exemple PUT ou POT) pour être utilisée simplement comme un parametre Java de la méthode. Les méthodes qui nécessitent des paramètres sont annotées avec `@Consumes(type[, type, …])` pour indiquer les types mime supportés. \n",
    "\n",
    "L'annotation @Consummes de la méthode `addAuthor()` ci-dessous indique ce qui est possible et l'entete http `Content-Type` de la requête ce qui est envoyé. Noter que l'Id n'est pas indiqué dans la requête mais que l'entité complète est retournée. "
   ]
  },
  {
   "cell_type": "code",
   "execution_count": null,
   "metadata": {},
   "outputs": [],
   "source": [
    "%%javasrcMethodByName AuthorResource addAuthor\n",
    "/home/jovyan/work/src/jaxrs/sample-jaxrs/src/main/java/fr/univtln/bruno/samples/jaxrs/resources/AuthorResource.java"
   ]
  },
  {
   "cell_type": "markdown",
   "metadata": {},
   "source": [
    "Adds an author :"
   ]
  },
  {
   "cell_type": "code",
   "execution_count": null,
   "metadata": {},
   "outputs": [],
   "source": [
    "%%shell\n",
    "curl -s -i -H \"Accept: application/json\"  \\\n",
    "  -H \"Content-type: application/json\"  \\\n",
    "  -X POST \\\n",
    "  -d '{\"name\":\"John\",\"firstname\":\"Smith\",\"biography\":\"My life\"}' \\\n",
    "   http://localhost:9998/mylibrary/authors"
   ]
  },
  {
   "cell_type": "markdown",
   "metadata": {},
   "source": [
    "La méthode `updateAuteur` est appelée par un PUT mais avec une resource précise (indiquée dans l'URL) à mettre à jour."
   ]
  },
  {
   "cell_type": "code",
   "execution_count": null,
   "metadata": {},
   "outputs": [],
   "source": [
    "%%javasrcMethodByName AuthorResource updateAuthor\n",
    "/home/jovyan/work/src/jaxrs/sample-jaxrs/src/main/java/fr/univtln/bruno/samples/jaxrs/resources/AuthorResource.java"
   ]
  },
  {
   "cell_type": "markdown",
   "metadata": {},
   "source": [
    "Fully update an author"
   ]
  },
  {
   "cell_type": "code",
   "execution_count": null,
   "metadata": {},
   "outputs": [],
   "source": [
    "%%shell\n",
    "curl -s -i -H \"Accept: application/json\"  \\\n",
    "  -H \"Content-type: application/json\"  \\\n",
    "  -X PUT \\\n",
    "  -d '{\"name\":\"Martin\",\"firstname\":\"Jean\",\"biography\":\"ma vie\"}' \\\n",
    "  http://localhost:9998/mylibrary/authors/1"
   ]
  },
  {
   "cell_type": "markdown",
   "metadata": {
    "slideshow": {
     "slide_type": "slide"
    },
    "tags": []
   },
   "source": [
    "### La suppression\n",
    "La suppression des ressources se fait avec les approches précédentes."
   ]
  },
  {
   "cell_type": "code",
   "execution_count": null,
   "metadata": {},
   "outputs": [],
   "source": [
    "%%javasrcMethodByName AuthorResource removeAuthor\n",
    "/home/jovyan/work/src/jaxrs/sample-jaxrs/src/main/java/fr/univtln/bruno/samples/jaxrs/resources/AuthorResource.java"
   ]
  },
  {
   "cell_type": "markdown",
   "metadata": {},
   "source": [
    "Removes one author :"
   ]
  },
  {
   "cell_type": "code",
   "execution_count": null,
   "metadata": {
    "slideshow": {
     "slide_type": "skip"
    },
    "tags": []
   },
   "outputs": [],
   "source": [
    "%%shell\n",
    "curl -s -i -X DELETE \\\n",
    "    http://localhost:9998/mylibrary/authors/1"
   ]
  },
  {
   "cell_type": "code",
   "execution_count": null,
   "metadata": {},
   "outputs": [],
   "source": [
    "%%javasrcMethodByName AuthorResource removeAuthors\n",
    "/home/jovyan/work/src/jaxrs/sample-jaxrs/src/main/java/fr/univtln/bruno/samples/jaxrs/resources/AuthorResource.java"
   ]
  },
  {
   "cell_type": "markdown",
   "metadata": {},
   "source": [
    "Removes all authors"
   ]
  },
  {
   "cell_type": "code",
   "execution_count": null,
   "metadata": {},
   "outputs": [],
   "source": [
    "%%shell\n",
    "curl -s -i -X DELETE \\\n",
    "    http://localhost:9998/mylibrary/authors/"
   ]
  },
  {
   "cell_type": "markdown",
   "metadata": {},
   "source": [
    "Reset the database with two authors"
   ]
  },
  {
   "cell_type": "code",
   "execution_count": null,
   "metadata": {},
   "outputs": [],
   "source": [
    "%%shell\n",
    "curl -s -i -X PUT http://localhost:9998/mylibrary/library/init"
   ]
  },
  {
   "cell_type": "markdown",
   "metadata": {},
   "source": [
    "### Les liens sémantiques\n",
    "Les liens sémantiques entre les resources peuvent être réprésentés à l'aide d'URLs de façon standard ((RFC8288)[https://tools.ietf.org/html/rfc8288]). Une liste complète est données sur le site de l'IANA : https://www.iana.org/assignments/link-relations/link-relations.xhtml. Les plus classiquement utilisé avec REST sont self, first, previous, next et last. Pour simplifier l'usage de l'API ces liens peuvent être fournis dans l'entête d'une réponse http et/ou dans le corps de la réponse (par exemple lors de la pagination).\n",
    "```http\n",
    "Link: <http://MyServer:8080/MyApp/Persons/1>; rel=\"first-person\", <http://MyServer:8080/MyApp/Persons/10>; rel=\"next-person\", <http://MyServer:8080/MyApp/Persons/8>; rel=\"previous-person\", <http://MyServer:8080/MyApp/Persons/90>; rel=\"last-person\"\n",
    "```"
   ]
  },
  {
   "cell_type": "markdown",
   "metadata": {},
   "source": [
    "### Etendre JAX-RS avec les Providers"
   ]
  },
  {
   "cell_type": "markdown",
   "metadata": {
    "tags": []
   },
   "source": [
    "D'une façon générale une classe annotée par `@Provider` ajoute des fonctions à JAXRS (traitement des exceptions, conversion des données, ...)."
   ]
  },
  {
   "cell_type": "markdown",
   "metadata": {
    "slideshow": {
     "slide_type": "slide"
    },
    "tags": []
   },
   "source": [
    "#### Les mappers : application aux exceptions\n",
    "Le traitement des exceptions peut être simplifié en utilisant des mappers (cf. package exceptions et mapper) qui s'appliquent automatiquement lors qu'une exception est émise. Dans ce cas un objet Response est construit manuellement pour contrôler le détail du corps et de l'entête. "
   ]
  },
  {
   "cell_type": "code",
   "execution_count": null,
   "metadata": {},
   "outputs": [],
   "source": [
    "%%javasrcClassByName NotFoundException\n",
    "/home/jovyan/work/src/jaxrs/sample-jaxrs/src/main/java/fr/univtln/bruno/samples/jaxrs/exceptions/NotFoundException.java"
   ]
  },
  {
   "cell_type": "code",
   "execution_count": null,
   "metadata": {},
   "outputs": [],
   "source": [
    "%%javasrcClassByName BusinessExceptionMapper\n",
    "/home/jovyan/work/src/jaxrs/sample-jaxrs/src/main/java/fr/univtln/bruno/samples/jaxrs/mappers/BusinessExceptionMapper.java"
   ]
  },
  {
   "cell_type": "markdown",
   "metadata": {},
   "source": [
    "If a resource doesn't exist an exception is raised, and the 404 http status code is returned"
   ]
  },
  {
   "cell_type": "code",
   "execution_count": null,
   "metadata": {
    "slideshow": {
     "slide_type": "fragment"
    },
    "tags": []
   },
   "outputs": [],
   "source": [
    "%%shell\n",
    "curl -s -i -H \"Accept: application/json\"  \\\n",
    "  http://localhost:9998/mylibrary/authors/1000"
   ]
  },
  {
   "cell_type": "markdown",
   "metadata": {},
   "source": [
    "#### Les filtres : application au statut et à la pagination"
   ]
  },
  {
   "cell_type": "code",
   "execution_count": null,
   "metadata": {},
   "outputs": [],
   "source": [
    "%%javasrcClassByName StatusFilter\n",
    "/home/jovyan/work/src/jaxrs/sample-jaxrs/src/main/java/fr/univtln/bruno/samples/jaxrs/status/StatusFilter.java"
   ]
  },
  {
   "cell_type": "code",
   "execution_count": null,
   "metadata": {},
   "outputs": [],
   "source": [
    "%%shell\n",
    "cat /home/jovyan/work/src/jaxrs/sample-jaxrs/src/main/java/fr/univtln/bruno/samples/jaxrs/status/Status.java"
   ]
  },
  {
   "cell_type": "markdown",
   "metadata": {},
   "source": [
    "Un exemple de filtre appliqué à la requête sera donné dans la partie sur la sécurité."
   ]
  },
  {
   "cell_type": "markdown",
   "metadata": {},
   "source": [
    "## Schéma d'une API REST\n",
    "  * [WSDL](https://www.w3.org/TR/wsdl/) un autre langage de service Web permet de décrire un tel [schéma](https://www.ibm.com/developerworks/webservices/library/ws-restwsdl/).\n",
    "  * Le langage [WADL](https://www.w3.org/Submission/wadl/) est spécifique à REST. \n",
    "  * Par défaut Jersey génére une description WADL `/application.wadl`\n",
    "  * Cependant, pour cela l'application nécessite une implantation du standard pour traiter les documents XML appelé [JAXB](https://eclipse-ee4j.github.io/jaxb-ri/) qui n'est plus fournie en standard dans le JDK depuis la version 8 (nous utilisons ici la version 15).\n",
    "\n",
    "Si JAXB est dans le classpath (cf. pom.xml) la génération d'une description WADL est automatique."
   ]
  },
  {
   "cell_type": "code",
   "execution_count": null,
   "metadata": {},
   "outputs": [],
   "source": [
    "%%shell\n",
    "curl -s -D - --get http://localhost:9998/mylibrary/application.wadl"
   ]
  },
  {
   "cell_type": "markdown",
   "metadata": {},
   "source": [
    "https://jakarta.ee/specifications/restful-ws/3.0/jakarta-restful-ws-spec-3.0.html#context\n"
   ]
  },
  {
   "cell_type": "markdown",
   "metadata": {},
   "source": [
    "## Une API Cliente\n",
    "La classe `fr.univtln.bruno.samples.jaxrs.client.BiblioClient` définit un client qui utilise l'API fluent cliente pour construire des requêtes REST en Java."
   ]
  },
  {
   "cell_type": "code",
   "execution_count": null,
   "metadata": {},
   "outputs": [],
   "source": [
    "%%javasrcClassByName BiblioClient\n",
    "/home/jovyan/work/src/jaxrs/sample-jaxrs/src/main/java/fr/univtln/bruno/samples/jaxrs/client/BiblioClient.java"
   ]
  },
  {
   "cell_type": "code",
   "execution_count": null,
   "metadata": {},
   "outputs": [],
   "source": [
    "%%shell \n",
    "cd /home/jovyan/work/src/jaxrs/sample-jaxrs\n",
    "mvn  -quiet -Dmain.class=\"fr.univtln.bruno.samples.jaxrs.client.BiblioClient\" exec:java"
   ]
  },
  {
   "cell_type": "markdown",
   "metadata": {},
   "source": [
    "## La sécurité\n",
    "\n",
    "Pour assurer la sécurité d'une API REST, la première chose à faire est d'assurer la confidentialité. Pour cela, il faut utiliser HTTPS qui utilise TLS pour permettre de valider l'identité du serveur et pour garantir la confidentialité et l'intégrité des données échangées en utilisant des certificats. \n",
    "\n",
    "Pour mettre cela en place, il est possible d'utiliser un \"reverse proxy\" (par exemple (nginx)[https://docs.nginx.com/nginx/admin-guide/web-server/reverse-proxy/]) qui lui sera sécurisé et servira de facade, le serveur REST n'étant jamais accessible autrement.\n",
    "\n",
    "L'autre solution est de sécuriser les serveurs web (dans notre exemple Java, Grizzly). Pour cela, il faut idéalement se procurer des certificats pour le serveurs signés par une autorité reconnue. Nous utiliserons ici des certificats auto-signés dans un but de démonstration uniquement.\n",
    "\n",
    "Le certificat du serveur est habituellement généré avec openssl, ici nous utilisons maven (`keytool-maven-plugin`) pour le générer automatiquement s'il n'existe pas déjà dans le répertoire `/src/jaxrs/sample-jaxrs/src/main/resources/ssl/`. Le certificat est automatiquement ajouté à un keystore Java dans le même répertoire (cert.jks).  \n",
    "\n",
    "Le serveur Grizzly est en écoute avec HTTP sur le port 9998 et en HTTPS sur le port 4443.\n",
    "\n",
    "Cette méthode ajoute aussi le support de HTTP2 qui améliore grandement les performances."
   ]
  },
  {
   "cell_type": "markdown",
   "metadata": {},
   "source": [
    "### TLS avec Grizzly"
   ]
  },
  {
   "cell_type": "code",
   "execution_count": null,
   "metadata": {},
   "outputs": [],
   "source": [
    "%%javasrcMethodByName BiblioServer addTLSandHTTP2\n",
    "/home/jovyan/work/src/jaxrs/sample-jaxrs/src/main/java/fr/univtln/bruno/samples/jaxrs/server/BiblioServer.java"
   ]
  },
  {
   "cell_type": "markdown",
   "metadata": {},
   "source": [
    "On commence donc par activer TLS. On en profite pour activer aussi le support de HTTP2."
   ]
  },
  {
   "cell_type": "code",
   "execution_count": null,
   "metadata": {},
   "outputs": [],
   "source": [
    "BiblioServer.addTLSandHTTP2(httpServer);"
   ]
  },
  {
   "cell_type": "markdown",
   "metadata": {},
   "source": [
    "Pour tester les requêtes sécurisée avec un certificat autosigné il faut d'abord le télécharger (ici avec la commande curl). Il sera ensuite utilisé pour valider l'indentité du serveur web."
   ]
  },
  {
   "cell_type": "code",
   "execution_count": null,
   "metadata": {},
   "outputs": [],
   "source": [
    "%%shell\n",
    "echo quit | openssl s_client -showcerts -servername localhost -connect localhost:4443 >! /tmp/cacert.pem\n",
    "curl --trace-ascii - --http2 --cacert /tmp/cacert.pem https://localhost:4443/mylibrary/library"
   ]
  },
  {
   "cell_type": "markdown",
   "metadata": {},
   "source": [
    "### Authentification"
   ]
  },
  {
   "cell_type": "markdown",
   "metadata": {},
   "source": [
    "Il faut mettre en place une gestion correcte des utilisateurs (login+mots de passe hashés correctement). Cela pourra être complété/remplacé par des certificats ou une délégation d'authentification."
   ]
  },
  {
   "cell_type": "code",
   "execution_count": null,
   "metadata": {},
   "outputs": [],
   "source": [
    "fr.univtln.bruno.samples.jaxrs.security.InMemoryLoginModule.USER_DATABASE.getUsers()"
   ]
  },
  {
   "cell_type": "markdown",
   "metadata": {},
   "source": [
    "### Autorisation"
   ]
  },
  {
   "cell_type": "markdown",
   "metadata": {},
   "source": [
    "L'Autorisation est cruciale, elle peut s'appuyer un token qui est fourni par le système lors d'un login et a une durée de vie limitée.\n",
    "Ce token est envoyé avec chaque requête et le système lui attribue un ensemble de permission. \n",
    "\n",
    "Un autre approche est d'utiliser un token cryptographique qui contient ces informations et qui est signée par le serveur. \n",
    "\n",
    "Par exemple avec les [JSON Web Token - JWT](https://jwt.io/) qui présente en détail le processus type. \n",
    "\n",
    "Dans ces exemples, nous utiliserons la librairies Java  [JJWT](https://github.com/jwtk/jjwt).\n",
    "\n",
    "Voilà des exemples d'utilisations simples.\n",
    "\n",
    "**Accès refusé à une ressource sécurisée.**"
   ]
  },
  {
   "cell_type": "code",
   "execution_count": null,
   "metadata": {},
   "outputs": [],
   "source": [
    "%%shell\n",
    "curl -s -i --http2 --cacert /tmp/cacert.pem -H \"Accept: application/json\" \"https://localhost:4443/mylibrary/setup/secured\""
   ]
  },
  {
   "cell_type": "markdown",
   "metadata": {},
   "source": [
    "**Utilisation de la \"Basic Authentication\" pour obtenir un Java Web Token.**"
   ]
  },
  {
   "cell_type": "code",
   "execution_count": null,
   "metadata": {},
   "outputs": [],
   "source": [
    "%%shell\n",
    "curl -is --http2 --cacert /tmp/cacert.pem  --user \"john.doe@nowhere.com:admin\" \"https://localhost:4443/mylibrary/setup/login\""
   ]
  },
  {
   "cell_type": "markdown",
   "metadata": {},
   "source": [
    "***Décodage d'un JWT***\n",
    "\n",
    "Il suffit de faire une requête rest et d'en obtenir un."
   ]
  },
  {
   "cell_type": "code",
   "execution_count": null,
   "metadata": {},
   "outputs": [],
   "source": [
    "import jakarta.ws.rs.client.Client;\n",
    "import jakarta.ws.rs.client.WebTarget;\n",
    "import jakarta.ws.rs.client.ClientBuilder;\n",
    "\n",
    "Client client = ClientBuilder.newClient();\n",
    "WebTarget webResource = client.target(\"http://localhost:9998/mylibrary\");\n",
    "String email = \"john.doe@nowhere.com\";\n",
    "String passwd = \"admin\";\n",
    "String token = webResource.path(\"setup/login\")\n",
    "                .request()\n",
    "//                .accept(MediaType.TEXT_PLAIN)\n",
    "                .header(\"Authorization\", \"Basic \" + java.util.Base64.getEncoder().encodeToString((email + \":\" + passwd).getBytes()))\n",
    "                .get(String.class);\n",
    "token;"
   ]
  },
  {
   "cell_type": "markdown",
   "metadata": {},
   "source": [
    "puis en utilisant la clé publique (dans cette exemple simple ont y accède directement côté serveur), il est possible de vérifier les informations. Ici le choix a été fait d'utiliser une approche RBAC (Role Based Access Control) embarquée dans le token qui cumule donc authentification et autorisation. Cela rend le système très simple mais à comme conséquence de faire qu'un change de droit n'est appliqué qu'à la fin de la durée de vie du token."
   ]
  },
  {
   "cell_type": "code",
   "execution_count": null,
   "metadata": {},
   "outputs": [],
   "source": [
    "import io.jsonwebtoken.Claims;\n",
    "import io.jsonwebtoken.Jws;\n",
    "import io.jsonwebtoken.Jwts;\n",
    "\n",
    "import fr.univtln.bruno.samples.jaxrs.security.InMemoryLoginModule;\n",
    "\n",
    "Jws<Claims> jws = Jwts.parserBuilder()\n",
    "    .setSigningKey(InMemoryLoginModule.KEY)\n",
    "    .build()\n",
    "    .parseClaimsJws(token);\n",
    "jws;"
   ]
  },
  {
   "cell_type": "markdown",
   "metadata": {},
   "source": [
    "**Utilisation d'un Java Web Token.**\n",
    "Le token peut donc être transmis au serveur qui le vérifie et l'utilise pour l'authentification voir l'autorisation.\n",
    "Ici l'accès à une ressource qui demande d'être user ou admin est autorisé à un admin."
   ]
  },
  {
   "cell_type": "code",
   "execution_count": null,
   "metadata": {},
   "outputs": [],
   "source": [
    "%%shell\n",
    "TOKEN=$(curl -s --http2 --cacert /tmp/cacert.pem --user \"john.doe@nowhere.com:admin\" \"https://localhost:4443/mylibrary/setup/login\")\n",
    "curl -s -i --http2 --cacert /tmp/cacert.pem -H \"Authorization: Bearer $TOKEN\" \"https://localhost:4443/mylibrary/setup/secured\"    "
   ]
  },
  {
   "cell_type": "markdown",
   "metadata": {},
   "source": [
    "tout comme l'accès à une ressource qui demande d'être admin est autorisé à un admin."
   ]
  },
  {
   "cell_type": "code",
   "execution_count": null,
   "metadata": {},
   "outputs": [],
   "source": [
    "%%shell\n",
    "TOKEN=$(curl -s --http2 --cacert /tmp/cacert.pem --user \"john.doe@nowhere.com:admin\" \"https://localhost:4443/mylibrary/setup/login\")\n",
    "curl -s -i --http2 --cacert /tmp/cacert.pem -H \"Authorization: Bearer $TOKEN\" \"https://localhost:4443/mylibrary/setup/secured/admin\"        "
   ]
  },
  {
   "cell_type": "markdown",
   "metadata": {},
   "source": [
    "L'accès à une ressource qui demande d'être user ou admin est autorisé à un user."
   ]
  },
  {
   "cell_type": "code",
   "execution_count": null,
   "metadata": {},
   "outputs": [],
   "source": [
    "%%shell\n",
    "TOKEN=$(curl -s --http2 --cacert /tmp/cacert.pem --user \"william.smith@here.net:user\" \"https://localhost:4443/mylibrary/setup/login\")\n",
    "curl -i -s --http2 --cacert /tmp/cacert.pem -H \"Authorization: Bearer $TOKEN\" \"https://localhost:4443/mylibrary/setup/secured\""
   ]
  },
  {
   "cell_type": "markdown",
   "metadata": {},
   "source": [
    "mais l'accès à une ressource qui demande d'être admin est refusée à un user."
   ]
  },
  {
   "cell_type": "code",
   "execution_count": null,
   "metadata": {},
   "outputs": [],
   "source": [
    "%%shell\n",
    "TOKEN=$(curl -s --user \"william.smith@here.net:user\" \"https://localhost:4443/mylibrary/setup/login\")\n",
    "curl -s -i --http2 --cacert /tmp/cacert.pem -H \"Authorization: Bearer $TOKEN\" \"https://localhost:4443/mylibrary/setup/secured/admin\""
   ]
  },
  {
   "cell_type": "markdown",
   "metadata": {},
   "source": [
    "L'application exemple présente en détail comme un filtre JAX-RS et des annotations peuvent être utilisé pour appliquer une politique de contrôle d'accès."
   ]
  },
  {
   "cell_type": "code",
   "execution_count": null,
   "metadata": {},
   "outputs": [],
   "source": [
    "httpServer.stop();"
   ]
  },
  {
   "cell_type": "code",
   "execution_count": null,
   "metadata": {},
   "outputs": [],
   "source": []
  }
 ],
 "metadata": {
  "kernelspec": {
   "display_name": "Java [conda env:root] *",
   "language": "java",
   "name": "conda-root-java"
  },
  "language_info": {
   "codemirror_mode": "java",
   "file_extension": ".jshell",
   "mimetype": "text/x-java-source",
   "name": "Java",
   "pygments_lexer": "java",
   "version": "17+35"
  },
  "toc-autonumbering": false,
  "toc-showcode": false,
  "toc-showmarkdowntxt": false,
  "toc-showtags": false
 },
 "nbformat": 4,
 "nbformat_minor": 4
}
